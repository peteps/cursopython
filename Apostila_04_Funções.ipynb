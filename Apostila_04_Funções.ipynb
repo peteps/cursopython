{
  "nbformat": 4,
  "nbformat_minor": 0,
  "metadata": {
    "colab": {
      "name": "Cópia de Apostila - 04. Funções",
      "version": "0.3.2",
      "provenance": []
    },
    "kernelspec": {
      "name": "python3",
      "display_name": "Python 3"
    }
  },
  "cells": [
    {
      "cell_type": "markdown",
      "metadata": {
        "id": "N50nPKnvqIxY",
        "colab_type": "text"
      },
      "source": [
        "#FUNÇÕES\n",
        "\n",
        "Uma função é um **nome dado a uma sequência de instruções**. Elas são muito úteis, já que podem ser chamadas a qualquer momento. Então, quando precisamos executar o mesmo bloco de códigos para serem executados diversas vezes, podemos criar uma função que poderá ser utilizada quantas vezes precisarmos.\n",
        "\n"
      ]
    },
    {
      "cell_type": "markdown",
      "metadata": {
        "id": "VBLxqOhLf2jq",
        "colab_type": "text"
      },
      "source": [
        "------\n",
        "**SINTAXE** \n",
        "\n",
        "\n",
        "A sintaxe de uma função é composta por **nome**, **parâmetros** e **corpo**:\n",
        "\n",
        "\n",
        "\n",
        ">`def` *`nome`* `(paramêtros)`: \n",
        "\n",
        "\n",
        ">>`[corpo - comandos a serem executados]` \n",
        "---\n"
      ]
    },
    {
      "cell_type": "markdown",
      "metadata": {
        "id": "b8eWTUdhQ4iZ",
        "colab_type": "text"
      },
      "source": [
        "​\n",
        "A palavra reservada **`def`** é o que define uma função! \n",
        "​\n",
        "Toda função, por definição, tem um** nome**, pode receber** parâmetros** e pode retornar **valores**. "
      ]
    },
    {
      "cell_type": "code",
      "metadata": {
        "id": "YzSCGjVvuh_L",
        "colab_type": "code",
        "colab": {}
      },
      "source": [
        "def pessoa(nome):   #Começamos definindo a função (def), o nome dessa função é \"pessoa\". O parâmetro definido foi a variável \"nome\".\n",
        "  print (nome)      #O corpo dessa função é uma instrução para imprimir a variável \"nome\"."
      ],
      "execution_count": 0,
      "outputs": []
    },
    {
      "cell_type": "markdown",
      "metadata": {
        "id": "f1uxhL3o4g2d",
        "colab_type": "text"
      },
      "source": [
        "---\n",
        "\n",
        "**Atenção**: Fique atento na estrutura da função! Da mesma maneira que mostramos com as estruturas de repetição anteriormente, as funções também precisam da **identação** correta!\n",
        "  \n",
        "---"
      ]
    },
    {
      "cell_type": "markdown",
      "metadata": {
        "id": "hMQdWRQp6WFY",
        "colab_type": "text"
      },
      "source": [
        "E agora? Para executar a função, basta chamar o seu nome e passar, entre parênteses, o parâmetro que desejar.\n",
        "\n",
        "Lembre-se que não é suficiente apenas referenciar o nome da função. Para chamá-la, você precisa colocar os parênteses e, se houver, os parâmetros!\n",
        "\n"
      ]
    },
    {
      "cell_type": "code",
      "metadata": {
        "id": "gxSQvoOG_-AY",
        "colab_type": "code",
        "outputId": "f8446ed5-2828-49a4-ab97-ae2157dd2124",
        "colab": {
          "base_uri": "https://localhost:8080/",
          "height": 35
        }
      },
      "source": [
        "pessoa  #Apenas referenciar a função não adianta!"
      ],
      "execution_count": 0,
      "outputs": [
        {
          "output_type": "execute_result",
          "data": {
            "text/plain": [
              "<function __main__.pessoa>"
            ]
          },
          "metadata": {
            "tags": []
          },
          "execution_count": 3
        }
      ]
    },
    {
      "cell_type": "code",
      "metadata": {
        "id": "BV7FHNm1u63c",
        "colab_type": "code",
        "outputId": "6ff4ccd0-f5e9-4708-cae9-d2a69f1a8ce0",
        "colab": {
          "base_uri": "https://localhost:8080/",
          "height": 35
        }
      },
      "source": [
        "pessoa('Natália')  #Aqui \"invocamos\" a função, colocando o parâmetro entre parênteses."
      ],
      "execution_count": 0,
      "outputs": [
        {
          "output_type": "stream",
          "text": [
            "Natália\n"
          ],
          "name": "stdout"
        }
      ]
    },
    {
      "cell_type": "markdown",
      "metadata": {
        "id": "Ft9zFq2iAt2Z",
        "colab_type": "text"
      },
      "source": [
        "Podemos definir uma função com vários argumentos...\n"
      ]
    },
    {
      "cell_type": "code",
      "metadata": {
        "id": "RMwr9jcUA7xu",
        "colab_type": "code",
        "colab": {}
      },
      "source": [
        "def pessoa(nome, idade): \n",
        "  print ('{} tem {} anos'.format(nome, idade))      "
      ],
      "execution_count": 0,
      "outputs": []
    },
    {
      "cell_type": "code",
      "metadata": {
        "id": "qVwLTmssBavz",
        "colab_type": "code",
        "outputId": "4844caa2-080f-422c-e92f-04c051fd9063",
        "colab": {
          "base_uri": "https://localhost:8080/",
          "height": 35
        }
      },
      "source": [
        "pessoa('Natália', '20')"
      ],
      "execution_count": 0,
      "outputs": [
        {
          "output_type": "stream",
          "text": [
            "Natália tem 20 anos\n"
          ],
          "name": "stdout"
        }
      ]
    },
    {
      "cell_type": "markdown",
      "metadata": {
        "id": "LP3JtJwayULM",
        "colab_type": "text"
      },
      "source": [
        "...ou sem nenhum argumento!\n",
        "\n",
        "\n"
      ]
    },
    {
      "cell_type": "code",
      "metadata": {
        "id": "gtSzmxeeyYzS",
        "colab_type": "code",
        "colab": {}
      },
      "source": [
        "def olá():\n",
        "  print ('Oi, tudo bem?')"
      ],
      "execution_count": 0,
      "outputs": []
    },
    {
      "cell_type": "code",
      "metadata": {
        "id": "FWAMbacmyhRS",
        "colab_type": "code",
        "outputId": "fd7f85f9-ebb0-4435-ae39-6df8b650d990",
        "colab": {
          "base_uri": "https://localhost:8080/",
          "height": 35
        }
      },
      "source": [
        "olá()"
      ],
      "execution_count": 0,
      "outputs": [
        {
          "output_type": "stream",
          "text": [
            "Oi, tudo bem?\n"
          ],
          "name": "stdout"
        }
      ]
    },
    {
      "cell_type": "markdown",
      "metadata": {
        "id": "Ss6CBCPr3PXv",
        "colab_type": "text"
      },
      "source": [
        "E podemos fazer a função que quisermos:"
      ]
    },
    {
      "cell_type": "code",
      "metadata": {
        "id": "L1XU2VZYUUJ5",
        "colab_type": "code",
        "colab": {}
      },
      "source": [
        "def imprimir_quadrado(x):\n",
        "    print(x*x)"
      ],
      "execution_count": 0,
      "outputs": []
    },
    {
      "cell_type": "code",
      "metadata": {
        "id": "QchWB-n97pv3",
        "colab_type": "code",
        "outputId": "792ab41a-328d-4e1f-8530-0b44bae570a0",
        "colab": {
          "base_uri": "https://localhost:8080/",
          "height": 35
        }
      },
      "source": [
        "imprimir_quadrado(10)"
      ],
      "execution_count": 0,
      "outputs": [
        {
          "output_type": "stream",
          "text": [
            "100\n"
          ],
          "name": "stdout"
        }
      ]
    },
    {
      "cell_type": "markdown",
      "metadata": {
        "id": "J8NS61IS4u03",
        "colab_type": "text"
      },
      "source": [
        "Ao criar funções, é possível definir alguns **parâmetros obrigatórios** e outros **não obrigatórios**. No caso dos parâmetros não obrigatórios, nós definimos um valor padrão, que será assumido caso o parâmetro seja omitido no momento em que a função é chamada.\n",
        "\n",
        "**Por exemplo:**"
      ]
    },
    {
      "cell_type": "code",
      "metadata": {
        "id": "tJSZIqBi4uSf",
        "colab_type": "code",
        "colab": {}
      },
      "source": [
        "def pessoa2(nome, idade = 20): \n",
        "  print ('{} tem {} anos'.format(nome, idade))  "
      ],
      "execution_count": 0,
      "outputs": []
    },
    {
      "cell_type": "code",
      "metadata": {
        "id": "DTTOzCYT529V",
        "colab_type": "code",
        "outputId": "364f819b-4faf-426d-cf6c-ab310fc4147a",
        "colab": {
          "base_uri": "https://localhost:8080/",
          "height": 35
        }
      },
      "source": [
        "pessoa2('Maria', 19) #Aqui nós demos um valor para o parâmetro idade, então o valor padrão foi ignorado."
      ],
      "execution_count": 0,
      "outputs": [
        {
          "output_type": "stream",
          "text": [
            "Maria tem 19 anos\n"
          ],
          "name": "stdout"
        }
      ]
    },
    {
      "cell_type": "code",
      "metadata": {
        "id": "qs7Sdzad53I1",
        "colab_type": "code",
        "outputId": "75031f55-47ae-4bec-e0b1-3ddd1485fcc2",
        "colab": {
          "base_uri": "https://localhost:8080/",
          "height": 35
        }
      },
      "source": [
        "pessoa2('Maria') #Como não atribuimos um valor à idade, a função usou o valor padrão."
      ],
      "execution_count": 0,
      "outputs": [
        {
          "output_type": "stream",
          "text": [
            "Maria tem 20 anos\n"
          ],
          "name": "stdout"
        }
      ]
    },
    {
      "cell_type": "code",
      "metadata": {
        "id": "GZRBsHtv696Q",
        "colab_type": "code",
        "outputId": "9cfac97b-c7b7-429a-f09c-54fde1c3cead",
        "colab": {
          "base_uri": "https://localhost:8080/",
          "height": 171
        }
      },
      "source": [
        "pessoa2() #Note que o parâmetro nome ainda é obrigatório. Como ele não foi informado, a função não vai funcionar."
      ],
      "execution_count": 0,
      "outputs": [
        {
          "output_type": "error",
          "ename": "TypeError",
          "evalue": "ignored",
          "traceback": [
            "\u001b[0;31m\u001b[0m",
            "\u001b[0;31mTypeError\u001b[0mTraceback (most recent call last)",
            "\u001b[0;32m<ipython-input-45-f57f6b35c3ea>\u001b[0m in \u001b[0;36m<module>\u001b[0;34m()\u001b[0m\n\u001b[0;32m----> 1\u001b[0;31m \u001b[0mpessoa2\u001b[0m\u001b[0;34m(\u001b[0m\u001b[0;34m)\u001b[0m\u001b[0;34m\u001b[0m\u001b[0m\n\u001b[0m",
            "\u001b[0;31mTypeError\u001b[0m: pessoa2() takes at least 1 argument (0 given)"
          ]
        }
      ]
    },
    {
      "cell_type": "markdown",
      "metadata": {
        "id": "FlIwEB388WmM",
        "colab_type": "text"
      },
      "source": [
        "---\n",
        "\n",
        "Até aqui mostramos duas funções que são instruídas a \"imprimir\" um valor.\n",
        "Porém, existe a possibilidade de a função **produzir** resultados de saída e os **retornar**.\n",
        "\n",
        "\n",
        "Para isso, podemos utilizar o comando **`return`**.\n",
        "Lembre-se, ele sempre vai interromper a função, então, só o use no final da função!\n"
      ]
    },
    {
      "cell_type": "code",
      "metadata": {
        "id": "vqnginuHBpYV",
        "colab_type": "code",
        "colab": {}
      },
      "source": [
        "def quadrado(x):  \n",
        "    return x*x"
      ],
      "execution_count": 0,
      "outputs": []
    },
    {
      "cell_type": "code",
      "metadata": {
        "id": "yHcnX5Wi7tLQ",
        "colab_type": "code",
        "outputId": "769ba213-8d11-44d9-a5ae-e9dd61211265",
        "colab": {
          "base_uri": "https://localhost:8080/",
          "height": 35
        }
      },
      "source": [
        "quadrado(10)"
      ],
      "execution_count": 0,
      "outputs": [
        {
          "output_type": "execute_result",
          "data": {
            "text/plain": [
              "100"
            ]
          },
          "metadata": {
            "tags": []
          },
          "execution_count": 13
        }
      ]
    },
    {
      "cell_type": "markdown",
      "metadata": {
        "id": "tPJ9pz9f9xg8",
        "colab_type": "text"
      },
      "source": [
        "A diferença entre os dois exemplos anteriores é que a primeira função apenas imprime o valor do quadrado de x. Já a segunda função atribui o valor à função, o que significa que agora aquela função, para aquela variável, tem aquele valor. \n",
        "\n",
        "\n",
        "É meio abstrato, mas calma que a gente vai trabalhar isso um pouco melhor.\n",
        "\n",
        "\n",
        "Pra facilitar um pouco as coisas, tente enxergar o  <b> `print`</b>  como uma impressão de fato. Algo que foi impresso, uma \"imagem\".\n",
        "\n",
        "Já o return, você tem um valor atribuído à uma função. É a mesma lógica da matemática quando dizemos que f(x)=y.\n",
        "\n",
        "\n",
        "Pensando assim, faz sentido usar uma função com <b>`return` </b> em uma continha, mas não faz sentido fazer isso com uma função que comande um <b> `print`</b>.\n",
        "\n",
        "**Exemplificando:**"
      ]
    },
    {
      "cell_type": "code",
      "metadata": {
        "id": "raiYhE-KJAvn",
        "colab_type": "code",
        "outputId": "761bff35-68e2-40ec-e2ca-d315617e7112",
        "colab": {
          "base_uri": "https://localhost:8080/",
          "height": 207
        }
      },
      "source": [
        "imprimir_quadrado(10) + 1    # Confere com o que falamos acima: \n",
        "                              # não faz sentido fazer continha com uma \"impressão\""
      ],
      "execution_count": 0,
      "outputs": [
        {
          "output_type": "stream",
          "text": [
            "100\n"
          ],
          "name": "stdout"
        },
        {
          "output_type": "error",
          "ename": "TypeError",
          "evalue": "ignored",
          "traceback": [
            "\u001b[0;31m\u001b[0m",
            "\u001b[0;31mTypeError\u001b[0mTraceback (most recent call last)",
            "\u001b[0;32m<ipython-input-15-224011429fc7>\u001b[0m in \u001b[0;36m<module>\u001b[0;34m()\u001b[0m\n\u001b[0;32m----> 1\u001b[0;31m \u001b[0mimprimir_quadrado\u001b[0m\u001b[0;34m(\u001b[0m\u001b[0;36m10\u001b[0m\u001b[0;34m)\u001b[0m \u001b[0;34m+\u001b[0m \u001b[0;36m1\u001b[0m    \u001b[0;31m# Confere com o que falamos acima:\u001b[0m\u001b[0;34m\u001b[0m\u001b[0m\n\u001b[0m\u001b[1;32m      2\u001b[0m                               \u001b[0;31m# não faz sentido fazer continha com uma expressão\u001b[0m\u001b[0;34m\u001b[0m\u001b[0;34m\u001b[0m\u001b[0m\n",
            "\u001b[0;31mTypeError\u001b[0m: unsupported operand type(s) for +: 'NoneType' and 'int'"
          ]
        }
      ]
    },
    {
      "cell_type": "code",
      "metadata": {
        "id": "99IhdN0JJFoV",
        "colab_type": "code",
        "outputId": "6b077cf5-2395-4862-9d83-540c1a32c935",
        "colab": {
          "base_uri": "https://localhost:8080/",
          "height": 35
        }
      },
      "source": [
        "1 + quadrado(10)   # Também confere:\n",
        "                    # Faz todo sentido fazer essa conta! \n",
        "                    # Temos um valor (y, que no nosso caso é 100)\n",
        "                    # Atribuído a uma função (f(x), que no nosso caso é quadrado(x))"
      ],
      "execution_count": 0,
      "outputs": [
        {
          "output_type": "execute_result",
          "data": {
            "text/plain": [
              "101"
            ]
          },
          "metadata": {
            "tags": []
          },
          "execution_count": 14
        }
      ]
    },
    {
      "cell_type": "markdown",
      "metadata": {
        "id": "EYUESYn4LpU-",
        "colab_type": "text"
      },
      "source": [
        "Se ainda não está claro, repare no <b> `type`</b> de cada uma delas:"
      ]
    },
    {
      "cell_type": "code",
      "metadata": {
        "id": "X7ky43TYJSpG",
        "colab_type": "code",
        "outputId": "b4ef1040-a146-45c7-f197-03f38c65976b",
        "colab": {
          "base_uri": "https://localhost:8080/",
          "height": 54
        }
      },
      "source": [
        "type (imprimir_quadrado(10))   #De fato, não faz sentido fazer uma conta com um objeto None"
      ],
      "execution_count": 0,
      "outputs": [
        {
          "output_type": "stream",
          "text": [
            "100\n"
          ],
          "name": "stdout"
        },
        {
          "output_type": "execute_result",
          "data": {
            "text/plain": [
              "NoneType"
            ]
          },
          "metadata": {
            "tags": []
          },
          "execution_count": 16
        }
      ]
    },
    {
      "cell_type": "code",
      "metadata": {
        "id": "zO80vBChJYrF",
        "colab_type": "code",
        "outputId": "90e1a576-9221-45b8-cc76-d9d01531d559",
        "colab": {
          "base_uri": "https://localhost:8080/",
          "height": 35
        }
      },
      "source": [
        "type (quadrado(10))"
      ],
      "execution_count": 0,
      "outputs": [
        {
          "output_type": "execute_result",
          "data": {
            "text/plain": [
              "int"
            ]
          },
          "metadata": {
            "tags": []
          },
          "execution_count": 17
        }
      ]
    },
    {
      "cell_type": "markdown",
      "metadata": {
        "id": "rARxiwUoy5yo",
        "colab_type": "text"
      },
      "source": [
        "## `help()`\n",
        "\n",
        "Sabe aquela função que aparece no meio do código e você não faz ideia o que ela faz? Com Python você não precisa pesquisar ela no google, é só usar o comando **`help()`** que ele explica o que a função faz.\n",
        "\n",
        "A estutura do **`help()`** também é bem tranquila, é só digitar: \n",
        "\n",
        " *`help`*  `(função)`"
      ]
    },
    {
      "cell_type": "code",
      "metadata": {
        "id": "0fO7gywk01f9",
        "colab_type": "code",
        "outputId": "65efc432-19aa-46a2-9174-f695d2785b4a",
        "colab": {
          "base_uri": "https://localhost:8080/",
          "height": 235
        }
      },
      "source": [
        "help(range)"
      ],
      "execution_count": 0,
      "outputs": [
        {
          "output_type": "stream",
          "text": [
            "Help on built-in function range in module __builtin__:\n",
            "\n",
            "range(...)\n",
            "    range(stop) -> list of integers\n",
            "    range(start, stop[, step]) -> list of integers\n",
            "    \n",
            "    Return a list containing an arithmetic progression of integers.\n",
            "    range(i, j) returns [i, i+1, i+2, ..., j-1]; start (!) defaults to 0.\n",
            "    When step is given, it specifies the increment (or decrement).\n",
            "    For example, range(4) returns [0, 1, 2, 3].  The end point is omitted!\n",
            "    These are exactly the valid indices for a list of 4 elements.\n",
            "\n"
          ],
          "name": "stdout"
        }
      ]
    },
    {
      "cell_type": "markdown",
      "metadata": {
        "id": "Qrc2zn1B1h-Q",
        "colab_type": "text"
      },
      "source": [
        "Podemos usar o comando <b> `help()`</b> nas funções criadas por usuários no Python, mas se não definirmos um texto de ajuda para a função, nada será retornado.\n",
        "\n",
        "Por exemplo, se chamarmos <b> `help()`</b>  para a função <b>`pessoa()`</b>, não obteremos nada:"
      ]
    },
    {
      "cell_type": "code",
      "metadata": {
        "id": "CtWo0KB11hYB",
        "colab_type": "code",
        "outputId": "757b8b56-71ad-4999-9e71-013552113b0d",
        "colab": {
          "base_uri": "https://localhost:8080/",
          "height": 90
        }
      },
      "source": [
        "help(pessoa)"
      ],
      "execution_count": 0,
      "outputs": [
        {
          "output_type": "stream",
          "text": [
            "Help on function pessoa in module __main__:\n",
            "\n",
            "pessoa(nome, idade)\n",
            "\n"
          ],
          "name": "stdout"
        }
      ]
    },
    {
      "cell_type": "markdown",
      "metadata": {
        "id": "6XpffC2Z2OSh",
        "colab_type": "text"
      },
      "source": [
        "Para que a função <b> `help()`</b>  retorne a **documentação** da função (o texto de ajuda para nossas funções), escrevemos este texto no momento em que definimos a função, escrevendo ele na primeira linha, entre 3 aspas simples:"
      ]
    },
    {
      "cell_type": "code",
      "metadata": {
        "id": "vSWsrWYy2yg6",
        "colab_type": "code",
        "colab": {}
      },
      "source": [
        "def pessoa(nome, idade): \n",
        "  '''Esta função vai retornar o nome e a idade da pessoa.'''\n",
        "  print ('{} tem {} anos'.format(nome, idade)) "
      ],
      "execution_count": 0,
      "outputs": []
    },
    {
      "cell_type": "code",
      "metadata": {
        "id": "KcEuJW0v29YA",
        "colab_type": "code",
        "outputId": "fb2633ed-1bf8-4ad3-ece1-8807704d8db2",
        "colab": {
          "base_uri": "https://localhost:8080/",
          "height": 108
        }
      },
      "source": [
        "help(pessoa)"
      ],
      "execution_count": 0,
      "outputs": [
        {
          "output_type": "stream",
          "text": [
            "Help on function pessoa in module __main__:\n",
            "\n",
            "pessoa(nome, idade)\n",
            "    Esta função vai retornar o nome e a idade da pessoa.\n",
            "\n"
          ],
          "name": "stdout"
        }
      ]
    },
    {
      "cell_type": "markdown",
      "metadata": {
        "id": "Wiztaw9v6WrL",
        "colab_type": "text"
      },
      "source": [
        "##ALGUNS DETALHES SOBRE FUNÇÕES\n",
        "Podemos definir os **parâmetros** (que devem estar entre parênteses) dentro do corpo da função.\n",
        "\n",
        "\n",
        "\n",
        "\n"
      ]
    },
    {
      "cell_type": "code",
      "metadata": {
        "id": "U7NRwO9J9Q_R",
        "colab_type": "code",
        "colab": {}
      },
      "source": [
        "def cumprimentar(parte_do_dia):\n",
        "    if parte_do_dia == 'manhã':\n",
        "        print('bom dia!')\n",
        "    else:\n",
        "        print('boa noite!')"
      ],
      "execution_count": 0,
      "outputs": []
    },
    {
      "cell_type": "markdown",
      "metadata": {
        "id": "L19-X-5J8ctP",
        "colab_type": "text"
      },
      "source": [
        " Caso não definirmos valor de retorno (<b>`return`</b>), a função retornará <b>`None`</b>.\n",
        "\n",
        "\n",
        "\n"
      ]
    },
    {
      "cell_type": "code",
      "metadata": {
        "id": "m2rDvXW-Yorj",
        "colab_type": "code",
        "colab": {}
      },
      "source": [
        "def soma(x, y):  #Perceba que a função apenas instrui a somar x e y, mas não define nenhum retorno.\n",
        "    s = x + y"
      ],
      "execution_count": 0,
      "outputs": []
    },
    {
      "cell_type": "code",
      "metadata": {
        "id": "itMC9T9PYug9",
        "colab_type": "code",
        "outputId": "8dda02d9-6d16-4152-edbe-dd7dfe72384e",
        "colab": {
          "base_uri": "https://localhost:8080/",
          "height": 35
        }
      },
      "source": [
        "print(soma(1, 2))"
      ],
      "execution_count": 0,
      "outputs": [
        {
          "output_type": "stream",
          "text": [
            "None\n"
          ],
          "name": "stdout"
        }
      ]
    },
    {
      "cell_type": "markdown",
      "metadata": {
        "id": "esbDWeCS9wYJ",
        "colab_type": "text"
      },
      "source": [
        "Podemos usar funções dentro de outras funções!\n",
        "\n",
        "\n",
        "\n"
      ]
    },
    {
      "cell_type": "code",
      "metadata": {
        "id": "QR_cQyD4CRt2",
        "colab_type": "code",
        "colab": {}
      },
      "source": [
        "def mais_um(x):\n",
        "    return x + 1\n",
        "\n",
        "def mais_dois(x):\n",
        "    return mais_um(x) + 1"
      ],
      "execution_count": 0,
      "outputs": []
    },
    {
      "cell_type": "code",
      "metadata": {
        "id": "oSmjhRNP-JG9",
        "colab_type": "code",
        "outputId": "7117f52b-3df4-4628-c7cc-9be4b4d908ea",
        "colab": {
          "base_uri": "https://localhost:8080/",
          "height": 35
        }
      },
      "source": [
        "mais_dois(4)"
      ],
      "execution_count": 0,
      "outputs": [
        {
          "output_type": "execute_result",
          "data": {
            "text/plain": [
              "6"
            ]
          },
          "metadata": {
            "tags": []
          },
          "execution_count": 14
        }
      ]
    },
    {
      "cell_type": "markdown",
      "metadata": {
        "id": "Aqb493M5_prX",
        "colab_type": "text"
      },
      "source": [
        "Lembra de como era chatinho calcular fatoriais? Podemos fazer uma função para achar o fatorial de um número."
      ]
    },
    {
      "cell_type": "code",
      "metadata": {
        "id": "LXBVlAkxv4JY",
        "colab_type": "code",
        "colab": {}
      },
      "source": [
        "def fatorial(n):   \n",
        "    if n < 1:\n",
        "        return 1\n",
        "    else:\n",
        "        print('passei aqui')\n",
        "        return n * fatorial(n - 1)"
      ],
      "execution_count": 0,
      "outputs": []
    },
    {
      "cell_type": "code",
      "metadata": {
        "id": "YQUVYrvz_zaT",
        "colab_type": "code",
        "outputId": "a077e25a-0418-4436-8c35-f8a1ed31096e",
        "colab": {
          "base_uri": "https://localhost:8080/",
          "height": 72
        }
      },
      "source": [
        "fatorial(2)"
      ],
      "execution_count": 0,
      "outputs": [
        {
          "output_type": "stream",
          "text": [
            "passei aqui\n",
            "passei aqui\n"
          ],
          "name": "stdout"
        },
        {
          "output_type": "execute_result",
          "data": {
            "text/plain": [
              "2"
            ]
          },
          "metadata": {
            "tags": []
          },
          "execution_count": 21
        }
      ]
    },
    {
      "cell_type": "markdown",
      "metadata": {
        "id": "CHzcw8BVBv9m",
        "colab_type": "text"
      },
      "source": [
        "\n",
        "Presta atenção nesse exemplo acima! O Python vai usar a própria função para calcular o fatorial (n-1) que está no corpo dela. Vai até o n=0, para, então, calcular todos os fatoriais que vem depois. É meio confuso mesmo, é como se ela fizesse o caminho contrário para ter o fatorial de todos os números anteriores e depois voltasse."
      ]
    },
    {
      "cell_type": "markdown",
      "metadata": {
        "id": "-QbSxLW2-d-R",
        "colab_type": "text"
      },
      "source": [
        "---\n",
        "####Exemplo extra:\n",
        "\n",
        "Lembra da sequência de Fibonacci? Podemos implementá-la usando funções no Python! Olha só:"
      ]
    },
    {
      "cell_type": "markdown",
      "metadata": {
        "id": "IGoxxXqDBvIw",
        "colab_type": "text"
      },
      "source": [
        "ex: Fibonacci: $1 , 1 , 2 , 3 , 5 , 8 , 13 , 21 , 34 , 55 , 89 , 144, \\ldots$\n",
        "\n",
        "$F(n) = \\begin{cases}\n",
        "0 &\\text{if n = 0}\\\\\n",
        "1 &\\text{if n = 1}\\\\\n",
        "F(n-1) + F(n-2) &\\text{if n > 1}\\\\\n",
        "\\end{cases}$"
      ]
    },
    {
      "cell_type": "code",
      "metadata": {
        "id": "rPmNsgrrB8aY",
        "colab_type": "code",
        "colab": {}
      },
      "source": [
        "def fibonacci(n):\n",
        "    if n == 0:\n",
        "        return 0\n",
        "    elif n == 1:\n",
        "        return 1\n",
        "    else:\n",
        "        return fibonacci(n - 1) + fibonacci(n - 2)"
      ],
      "execution_count": 0,
      "outputs": []
    },
    {
      "cell_type": "code",
      "metadata": {
        "id": "IScsnHja-OFD",
        "colab_type": "code",
        "outputId": "17ae8185-7d1e-4488-b136-05005c3ba22c",
        "colab": {
          "base_uri": "https://localhost:8080/",
          "height": 35
        }
      },
      "source": [
        "fibonacci(10)"
      ],
      "execution_count": 0,
      "outputs": [
        {
          "output_type": "execute_result",
          "data": {
            "text/plain": [
              "55"
            ]
          },
          "metadata": {
            "tags": []
          },
          "execution_count": 16
        }
      ]
    },
    {
      "cell_type": "markdown",
      "metadata": {
        "id": "iTalu53LQ3Co",
        "colab_type": "text"
      },
      "source": [
        "##EXERCÍCIOS\n",
        "\n",
        "1. Escreva um programa que, dada uma lista com 10 números positivos, imprimá-os em ordem descrescente, do maior para o menor. Dicas:\n",
        "\n",
        ">Escreva uma função que:\n",
        ">* Pegue a lista e ache o maior elemento dela;\n",
        "> * Então, apague esse elemento da lista e o retorne.\n",
        "\n",
        ">(Você precisará de duas variáveis nessa função: o maior elemento até o momento - inicializando-o em 0 - e a posição dele. Então, use iterações sobre a lista, checando se cada elemento é, de fato, o maior elemento. Caso encontre o maior elemento, mude o valor das duas variáveis. Portanto, no programa, o loop vai terminar no momento em que a lista ficar vazia)."
      ]
    },
    {
      "cell_type": "code",
      "metadata": {
        "id": "3xwOG9QHRBJM",
        "colab_type": "code",
        "colab": {}
      },
      "source": [
        ""
      ],
      "execution_count": 0,
      "outputs": []
    },
    {
      "cell_type": "markdown",
      "metadata": {
        "id": "nJgJdJ3FRKiv",
        "colab_type": "text"
      },
      "source": [
        "2. Escreva uma definição para uma função que pega uma lista e mova o primeiro elemento para o final dela."
      ]
    },
    {
      "cell_type": "code",
      "metadata": {
        "id": "RAlalhjeRzGc",
        "colab_type": "code",
        "colab": {}
      },
      "source": [
        ""
      ],
      "execution_count": 0,
      "outputs": []
    }
  ]
}