{
  "nbformat": 4,
  "nbformat_minor": 0,
  "metadata": {
    "colab": {
      "name": "Apostila - 01. Introdução",
      "version": "0.3.2",
      "provenance": [],
      "collapsed_sections": []
    },
    "kernelspec": {
      "name": "python3",
      "display_name": "Python 3"
    }
  },
  "cells": [
    {
      "cell_type": "markdown",
      "metadata": {
        "id": "NtQLxCNKKkoZ",
        "colab_type": "text"
      },
      "source": [
        "#INTRODUÇÃO\n",
        "\n",
        " A Linguagem Python surgiu no fim dos anos 80 em Amsterdam, na Holanda. Seu criador foi Guido Van Rossum, e ele tinha por objetivo criar uma linguagem mais simples do que as já existentes. Por esse motivo, sua sintaxe tende a ser de mais fácil comprensão, mesmo para aqueles que nunca programaram antes, já que é **orientada a objetos**. Pra quem já trabalhou com C/C++, por exemplo, uma ótima notícia: **não é preciso declarar variáveis**!!! Para quem nunca passou por isso, pode ficar mais feliz ainda! Não vai precisar passar agora. Assim, Python veio nos moldes de **Software Livre** e **Open Source** (mesmo antes desses termos existirem). Por esse motivo, existem várias maneiras de rodar Python, inclusive o aplicativo Colaboratory, no qual essa apostila é feita e que dispensa a instalação de qualquer programa.\n",
        " \n",
        " O intuito desse material é apresentar a linguagem de programação Python de uma forma simples, interativa e didática.\n"
      ]
    },
    {
      "cell_type": "markdown",
      "metadata": {
        "id": "Hn1x3qGy2RZc",
        "colab_type": "text"
      },
      "source": [
        "## PROGRAMAS DE PYTHON\n",
        "  \n",
        "A estrutura de Python se dá basicamente da seguinte forma:\n",
        "\n",
        "\n",
        "\n",
        "> <b>O interpretador de Python roda um <font color=\"orange\"><b>programa</b></font>, que o programador (você!) monta com <font color=\"orange\"><b>definições</b></font> (valores) e <font color=\"orange\"><b>comandos</b></font> (o que fazer com esses valores).</b>\n",
        "\n",
        "Agora, podemos tentar entender melhor:\n",
        "*   Um **programa** é uma sequência de definições e comandos \n",
        " *   **Definições** são os valores que você define para o programa ler. Por exemplo, você pode dizer ao programa que <font color=\"orange\"><b>`a = 5`</b></font>.\n",
        " *   **Comandos** (statements) são instruções para o interpretador fazer algo. Você pode dar instruções usando as definições, por exemplo, dividir o `a` pelo número `10`: <font color=\"orange\"><b>`a/10`</b></font>."
      ]
    },
    {
      "cell_type": "markdown",
      "metadata": {
        "id": "rwhzghHCWBWF",
        "colab_type": "text"
      },
      "source": [
        "##SOBRE O COLABORATORY\n",
        "\n",
        " Como falamos acima, a linguagem Python pode ser rodada de diversas maneiras. Se você procurar na internet, provavelmente vai encontrar vários tutoriais sobre como baixar e instalar programas para interpretar Python, mas aqui a gente vai poupar você disso. É justamente para facilitar a sua vida que escolhemos esse ambiente de programação, o Colaboratory, para desenvolver a apostila.\n",
        "\n",
        ">  \n",
        "  Como você já percebeu, essa ferramenta é hospedada pelo Google Drive, o que nos garante dinamismo para compartilhar os **notebooks** da apostila.\n",
        "\n",
        "\n",
        "\n",
        "\n",
        "  \n",
        "  Assim como em \"Planilhas Google\" você pode criar uma planilha, e como em \"Documentos Google\" pode-se criar um documento de texto, **no Colaboratory você tem um notebook**. Esse, por exemplo é o notebook \"Apostila - 01. Introdução\".\n",
        "  \n",
        "  ***\n",
        "  <font color = \"grey\">A título de curiosidade:\n",
        "  \n",
        "  A diferença mais relevante entre esse ambiente de programação e os outros é que esse é apenas interpretado, enquanto os outros costumam ser compilados para, então, serem interpretados. Para o nosso objetivo, isso não faz muita diferença. Mas na prática, o compilador tem vantagem por ser mais rápido. Em contra partida, os códigos sem compilador costumam ser mais facilmente corrigidos.</font>\n",
        "  ***\n",
        "  \n",
        "  Até esse ponto, você só se deparou com textos aqui no Colaboratory, mas da mesma forma você pode escrever código. Isso acontece porque tudo o que se faz aqui é escrito em ambientes chamados células, que se dividem em células de texto e células de código (como você pode ver no topo do notebook, pode-se criar células \"CODE\" e células \"TEXT\"). Isso facilita, e muito, a nossa vida!\n",
        "  \n",
        "  Inclusive, se você abrir para editar as células de texto, vai ver que dentro delas as <font color = \"orange\"><b>cores</b></font> das palavras são definidas em HTML (igual a gente fazia com depoimento no orkut, lembra?), que é uma outra linguagem.\n",
        "  \n",
        "  Assim, o Colaboratory interpreta uma célula por vez, o que o torna bastante interativo e fácil de usar!\n",
        "  "
      ]
    },
    {
      "cell_type": "markdown",
      "metadata": {
        "id": "_ZIwqpkctYR9",
        "colab_type": "text"
      },
      "source": [
        "*** \n",
        "<font color=\"grey\">\n",
        " <font color=\"grey\"><b>Peculiaridades do Python</b></font>\n",
        "\n",
        "\n",
        "*    <font color=\"grey\"><b>Números decimais são representados com ponto:</b></font> Python foi criado em inglês e, portanto, existem algumas diferenças importantes! Os comandos são escritos em inglês, e também os números (as casas decimais são representadas por um ponto, por exemplo 3.4)\n",
        "*  <font color=\"grey\"><b>Letras maiúsculas e minúsculas são diferentes:</b></font> para a linguagem, `A` é diferente de `a`. Essa peculiridade dá a Python a característica de 'case-sensitive'.\n",
        "*  <font color=\"grey\"><b>Runtime type:</b></font> existe mais de uma versão de linguagem Python, e a mais usada atualmente é a Python 3. Acontece que no Colaboratory, o runtime pré-estipulado é o Python 2. Nesse primeiro momento, não há necessidade de entender bem o que significa runtime e essas diferentes versões (ufa!), mas é importante que você faça o seguinte:\n",
        " *   Clica lá em cima em <font color=\"grey\"><b>Runtime</b></font>\n",
        " *   Em seguida, selecione a última opção que vai aparecer, <font color=\"grey\"><b>Change runtime type</b></font>\n",
        " *   Por fim, onde tem \"Python 2\" troque para <font color=\"grey\"><b>\"Python 3\"</b></font>\n",
        " *   Clique em <font color=\"grey\"><b>save</b></font>.\n",
        " \n",
        " E pronto! Podemos seguir adiante.\n",
        "\n",
        "\n",
        "\n",
        "***"
      ]
    },
    {
      "cell_type": "markdown",
      "metadata": {
        "id": "ut9dlSN92NCO",
        "colab_type": "text"
      },
      "source": [
        "## OBJETOS\n",
        "\n",
        "\n",
        "*   Programas manipulam os dados em forma de <font color=\"orange\"><b>objetos</b></font>\n",
        "*   Objetos tem tipos (<font color=\"orange\"><b>types</b></font>) que definem as coisas que o programa pode fazer com eles:\n",
        " *   Augusto é um <font color=\"orange\"><b>humano</b></font>, então ele pode caminhar, falar português, etc\n",
        " *   Chewbacca é um  <font color=\"orange\"><b>wookie</b></font> (do Universo de Star Wars), então ele pode caminhar, “mwaaarhrhh”, etc\n",
        " \n",
        "\n",
        "*   Objetos podem ser divididos em:\n",
        "  * Escalares (<font color=\"orange\"><b>scalar</b></font>): não podem ser subdivididos (como um número)\n",
        "  * Não-escalares (<font color=\"orange\"><b>non-scalar</b></font>): objetos que tem estrutura interna que pode ser manipulada (como listas, mas eles só vão aparecer mais para frente)\n",
        "\n",
        "**Esses conceitos \"crus\" não são de tão fácil compreensão, mas com os exemplos as coisas facilitam.**"
      ]
    },
    {
      "cell_type": "markdown",
      "metadata": {
        "id": "7uIt18Mxr9I7",
        "colab_type": "text"
      },
      "source": [
        "**OBJETOS ESCALARES**\n",
        "\n",
        "\n",
        "\n",
        "Para iniciar o aprendizado em Python é uma boa ideia entender quais são os principais objetos escalares usados na linguagem:\n",
        "  * **`int`**: representam os números inteiros (ex: 5)\n",
        "  * **`float`**: representam os números reais (ex: 3.2) \n",
        "  * **`bool`**: representam valores Boolean, ou valores lógicos - que representam condições da forma verdadeiro ou falso (True and False)\n",
        "  * **`NoneType`**: contém apenas um valor: None (nenhum)\n",
        "\n",
        "\n",
        "  "
      ]
    },
    {
      "cell_type": "markdown",
      "metadata": {
        "id": "HWsAryW7tYeK",
        "colab_type": "text"
      },
      "source": [
        "***\n",
        "<font color=\"grey\">\n",
        "**Dica: ** Caso você tenha uma dúvida sobre qual é o  tipo de um objeto, o próprio interpretador pode ajudar. Basta usar o comando <font color=\"orange\">**`type( )`**</font>. Olha só:\n",
        "***\n"
      ]
    },
    {
      "cell_type": "code",
      "metadata": {
        "id": "w2CM5Dxv6Jkr",
        "colab_type": "code",
        "colab": {}
      },
      "source": [
        "a = 5\n",
        "b = 3.75\n",
        "c = True\n",
        "d = None"
      ],
      "execution_count": 0,
      "outputs": []
    },
    {
      "cell_type": "code",
      "metadata": {
        "id": "C-yQP9aC6mW-",
        "colab_type": "code",
        "outputId": "da541982-d9f4-465b-a2e1-d516642227a1",
        "colab": {
          "base_uri": "https://localhost:8080/",
          "height": 34
        }
      },
      "source": [
        "type(a)"
      ],
      "execution_count": 0,
      "outputs": [
        {
          "output_type": "execute_result",
          "data": {
            "text/plain": [
              "int"
            ]
          },
          "metadata": {
            "tags": []
          },
          "execution_count": 2
        }
      ]
    },
    {
      "cell_type": "code",
      "metadata": {
        "id": "uBIdxlL16mhv",
        "colab_type": "code",
        "outputId": "17021e16-8152-4fac-ddb3-cab3f8f5cd82",
        "colab": {
          "base_uri": "https://localhost:8080/",
          "height": 34
        }
      },
      "source": [
        "type(b)"
      ],
      "execution_count": 0,
      "outputs": [
        {
          "output_type": "execute_result",
          "data": {
            "text/plain": [
              "float"
            ]
          },
          "metadata": {
            "tags": []
          },
          "execution_count": 3
        }
      ]
    },
    {
      "cell_type": "code",
      "metadata": {
        "id": "kygX4top6mv6",
        "colab_type": "code",
        "outputId": "64a25803-f555-4545-8722-78c45726d50f",
        "colab": {
          "base_uri": "https://localhost:8080/",
          "height": 34
        }
      },
      "source": [
        "type(c)"
      ],
      "execution_count": 0,
      "outputs": [
        {
          "output_type": "execute_result",
          "data": {
            "text/plain": [
              "bool"
            ]
          },
          "metadata": {
            "tags": []
          },
          "execution_count": 4
        }
      ]
    },
    {
      "cell_type": "code",
      "metadata": {
        "id": "OAdCW85m7QYh",
        "colab_type": "code",
        "outputId": "b0f85393-48b1-4de7-f891-e9b72a2d9086",
        "colab": {
          "base_uri": "https://localhost:8080/",
          "height": 34
        }
      },
      "source": [
        "type(d)"
      ],
      "execution_count": 0,
      "outputs": [
        {
          "output_type": "execute_result",
          "data": {
            "text/plain": [
              "NoneType"
            ]
          },
          "metadata": {
            "tags": []
          },
          "execution_count": 5
        }
      ]
    },
    {
      "cell_type": "markdown",
      "metadata": {
        "id": "TXT0stITwdcx",
        "colab_type": "text"
      },
      "source": [
        "***\n",
        "<font color=\"grey\">\n",
        "**Adendo:** O código no Colaboratory está dando erro?\n",
        "\n",
        "\n",
        "Um ponto bem importante para ficar atento: o Colaboratory **não necessariamente executa o programa na ordem** em que foi escrito. Perceba que se você rodar as células acima (clicando no símbolo de \"play\" que aparece passando o cursor do mouse pelas chaves do início da célula), a ordem de execução fica enumerada entre esses colchetes.\n",
        "\n",
        "Caso o seu programa não esteja funcionando, verifique a ordem em que ele está rodando! Não adianta você querer pedir o **`type`** de **c** se nunca foi dito quem é **c**.\n",
        "***"
      ]
    },
    {
      "cell_type": "markdown",
      "metadata": {
        "id": "FOu3ekumAaJA",
        "colab_type": "text"
      },
      "source": [
        "##ATRIBUINDO VALORES A VARIÁVEIS\n",
        "\n",
        "* Uma <font color=\"orange\">**variável**</font> é apenas um nome que faz referência a um objeto. Por exemplo, podemos definir  uma variável `a` e atribuir a ela o valor `2`;\n",
        "*  O sinal de igual (**=**) representa essa atribuição. Quando estipula-se que **a=2** não significa que **2=a**. Significa que o valor associado a **a** é **2** (Mais uma da série: sei que é complicado, depois melhora);\n",
        "* O valor fica armazenado na variável, mas pode ser alterado a qualquer momento, simplemente atribuindo um novo valor, por exemplo **a=3** (agora, `a`, que era `2`, é `3`. simples assim);\n",
        "* Uma <font color=\"orange\">**atribuição**</font> (assignment) une o **nome** ao **valor**.\n",
        "\n",
        "\n"
      ]
    },
    {
      "cell_type": "code",
      "metadata": {
        "id": "1dIPaKWf_a9P",
        "colab_type": "code",
        "colab": {}
      },
      "source": [
        "pi = 3.1459\n",
        "aprox_pi = 22/7"
      ],
      "execution_count": 0,
      "outputs": []
    },
    {
      "cell_type": "markdown",
      "metadata": {
        "id": "DbEs20bzy8a4",
        "colab_type": "text"
      },
      "source": [
        "Agora que eu chamei meu valor (`3.1459`) de um nome (`pi`), provalvemente, no resto do meu código, eu vou continuar usando somente o nome (`pi`). E daí, se eu quiser meu valor (`3.1495`), como faz? É fácil!\n",
        "* **recupere** o valor associado ao nome ou à variável \"chamando\" seu nome\n"
      ]
    },
    {
      "cell_type": "code",
      "metadata": {
        "id": "-PKaPu7NDQ8j",
        "colab_type": "code",
        "outputId": "77102e63-a0eb-4d56-f759-09d21ef87bd8",
        "colab": {
          "base_uri": "https://localhost:8080/",
          "height": 35
        }
      },
      "source": [
        "pi"
      ],
      "execution_count": 0,
      "outputs": [
        {
          "output_type": "execute_result",
          "data": {
            "text/plain": [
              "3.1459"
            ]
          },
          "metadata": {
            "tags": []
          },
          "execution_count": 7
        }
      ]
    },
    {
      "cell_type": "code",
      "metadata": {
        "id": "FQtmPglFwHTL",
        "colab_type": "code",
        "outputId": "931fa29c-e259-4f47-a4c7-7d4825f1c336",
        "colab": {
          "base_uri": "https://localhost:8080/",
          "height": 35
        }
      },
      "source": [
        "aprox_pi "
      ],
      "execution_count": 0,
      "outputs": [
        {
          "output_type": "execute_result",
          "data": {
            "text/plain": [
              "3.142857142857143"
            ]
          },
          "metadata": {
            "tags": []
          },
          "execution_count": 8
        }
      ]
    },
    {
      "cell_type": "markdown",
      "metadata": {
        "id": "RdUBh4CcvBDR",
        "colab_type": "text"
      },
      "source": [
        "***\n",
        "<font color=\"grey\">\n",
        "** Como nomear uma variável?**\n",
        "\n",
        "Para o programa entender que estamos falando de uma variável, é preciso começar seu nome com uma letra (como convenção, no Python, as variáveis normalmente começam com letras minúsculas).\n",
        "\n",
        "Atenção: existem algumas **palavras reservadas em Python** (elas nomeiam funções, comandos do programa) que não podem ser utilizadas como nomes de variáveis! \n",
        "Mas é bem fácil de notar quais palavras não podem. Se você escrever a palavra no programa e ela se tornar <font color = \"orange\">colorida</font>, então você **não** pode chamar sua variável assim.\n",
        "\n",
        "\n",
        "***"
      ]
    },
    {
      "cell_type": "markdown",
      "metadata": {
        "id": "3QXD28A1XqCo",
        "colab_type": "text"
      },
      "source": [
        "##CONVERSÕES DE TIPO (CAST)\n",
        "\n",
        "\n",
        "*   O tipo de um objeto pode ser alterado\n",
        " *   **Exemplo:**\n",
        " *   O valor `3` pode ser um objeto do tipo inteiro, mas você quer usar ele numa situação que requer ele com casas decimais. Para isso, você pode usar o comando de conversões.\n",
        " *  Da mesma forma, o contrário pode acontecer: você tem o número `3.8` e na verdade quer trabalhar com ele como um inteiro. Usando essa mesma ferramenta, podemos ter o `3.8` convertido para `3`.\n",
        "\n",
        "\n",
        "\n"
      ]
    },
    {
      "cell_type": "code",
      "metadata": {
        "id": "Oon0Ky51wwq8",
        "colab_type": "code",
        "outputId": "14543300-3637-4709-cd90-2b82c487c046",
        "colab": {
          "base_uri": "https://localhost:8080/",
          "height": 34
        }
      },
      "source": [
        "float(3)"
      ],
      "execution_count": 0,
      "outputs": [
        {
          "output_type": "execute_result",
          "data": {
            "text/plain": [
              "3.0"
            ]
          },
          "metadata": {
            "tags": []
          },
          "execution_count": 7
        }
      ]
    },
    {
      "cell_type": "code",
      "metadata": {
        "id": "A2lmr5gSwyfc",
        "colab_type": "code",
        "outputId": "0c821144-f6b6-470f-8fd5-0c54467ae49a",
        "colab": {
          "base_uri": "https://localhost:8080/",
          "height": 34
        }
      },
      "source": [
        "int(3.8)"
      ],
      "execution_count": 0,
      "outputs": [
        {
          "output_type": "execute_result",
          "data": {
            "text/plain": [
              "3"
            ]
          },
          "metadata": {
            "tags": []
          },
          "execution_count": 8
        }
      ]
    },
    {
      "cell_type": "markdown",
      "metadata": {
        "id": "pDl5HTZ6w0vN",
        "colab_type": "text"
      },
      "source": [
        "Apesar de usualmente arredondarmos o `3.8` para `4`, o Python não faz assim. Para o programa, o comando <font color=\"orange\">**`int()`**</font> vai **apenas  remover as casas decimais**. Se quisermos arredondar esse valor, **devemos dizer isso ao programa**, usando o comando <font color=\"orange\">**`round()`**</font>.\n",
        "\n"
      ]
    },
    {
      "cell_type": "code",
      "metadata": {
        "id": "Age4f4BPyRiq",
        "colab_type": "code",
        "outputId": "cdf63c5e-8285-4789-fb75-9c53a9865614",
        "colab": {
          "base_uri": "https://localhost:8080/",
          "height": 34
        }
      },
      "source": [
        "round(4.5)"
      ],
      "execution_count": 0,
      "outputs": [
        {
          "output_type": "execute_result",
          "data": {
            "text/plain": [
              "5.0"
            ]
          },
          "metadata": {
            "tags": []
          },
          "execution_count": 10
        }
      ]
    },
    {
      "cell_type": "code",
      "metadata": {
        "id": "ou6BuIspyXF0",
        "colab_type": "code",
        "outputId": "100cc76a-506b-4042-ddf9-e501b580e9a9",
        "colab": {
          "base_uri": "https://localhost:8080/",
          "height": 34
        }
      },
      "source": [
        "round(4.4)"
      ],
      "execution_count": 0,
      "outputs": [
        {
          "output_type": "execute_result",
          "data": {
            "text/plain": [
              "4.0"
            ]
          },
          "metadata": {
            "tags": []
          },
          "execution_count": 11
        }
      ]
    },
    {
      "cell_type": "markdown",
      "metadata": {
        "id": "j6aprOtAyQrz",
        "colab_type": "text"
      },
      "source": [
        "Existe, ainda, a possibilidade de escolher como arredondar *(sabe quando você fica torcendo pro professor \"arredondar pra cima\"? É tipo assim)*. Tem um módulo (um conjunto de funções que não \"mora\" na biblioteca Python, mas pode ser \"emprestado\") que tem as funções <font color=\"orange\">**`ceil()`**</font> e <font color=\"orange\">**`floor()`**</font>, que nos permitem arredondar os números para o **próximo inteiro**, com <font color=\"orange\">**`ceil()`**</font> ou para o **inteiro anterior**, com <font color=\"orange\"><b>`floor()`</b></font>."
      ]
    },
    {
      "cell_type": "code",
      "metadata": {
        "id": "H2-6ig3YyFay",
        "colab_type": "code",
        "colab": {}
      },
      "source": [
        "from math import ceil, floor #Importamos justamente porque, como eu disse, ele não \"mora\" no Python"
      ],
      "execution_count": 0,
      "outputs": []
    },
    {
      "cell_type": "code",
      "metadata": {
        "id": "Nx8GdYcKyddz",
        "colab_type": "code",
        "outputId": "f067af43-8ae3-4d7d-ba27-c060eada3dd0",
        "colab": {
          "base_uri": "https://localhost:8080/",
          "height": 34
        }
      },
      "source": [
        "floor(4.9)"
      ],
      "execution_count": 0,
      "outputs": [
        {
          "output_type": "execute_result",
          "data": {
            "text/plain": [
              "4"
            ]
          },
          "metadata": {
            "tags": []
          },
          "execution_count": 5
        }
      ]
    },
    {
      "cell_type": "code",
      "metadata": {
        "id": "z6__-823yhzo",
        "colab_type": "code",
        "outputId": "ebcfc1e5-1fdc-4cc2-eb92-21499fb44e85",
        "colab": {
          "base_uri": "https://localhost:8080/",
          "height": 34
        }
      },
      "source": [
        "ceil(7.1)"
      ],
      "execution_count": 0,
      "outputs": [
        {
          "output_type": "execute_result",
          "data": {
            "text/plain": [
              "8"
            ]
          },
          "metadata": {
            "tags": []
          },
          "execution_count": 6
        }
      ]
    },
    {
      "cell_type": "markdown",
      "metadata": {
        "id": "CWh1s4M3zxeA",
        "colab_type": "text"
      },
      "source": [
        "##EXPRESSÕES\n",
        "\n",
        "\n",
        "*   A combinação de objetos e operadores formam <font color=\"orange\"><b>expressões</b></font>.\n",
        "*   Uma expressão tem um valor, e esse valor tem um <font color=\"orange\"><b>tipo</b></font>. (De novo: eu sei que é confuso, mas depois melhora! Prometo)\n",
        "*   A sintaxe para as expressões básicas em Python segue o padrão objeto-operador-objeto: \n",
        "\n",
        "\n",
        "\n",
        ">### objeto operador objeto\n",
        "*   i + j <font color=\"orange\"><b> -> soma</b></font>\n",
        "* i - j  <font color=\"orange\"><b>-> diferença</b></font>\n",
        "* i \\* j  <font color=\"orange\"><b>-> produto</b></font>\n",
        "* i / j  <font color=\"orange\"><b>-> divisão</b></font>\n",
        "* i % j  <font color=\"orange\"><b>-> o resto da divisão de i por j</b></font>\n",
        "* i ** j  <font color=\"orange\"><b>-> i na potência j</b></font>\n",
        "\n",
        "\n",
        "\n",
        "\n",
        "\n"
      ]
    },
    {
      "cell_type": "code",
      "metadata": {
        "id": "pp3k14m02qir",
        "colab_type": "code",
        "outputId": "b9381ab2-5436-4bdb-a57b-0c750f0bf09a",
        "colab": {
          "base_uri": "https://localhost:8080/",
          "height": 34
        }
      },
      "source": [
        "2+3"
      ],
      "execution_count": 0,
      "outputs": [
        {
          "output_type": "execute_result",
          "data": {
            "text/plain": [
              "5"
            ]
          },
          "metadata": {
            "tags": []
          },
          "execution_count": 3
        }
      ]
    },
    {
      "cell_type": "code",
      "metadata": {
        "id": "SJwN3olT2tnf",
        "colab_type": "code",
        "outputId": "8d1c53ff-bc0b-4949-d02d-8dace183b65b",
        "colab": {
          "base_uri": "https://localhost:8080/",
          "height": 34
        }
      },
      "source": [
        "8/4"
      ],
      "execution_count": 0,
      "outputs": [
        {
          "output_type": "execute_result",
          "data": {
            "text/plain": [
              "2.0"
            ]
          },
          "metadata": {
            "tags": []
          },
          "execution_count": 4
        }
      ]
    },
    {
      "cell_type": "code",
      "metadata": {
        "id": "he80pcB53NCV",
        "colab_type": "code",
        "outputId": "1965797d-e85d-40ce-b828-c16cc5420d78",
        "colab": {
          "base_uri": "https://localhost:8080/",
          "height": 34
        }
      },
      "source": [
        "8%5"
      ],
      "execution_count": 0,
      "outputs": [
        {
          "output_type": "execute_result",
          "data": {
            "text/plain": [
              "3"
            ]
          },
          "metadata": {
            "tags": []
          },
          "execution_count": 5
        }
      ]
    },
    {
      "cell_type": "markdown",
      "metadata": {
        "id": "EA_U4tDT3X69",
        "colab_type": "text"
      },
      "source": [
        "O interpretador de Python vai considerar a mesma precedência (regras de prioridade) de fazer contas que a gente usa. Por exemplo, se você precisa calcular `5+2*2`, você sabe que deve realizar a multiplicação antes, a não ser que exista um par de parênteses dizendo o contrário.\n",
        "\n",
        "A <font color=\"orange\"><b> precedência</b></font> considerada aqui é:\n",
        "\n",
        "  * \\*\\*\n",
        "  *   /\n",
        "  *   *\n",
        "  *  \\+ e – são executados da esquerda para a direita\n",
        "\n",
        "Perceba a diferença: para a nossa matemática, divisão e multiplicação são feitas na ordem em que aparecerem na conta. Aqui, a divisão vai ser executada antes.\n",
        "\n"
      ]
    },
    {
      "cell_type": "code",
      "metadata": {
        "id": "CUl8S_4avrMD",
        "colab_type": "code",
        "outputId": "98443b81-24a5-4d6b-a06e-2d95bd39b2ac",
        "colab": {
          "base_uri": "https://localhost:8080/",
          "height": 34
        }
      },
      "source": [
        "2 + 3 * 4  #Aqui ele considera a precedência do Python: primeiro a multiplicação e depois a soma."
      ],
      "execution_count": 0,
      "outputs": [
        {
          "output_type": "execute_result",
          "data": {
            "text/plain": [
              "14"
            ]
          },
          "metadata": {
            "tags": []
          },
          "execution_count": 1
        }
      ]
    },
    {
      "cell_type": "code",
      "metadata": {
        "id": "DcsPBDmzwZSC",
        "colab_type": "code",
        "outputId": "88f2f0a9-2304-4ebf-c97a-4fd65e426e5f",
        "colab": {
          "base_uri": "https://localhost:8080/",
          "height": 34
        }
      },
      "source": [
        "(2 + 3) * 4   #Nessa equação, os parênteses indicam que a soma será feita antes da multiplicação."
      ],
      "execution_count": 0,
      "outputs": [
        {
          "output_type": "execute_result",
          "data": {
            "text/plain": [
              "20"
            ]
          },
          "metadata": {
            "tags": []
          },
          "execution_count": 2
        }
      ]
    },
    {
      "cell_type": "markdown",
      "metadata": {
        "id": "8ZLJI9IhPRSt",
        "colab_type": "text"
      },
      "source": [
        "Outro exemplo sobre a precedência:"
      ]
    },
    {
      "cell_type": "code",
      "metadata": {
        "id": "GeXHXBqRwiiI",
        "colab_type": "code",
        "outputId": "a948050e-3840-4c81-ec4d-bd4ec22b75d5",
        "colab": {
          "base_uri": "https://localhost:8080/",
          "height": 34
        }
      },
      "source": [
        "2 / 3 * 4  #Neste exemplo, perceba que somente o '3' está dividindo o '2', o número '4' está multiplicando a divisão '2/3'"
      ],
      "execution_count": 0,
      "outputs": [
        {
          "output_type": "execute_result",
          "data": {
            "text/plain": [
              "2.6666666666666665"
            ]
          },
          "metadata": {
            "tags": []
          },
          "execution_count": 3
        }
      ]
    },
    {
      "cell_type": "code",
      "metadata": {
        "id": "v-5TC8eVwrYa",
        "colab_type": "code",
        "outputId": "7f311fca-c30e-4afb-aae8-d48eb00e6b9f",
        "colab": {
          "base_uri": "https://localhost:8080/",
          "height": 34
        }
      },
      "source": [
        "2 / (3 * 4)  #Para que os dois números dividam o '2', é só colocar os parênteses!"
      ],
      "execution_count": 0,
      "outputs": [
        {
          "output_type": "execute_result",
          "data": {
            "text/plain": [
              "0.16666666666666666"
            ]
          },
          "metadata": {
            "tags": []
          },
          "execution_count": 5
        }
      ]
    },
    {
      "cell_type": "markdown",
      "metadata": {
        "id": "pgDfALjZFANn",
        "colab_type": "text"
      },
      "source": [
        "##ABSTRAINDO EXPRESSÕES\n",
        "\n",
        "Mas, por que dar nome aos valores? A ideia é que você possa utilizá-los depois chamando-os pelo nome, ao invés de usar os valores em si. \n",
        "\n",
        "Por exemplo, sabe quando seu professor de física te dá um problemão para resolver, e fica falando para só trocar as variáveis pelos números no final do problema? Então, a gente sabe que é um bom conselho, porque fica muito mais fácil de achar o erro sabendo quais variáveis estão na fórmula do que um montão de números sem significado nenhum.\n",
        "A mesma coisa acontece com um código bem grandão que você pode escrever no Python: quando você precisar mudar algum valor,  ter um nome para suas variáveis pode facilitar muito as coisas!\n",
        "\n",
        "\n",
        "O ideal é **sempre dar nomes com significados às variáveis**, e não chamá-las simplesmente de **a**, **b**, **c**... Assim, o código fica mais fácil de ser compreendido."
      ]
    },
    {
      "cell_type": "code",
      "metadata": {
        "id": "I42tzdFm_xhM",
        "colab_type": "code",
        "outputId": "23a216d2-8470-4024-e391-83b65480cee3",
        "colab": {
          "base_uri": "https://localhost:8080/",
          "height": 34
        }
      },
      "source": [
        "#BOM:\n",
        "\n",
        "pi = 3.14159\n",
        "raio = 50\n",
        "\n",
        "área = pi * raio ** 2\n",
        "área"
      ],
      "execution_count": 0,
      "outputs": [
        {
          "output_type": "execute_result",
          "data": {
            "text/plain": [
              "7853.974999999999"
            ]
          },
          "metadata": {
            "tags": []
          },
          "execution_count": 2
        }
      ]
    },
    {
      "cell_type": "code",
      "metadata": {
        "id": "2tOYqHb3T-1T",
        "colab_type": "code",
        "outputId": "c19ced34-da2d-4d5f-cba1-dd290134f45d",
        "colab": {
          "base_uri": "https://localhost:8080/",
          "height": 34
        }
      },
      "source": [
        "#RUIM:\n",
        "\n",
        "a = 3.14\n",
        "b = 10\n",
        "\n",
        "c = a * b ** 2\n",
        "c"
      ],
      "execution_count": 0,
      "outputs": [
        {
          "output_type": "execute_result",
          "data": {
            "text/plain": [
              "314.0"
            ]
          },
          "metadata": {
            "tags": []
          },
          "execution_count": 3
        }
      ]
    },
    {
      "cell_type": "markdown",
      "metadata": {
        "id": "kZO_fN2w3lc_",
        "colab_type": "text"
      },
      "source": [
        "***\n",
        "<font color=\"grey\">\n",
        "**Dica:** o símbolo **#** serve para fazer comentários em células de código, e aí o que estiver escrito depois do símbolo não é **interpretado**.\n",
        "***"
      ]
    },
    {
      "cell_type": "markdown",
      "metadata": {
        "id": "nEs9Ku2q32o8",
        "colab_type": "text"
      },
      "source": [
        "##PROGRAMAÇÃO vs MATEMÁTICA\n",
        "\n",
        "A matemática que estamos acostumados não funciona tão bem em alguns pontos na programação, principalmente na parte de resolver funções.\n",
        "\n",
        "Aqui nós não resolvemos a função para a variável, e sim atribuimos um novo valor a ela. \n",
        "\n",
        "**OI?!** \n",
        "\n",
        "Calma que melhora! Sempre melhora (:\n",
        "\n",
        "**Segue um exemplo:**"
      ]
    },
    {
      "cell_type": "code",
      "metadata": {
        "id": "JuIjDkOf_AEe",
        "colab_type": "code",
        "outputId": "dba44edd-ce42-41e4-8581-aa39abd91548",
        "colab": {
          "base_uri": "https://localhost:8080/",
          "height": 34
        }
      },
      "source": [
        "y = 2\n",
        "y = 2 * y  # Aqui, para a matemática não faria sentido, já que estaríamos dizendo que 2=4\n",
        "#Como na programação as coisas são diferentes, na verdade estamos usando o valor antigo de y para calcular um novo valor para y!\n",
        "y"
      ],
      "execution_count": 0,
      "outputs": [
        {
          "output_type": "execute_result",
          "data": {
            "text/plain": [
              "4"
            ]
          },
          "metadata": {
            "tags": []
          },
          "execution_count": 15
        }
      ]
    },
    {
      "cell_type": "markdown",
      "metadata": {
        "id": "kKjUblAu8eNU",
        "colab_type": "text"
      },
      "source": [
        "##TROCANDO ATRIBUIÇÕES\n",
        "\n",
        "Existem casos em que uma variável está vinculada a outras variáveis. No exemplo abaixo,  a variável `área` está vinculada às variáveis `raio` e `pi`.\n",
        "\n",
        "\n",
        "Assim, é possível reatribuir o valor dessa variável vinculada (`área`) através da mudança do valor atribuído à segunda variável (`raio`).\n",
        ">No primeiro momento, ao `raio` foi atribuido o valor `2.2`, e portanto, a `área=15.21` também foi guardada na memória do programa.\n",
        "Mas é possível reatribuir o valor da `área` trocando o valor do `raio`.\n",
        "\n",
        "\n",
        "**Cuidado:** O valor da variável  `área` não será reatribuido automáticamente no momento em que o 'raio' receber um novo valor. Para receber o novo valor da `área` é preciso dar o comando ao programa para calculá-la novamente!"
      ]
    },
    {
      "cell_type": "code",
      "metadata": {
        "id": "JMKZKxfM6Qwa",
        "colab_type": "code",
        "outputId": "b15887c9-0539-4c1e-9db8-3a3bf05aff5b",
        "colab": {
          "base_uri": "https://localhost:8080/",
          "height": 153
        }
      },
      "source": [
        "pi = 3.14159\n",
        "raio = 2.2\n",
        "\n",
        "print('Valor inicial do raio é {:.2f}'.format(raio))\n",
        "\n",
        "print('      -> Agora calculamos a área')\n",
        "\n",
        "área = pi * raio ** 2\n",
        "\n",
        "print('A área é {:.2f}'.format(área))\n",
        "\n",
        "print('      -> Agora queremos aumentar nosso raio em 1')\n",
        "\n",
        "raio = raio + 1\n",
        "\n",
        "print('O novo raio é {:.2f}'.format(raio))\n",
        "\n",
        "print('Mas a área continua {:.2f}'.format(área))\n",
        "\n",
        "print('      -> Agora recalculamos a área')\n",
        "\n",
        "area = pi * raio ** 2\n",
        "\n",
        "print('A nova área é {:.2f}'.format(área))\n"
      ],
      "execution_count": 0,
      "outputs": [
        {
          "output_type": "stream",
          "text": [
            "Valor inicial do raio é 2.20\n",
            "      -> Agora calculamos a área\n",
            "A área é 15.21\n",
            "      -> Agora queremos aumentar nosso raio em 1\n",
            "O novo raio é 3.20\n",
            "Mas a área continua 15.21\n",
            "      -> Agora recalculamos a área\n",
            "A nova área é 15.21\n"
          ],
          "name": "stdout"
        }
      ]
    },
    {
      "cell_type": "markdown",
      "metadata": {
        "id": "2ND8zTeRCrjG",
        "colab_type": "text"
      },
      "source": [
        "***\n",
        "\n",
        "<font color=\"grey\">\n",
        "**Adendo:** Tem várias coisas que ainda são meio estranhas nesse exemplo acima, mas relaxa que elas serão melhor explicadas mais para frente. Algumas já podemos destrinchar aqui:\n",
        "\n",
        "\n",
        "*   <font color=\"orange\"> **`print('   ')`** </font>: tudo o que você escrever entre `' '` será \"impresso\", como aconteceu no exemplo acima.\n",
        "*   <font color=\"orange\"> <b>`print(' {}'.format(    ))`</b></font>: Esse comando grandão vale, simplesmente, para você conseguir imprimir suas variáveis entre o seu texto! Ao invés de escrever o valor da variável, você pode chamar a variável pelo nome colocando as chaves { } no meio do texto.\n",
        "\n",
        "  Exemplo: print('O novo raio é { }'.format(raio)) - no lugar das chaves { } será impresso o valor do raio.\n",
        "\n",
        "*   <font color=\"orange\"> <b>`print(' {:.2f}'.format(    ))`</b></font>:  Aqui é quase a mesma coisa, só tem mais um detalhe: o **:.2f** significa que estamos dizendo ao programa imprimir o valor com duas casas decimais!\n",
        "\n",
        "Além disso, perceba que a linha <font color=\"orange\"> <b>`área = pi * radius ** 2`</b></font> do código não foi \"impressa\" quando o código foi rodado. Isso acontece porque a área foi apenas** calculada**, e o interpretador só vai **\"imprimir\"** se você mandar ele fazer isso.\n",
        "***\n",
        "\n"
      ]
    },
    {
      "cell_type": "markdown",
      "metadata": {
        "id": "WOYzGb3bCfOj",
        "colab_type": "text"
      },
      "source": [
        "##EXERCÍCIOS\n",
        "\n",
        "1. Faça um programa que, dada a temperatura  T em graus Fahrenheit, transforme a temperatura em graus Celsius.\n",
        "\n",
        "\n",
        "\n",
        "> $T = 100 ºF $\n",
        "\n",
        "\n",
        "> $C = (5/9) * (F-32)$"
      ]
    },
    {
      "cell_type": "code",
      "metadata": {
        "id": "kDUshFm7DZML",
        "colab_type": "code",
        "colab": {}
      },
      "source": [
        ""
      ],
      "execution_count": 0,
      "outputs": []
    },
    {
      "cell_type": "markdown",
      "metadata": {
        "id": "YqzSZ8KyDZY7",
        "colab_type": "text"
      },
      "source": [
        "2. Faça um programa que, dados dois números inteiros e um número real, calcule e mostre: (a=15, b=-8, c=4.6)\n",
        "> * o produto do dobro do primeiro com metade do segundo .\n",
        ">* a soma do triplo do primeiro com o terceiro.\n",
        "> * o terceiro elevado ao cubo."
      ]
    },
    {
      "cell_type": "code",
      "metadata": {
        "id": "s6BLYyR6GHtb",
        "colab_type": "code",
        "colab": {}
      },
      "source": [
        ""
      ],
      "execution_count": 0,
      "outputs": []
    }
  ]
}