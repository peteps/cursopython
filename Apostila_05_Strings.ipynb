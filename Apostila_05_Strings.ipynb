{
  "nbformat": 4,
  "nbformat_minor": 0,
  "metadata": {
    "colab": {
      "name": "Cópia de Apostila - 05. Strings",
      "version": "0.3.2",
      "provenance": []
    },
    "kernelspec": {
      "name": "python3",
      "display_name": "Python 3"
    }
  },
  "cells": [
    {
      "cell_type": "markdown",
      "metadata": {
        "id": "lV0Zxsb7yjct",
        "colab_type": "text"
      },
      "source": [
        "#STRINGS\n",
        "\n",
        "As **`strings`** são uma classe de objetos compostas por uma sequência de caracteres. Para que o interpretador entenda que você está usando uma **`string`**, é necessário que ela seja representada entre aspas (simples ou duplas, você escolhe!)"
      ]
    },
    {
      "cell_type": "code",
      "metadata": {
        "id": "qk1cWRWPyfam",
        "colab_type": "code",
        "outputId": "c52b41c1-9926-4962-971f-638b82619260",
        "colab": {
          "base_uri": "https://localhost:8080/",
          "height": 35
        }
      },
      "source": [
        "minha_string = \"Um copo de água\"\n",
        "print (minha_string)"
      ],
      "execution_count": 0,
      "outputs": [
        {
          "output_type": "stream",
          "text": [
            "Um copo de água\n"
          ],
          "name": "stdout"
        }
      ]
    },
    {
      "cell_type": "code",
      "metadata": {
        "id": "Z8qEldnB0cqv",
        "colab_type": "code",
        "outputId": "c3fad25d-bc0c-41a2-c42c-4d16f1872239",
        "colab": {
          "base_uri": "https://localhost:8080/",
          "height": 35
        }
      },
      "source": [
        "outra_string = 'Dois copos de água'\n",
        "print (outra_string)"
      ],
      "execution_count": 0,
      "outputs": [
        {
          "output_type": "stream",
          "text": [
            "Dois copos de água\n"
          ],
          "name": "stdout"
        }
      ]
    },
    {
      "cell_type": "code",
      "metadata": {
        "id": "hWtHwq3X1r4b",
        "colab_type": "code",
        "outputId": "c2c0ab5f-6f0a-416a-dcf8-137b059aa9de",
        "colab": {
          "base_uri": "https://localhost:8080/",
          "height": 135
        }
      },
      "source": [
        "string_errada = 'Muitos copos de água\"\n",
        "print (string_errada)"
      ],
      "execution_count": 0,
      "outputs": [
        {
          "output_type": "error",
          "ename": "SyntaxError",
          "evalue": "ignored",
          "traceback": [
            "\u001b[0;36m  File \u001b[0;32m\"<ipython-input-7-700d250c4428>\"\u001b[0;36m, line \u001b[0;32m1\u001b[0m\n\u001b[0;31m    string_errada = 'Muitos copos de água\"\u001b[0m\n\u001b[0m                                          ^\u001b[0m\n\u001b[0;31mSyntaxError\u001b[0m\u001b[0;31m:\u001b[0m EOL while scanning string literal\n"
          ]
        }
      ]
    },
    {
      "cell_type": "code",
      "metadata": {
        "id": "Q0omR60Z1uRV",
        "colab_type": "code",
        "outputId": "5e6158fb-541d-4524-dbec-88048907e20f",
        "colab": {
          "base_uri": "https://localhost:8080/",
          "height": 135
        }
      },
      "source": [
        "string_teste = 'Um copo d'água'\n",
        "print (string_teste)"
      ],
      "execution_count": 0,
      "outputs": [
        {
          "output_type": "error",
          "ename": "SyntaxError",
          "evalue": "ignored",
          "traceback": [
            "\u001b[0;36m  File \u001b[0;32m\"<ipython-input-8-ec3891b501c3>\"\u001b[0;36m, line \u001b[0;32m1\u001b[0m\n\u001b[0;31m    string_teste = 'Um copo d'água'\u001b[0m\n\u001b[0m                                 ^\u001b[0m\n\u001b[0;31mSyntaxError\u001b[0m\u001b[0;31m:\u001b[0m invalid syntax\n"
          ]
        }
      ]
    },
    {
      "cell_type": "markdown",
      "metadata": {
        "id": "N154Rsrg36Ae",
        "colab_type": "text"
      },
      "source": [
        "Se você precisa usar um apóstrofe dentro da **`string`**, pode fazer das seguintes maneiras:"
      ]
    },
    {
      "cell_type": "code",
      "metadata": {
        "id": "6YY9_6qH2Qcx",
        "colab_type": "code",
        "outputId": "49bdbba1-a969-45a2-a300-bf64328a3528",
        "colab": {
          "base_uri": "https://localhost:8080/",
          "height": 35
        }
      },
      "source": [
        "string_outro_teste = \"copo d'água\"\n",
        "print (string_outro_teste)"
      ],
      "execution_count": 0,
      "outputs": [
        {
          "output_type": "stream",
          "text": [
            "copo d'água\n"
          ],
          "name": "stdout"
        }
      ]
    },
    {
      "cell_type": "code",
      "metadata": {
        "id": "HVaGCNAS2VyR",
        "colab_type": "code",
        "outputId": "902e6607-0241-4f75-d6a6-51948aac0bbb",
        "colab": {
          "base_uri": "https://localhost:8080/",
          "height": 35
        }
      },
      "source": [
        "string_mais_um_teste = 'copo d\\'água'\n",
        "print (string_mais_um_teste)"
      ],
      "execution_count": 0,
      "outputs": [
        {
          "output_type": "stream",
          "text": [
            "copo d'água\n"
          ],
          "name": "stdout"
        }
      ]
    },
    {
      "cell_type": "markdown",
      "metadata": {
        "id": "BBLplmym4OWO",
        "colab_type": "text"
      },
      "source": [
        "Ou até usar aspas:"
      ]
    },
    {
      "cell_type": "code",
      "metadata": {
        "id": "lfeHmSAn3BV7",
        "colab_type": "code",
        "outputId": "21465d99-2dbc-4eef-fb9d-f289af2a107c",
        "colab": {
          "base_uri": "https://localhost:8080/",
          "height": 35
        }
      },
      "source": [
        "msg = 'vou usar o celular só para \"usar a calculadora\"'\n",
        "print (msg)"
      ],
      "execution_count": 0,
      "outputs": [
        {
          "output_type": "stream",
          "text": [
            "vou usar o celular só para \"usar a calculadora\"\n"
          ],
          "name": "stdout"
        }
      ]
    },
    {
      "cell_type": "markdown",
      "metadata": {
        "id": "ZRzTjvLK1Zsz",
        "colab_type": "text"
      },
      "source": [
        "Além disso, você pode realizar operações com **`strings`**:"
      ]
    },
    {
      "cell_type": "code",
      "metadata": {
        "id": "KW_rpb7I3Xgy",
        "colab_type": "code",
        "outputId": "4a179ebb-fefd-49a3-b394-71274df0107a",
        "colab": {
          "base_uri": "https://localhost:8080/",
          "height": 35
        }
      },
      "source": [
        "\"piu\" * 3"
      ],
      "execution_count": 0,
      "outputs": [
        {
          "output_type": "execute_result",
          "data": {
            "text/plain": [
              "'piupiupiu'"
            ]
          },
          "metadata": {
            "tags": []
          },
          "execution_count": 12
        }
      ]
    },
    {
      "cell_type": "code",
      "metadata": {
        "id": "8Y6V_eRy4b6-",
        "colab_type": "code",
        "outputId": "d97d9088-e529-48e3-94e8-94bbea6b2ce6",
        "colab": {
          "base_uri": "https://localhost:8080/",
          "height": 35
        }
      },
      "source": [
        "'piu' + \"piu\""
      ],
      "execution_count": 0,
      "outputs": [
        {
          "output_type": "execute_result",
          "data": {
            "text/plain": [
              "'piupiu'"
            ]
          },
          "metadata": {
            "tags": []
          },
          "execution_count": 13
        }
      ]
    },
    {
      "cell_type": "code",
      "metadata": {
        "id": "EgoPL4OH7Jff",
        "colab_type": "code",
        "outputId": "b0bdb9ae-f906-4d27-c191-f7a0776c04b3",
        "colab": {
          "base_uri": "https://localhost:8080/",
          "height": 135
        }
      },
      "source": [
        "string_com_enter = \"oi,\n",
        "tudo bem?\"\n",
        "print (string_com_enter)"
      ],
      "execution_count": 0,
      "outputs": [
        {
          "output_type": "error",
          "ename": "SyntaxError",
          "evalue": "ignored",
          "traceback": [
            "\u001b[0;36m  File \u001b[0;32m\"<ipython-input-14-4505659a97c5>\"\u001b[0;36m, line \u001b[0;32m1\u001b[0m\n\u001b[0;31m    string_com_enter = \"oi,\u001b[0m\n\u001b[0m                           ^\u001b[0m\n\u001b[0;31mSyntaxError\u001b[0m\u001b[0;31m:\u001b[0m EOL while scanning string literal\n"
          ]
        }
      ]
    },
    {
      "cell_type": "markdown",
      "metadata": {
        "id": "rVOUo63C6dKS",
        "colab_type": "text"
      },
      "source": [
        "Perceba que Python não reconhece o \"enter\" no meio da `string`.\n",
        "\n",
        "Para fazê-lo entender, é necessário usar `\\n` ou então usar aspas triplas (`'''`). \n",
        "\n",
        "Perceba também que é possível escrever várias `strings` numa mesma variável entre parênteses.\n",
        "\n",
        "**Por exemplo:**"
      ]
    },
    {
      "cell_type": "code",
      "metadata": {
        "id": "xptLsYLU9B4-",
        "colab_type": "code",
        "outputId": "72f9f657-62d3-4983-b204-46f59ad87e84",
        "colab": {
          "base_uri": "https://localhost:8080/",
          "height": 90
        }
      },
      "source": [
        "música = ('O cravo brigou com a rosa\\n'  #não esqueça de finalizar com \\n\n",
        "          'Debaixo de uma sacada\\n'\n",
        "          'O cravo saiu ferido\\n'\n",
        "          'E a rosa despedaçada')\n",
        "print (música)"
      ],
      "execution_count": 0,
      "outputs": [
        {
          "output_type": "stream",
          "text": [
            "O cravo brigou com a rosa\n",
            "Debaixo de uma sacada\n",
            "O cravo saiu ferido\n",
            "E a rosa despedaçada\n"
          ],
          "name": "stdout"
        }
      ]
    },
    {
      "cell_type": "code",
      "metadata": {
        "id": "Q0aLAYu0-SYj",
        "colab_type": "code",
        "outputId": "3494eb08-8c17-4005-c007-b974e05813aa",
        "colab": {
          "base_uri": "https://localhost:8080/",
          "height": 90
        }
      },
      "source": [
        "música = '''O cravo brigou com a rosa\n",
        "          Debaixo de uma sacada\n",
        "          O cravo saiu ferido\n",
        "          E a rosa despedaçada'''\n",
        "print (música)"
      ],
      "execution_count": 0,
      "outputs": [
        {
          "output_type": "stream",
          "text": [
            "O cravo brigou com a rosa\n",
            "          Debaixo de uma sacada\n",
            "          O cravo saiu ferido\n",
            "          E a rosa despedaçada\n"
          ],
          "name": "stdout"
        }
      ]
    },
    {
      "cell_type": "markdown",
      "metadata": {
        "id": "1-gWrKn_40_W",
        "colab_type": "text"
      },
      "source": [
        "Ainda, se quiser escrever algo em letra maiúscula, pode usar a função **`upper()`**:"
      ]
    },
    {
      "cell_type": "code",
      "metadata": {
        "id": "tmWRIrdz5DGJ",
        "colab_type": "code",
        "outputId": "3a493a94-457d-4c7f-fefe-e7309ad11781",
        "colab": {
          "base_uri": "https://localhost:8080/",
          "height": 35
        }
      },
      "source": [
        "\"piu\".upper()"
      ],
      "execution_count": 0,
      "outputs": [
        {
          "output_type": "execute_result",
          "data": {
            "text/plain": [
              "'PIU'"
            ]
          },
          "metadata": {
            "tags": []
          },
          "execution_count": 17
        }
      ]
    },
    {
      "cell_type": "markdown",
      "metadata": {
        "id": "NBRwX3i5amUh",
        "colab_type": "text"
      },
      "source": [
        "Ou, também, passar para letras minúsculas, usando a função **`lower()`**:"
      ]
    },
    {
      "cell_type": "code",
      "metadata": {
        "id": "3ZWouOXVa4xG",
        "colab_type": "code",
        "outputId": "7050827e-433b-4ede-95b0-8532c9d91a51",
        "colab": {
          "base_uri": "https://localhost:8080/",
          "height": 35
        }
      },
      "source": [
        "\"PIU\".lower()"
      ],
      "execution_count": 0,
      "outputs": [
        {
          "output_type": "execute_result",
          "data": {
            "text/plain": [
              "'piu'"
            ]
          },
          "metadata": {
            "tags": []
          },
          "execution_count": 18
        }
      ]
    },
    {
      "cell_type": "markdown",
      "metadata": {
        "id": "o_uvcgRc-fxj",
        "colab_type": "text"
      },
      "source": [
        "Sabemos que é mais fácil usar o \"Caps Lock\" para o exemplo acima, mas tome um exemplo mais longo. "
      ]
    },
    {
      "cell_type": "code",
      "metadata": {
        "id": "G1FF3dXRbii4",
        "colab_type": "code",
        "colab": {}
      },
      "source": [
        "exemplo_longo = '1 elefante incomoda muita gente. 2 elefantes incomodam, incomodam muito mais. 3 elefantes incomodam muita gente, 4 elefantes incomodam, incomodam, incomodam, incomodam muito mais.'"
      ],
      "execution_count": 0,
      "outputs": []
    },
    {
      "cell_type": "code",
      "metadata": {
        "id": "eI6qo0K6-enL",
        "colab_type": "code",
        "outputId": "15c1c9f9-7694-42e2-8915-f037afa7f54b",
        "colab": {
          "base_uri": "https://localhost:8080/",
          "height": 55
        }
      },
      "source": [
        "exemplo_longo.upper()"
      ],
      "execution_count": 0,
      "outputs": [
        {
          "output_type": "execute_result",
          "data": {
            "text/plain": [
              "'1 ELEFANTE INCOMODA MUITA GENTE. 2 ELEFANTES INCOMODAM, INCOMODAM MUITO MAIS. 3 ELEFANTES INCOMODAM MUITA GENTE, 4 ELEFANTES INCOMODAM, INCOMODAM, INCOMODAM, INCOMODAM MUITO MAIS.'"
            ]
          },
          "metadata": {
            "tags": []
          },
          "execution_count": 20
        }
      ]
    },
    {
      "cell_type": "markdown",
      "metadata": {
        "id": "ff6FNbKubQoF",
        "colab_type": "text"
      },
      "source": [
        "Se você tivesse que mudar toda essa `string` para caixa alta daria muito mais trabalho reescrevê-la com caps lock do que usar a função upper!\n",
        "\n",
        "E ainda, podemos corrigir um texto que sem querer foi escrito todo em letras maiúsculas com a função **`capitalize()`**."
      ]
    },
    {
      "cell_type": "code",
      "metadata": {
        "id": "f2cczx1NTUDP",
        "colab_type": "code",
        "outputId": "0c38a020-c87c-48d8-8d19-9b913c5e111e",
        "colab": {
          "base_uri": "https://localhost:8080/",
          "height": 35
        }
      },
      "source": [
        "msg = 'OI, TUDO BEM?'\n",
        "msg.capitalize()"
      ],
      "execution_count": 0,
      "outputs": [
        {
          "output_type": "execute_result",
          "data": {
            "text/plain": [
              "'Oi, tudo bem?'"
            ]
          },
          "metadata": {
            "tags": []
          },
          "execution_count": 21
        }
      ]
    },
    {
      "cell_type": "markdown",
      "metadata": {
        "id": "nl33NULu5Inr",
        "colab_type": "text"
      },
      "source": [
        "Além de tudo isso, você ainda pode descobrir quantos caracteres tem uma `string` (ou seja, seu comprimento):"
      ]
    },
    {
      "cell_type": "code",
      "metadata": {
        "id": "vf343uue5H47",
        "colab_type": "code",
        "outputId": "152fe4dd-64a6-44d1-ad63-3e8ef6aed13f",
        "colab": {
          "base_uri": "https://localhost:8080/",
          "height": 35
        }
      },
      "source": [
        "len(\"Piu\")"
      ],
      "execution_count": 0,
      "outputs": [
        {
          "output_type": "execute_result",
          "data": {
            "text/plain": [
              "3"
            ]
          },
          "metadata": {
            "tags": []
          },
          "execution_count": 22
        }
      ]
    },
    {
      "cell_type": "markdown",
      "metadata": {
        "id": "DPW1bWRbVCNQ",
        "colab_type": "text"
      },
      "source": [
        "Ou mesmo, achar uma letra específica. Por exemplo a primeira letra da `string`."
      ]
    },
    {
      "cell_type": "code",
      "metadata": {
        "id": "1Jx8hxlVVfDx",
        "colab_type": "code",
        "colab": {}
      },
      "source": [
        "nome = 'Maria Eduarda'\n",
        "primeira_letra = nome[0] #perceba que a posição inicial é a 0"
      ],
      "execution_count": 0,
      "outputs": []
    },
    {
      "cell_type": "code",
      "metadata": {
        "id": "VyOTiKj8V0y4",
        "colab_type": "code",
        "outputId": "4c0da2c4-eea8-4728-c664-82ede972411c",
        "colab": {
          "base_uri": "https://localhost:8080/",
          "height": 35
        }
      },
      "source": [
        "primeira_letra"
      ],
      "execution_count": 0,
      "outputs": [
        {
          "output_type": "execute_result",
          "data": {
            "text/plain": [
              "'M'"
            ]
          },
          "metadata": {
            "tags": []
          },
          "execution_count": 24
        }
      ]
    },
    {
      "cell_type": "code",
      "metadata": {
        "id": "dUWVSxy0V4G_",
        "colab_type": "code",
        "outputId": "f932911e-ad20-4463-b7e4-4dccfe1fe9ac",
        "colab": {
          "base_uri": "https://localhost:8080/",
          "height": 35
        }
      },
      "source": [
        "quarta_letra = nome[3]\n",
        "quarta_letra"
      ],
      "execution_count": 0,
      "outputs": [
        {
          "output_type": "execute_result",
          "data": {
            "text/plain": [
              "'i'"
            ]
          },
          "metadata": {
            "tags": []
          },
          "execution_count": 25
        }
      ]
    },
    {
      "cell_type": "code",
      "metadata": {
        "id": "RKS-3RNWV9qf",
        "colab_type": "code",
        "outputId": "0b75a750-3e90-467f-c38e-4ed0dab1c936",
        "colab": {
          "base_uri": "https://localhost:8080/",
          "height": 35
        }
      },
      "source": [
        "última_letra = nome[len(nome)-1]  #lembre-se que a contagem da string começa em 0, \n",
        "última_letra                      #então a última letra é o número de letras da string - 1"
      ],
      "execution_count": 0,
      "outputs": [
        {
          "output_type": "execute_result",
          "data": {
            "text/plain": [
              "'a'"
            ]
          },
          "metadata": {
            "tags": []
          },
          "execution_count": 27
        }
      ]
    },
    {
      "cell_type": "markdown",
      "metadata": {
        "id": "WfzzWPj1WmM-",
        "colab_type": "text"
      },
      "source": [
        "Se quisermos uma parte da `string`:"
      ]
    },
    {
      "cell_type": "code",
      "metadata": {
        "id": "XHZERPNiWNJs",
        "colab_type": "code",
        "outputId": "615dc559-7598-46ac-864c-1e417c514f1a",
        "colab": {
          "base_uri": "https://localhost:8080/",
          "height": 35
        }
      },
      "source": [
        "nome[:5]"
      ],
      "execution_count": 0,
      "outputs": [
        {
          "output_type": "execute_result",
          "data": {
            "text/plain": [
              "'Maria'"
            ]
          },
          "metadata": {
            "tags": []
          },
          "execution_count": 28
        }
      ]
    },
    {
      "cell_type": "code",
      "metadata": {
        "id": "7_5NAMLMWwPG",
        "colab_type": "code",
        "outputId": "21a51b08-a96b-4ec0-86e5-7be6b0aebd7d",
        "colab": {
          "base_uri": "https://localhost:8080/",
          "height": 35
        }
      },
      "source": [
        "nome[1:3]"
      ],
      "execution_count": 0,
      "outputs": [
        {
          "output_type": "execute_result",
          "data": {
            "text/plain": [
              "'ar'"
            ]
          },
          "metadata": {
            "tags": []
          },
          "execution_count": 29
        }
      ]
    },
    {
      "cell_type": "markdown",
      "metadata": {
        "id": "U1egf0VYXVtC",
        "colab_type": "text"
      },
      "source": [
        "##IMUTABILIDADE\n",
        "É importante lembrar que os objetos do tipo `string` são imutáveis, ou seja, não podemos alterá-los! Talvez você me conteste dizendo que já mudamos uma `string` antes (quando colocamos elas em letras maiúsculas, por exemplo). \n",
        "\n",
        "Na verdade nós não às alteramos, apenas ordenamos ao programa que às imprimissem de outra maneira. O que acontece é que elas terão **endereços diferentes**, ou seja, o Python cria um novo objeto (a `string` impressa do jeito que você mandou) e os diferencia ocupando dois espaços diferentes na memória."
      ]
    },
    {
      "cell_type": "code",
      "metadata": {
        "id": "sCvVdYhbY_yA",
        "colab_type": "code",
        "colab": {}
      },
      "source": [
        "uma_string = 'oi, tudo bem?'"
      ],
      "execution_count": 0,
      "outputs": []
    },
    {
      "cell_type": "code",
      "metadata": {
        "id": "Xx5aeroKZeku",
        "colab_type": "code",
        "outputId": "17b3b5b5-beee-4cc9-b7b6-402bb1a7cc6b",
        "colab": {
          "base_uri": "https://localhost:8080/",
          "height": 35
        }
      },
      "source": [
        "id(uma_string)  #Esse é o número de identificação desse objeto para o programa."
      ],
      "execution_count": 0,
      "outputs": [
        {
          "output_type": "execute_result",
          "data": {
            "text/plain": [
              "140696469683952"
            ]
          },
          "metadata": {
            "tags": []
          },
          "execution_count": 31
        }
      ]
    },
    {
      "cell_type": "code",
      "metadata": {
        "id": "l47kLrGcZbfw",
        "colab_type": "code",
        "outputId": "fb074b38-ea5b-4b5a-ef57-b5b0f259c78e",
        "colab": {
          "base_uri": "https://localhost:8080/",
          "height": 35
        }
      },
      "source": [
        "uma_string.upper()"
      ],
      "execution_count": 0,
      "outputs": [
        {
          "output_type": "execute_result",
          "data": {
            "text/plain": [
              "'OI, TUDO BEM?'"
            ]
          },
          "metadata": {
            "tags": []
          },
          "execution_count": 32
        }
      ]
    },
    {
      "cell_type": "code",
      "metadata": {
        "id": "NkjK1QhXZkrG",
        "colab_type": "code",
        "outputId": "899a5fa8-7cd3-420a-e00b-88aeb2e8ae26",
        "colab": {
          "base_uri": "https://localhost:8080/",
          "height": 35
        }
      },
      "source": [
        "id(uma_string.upper())  #Percebeu que não é o mesmo número? Portanto, não são o mesmo objeto!"
      ],
      "execution_count": 0,
      "outputs": [
        {
          "output_type": "execute_result",
          "data": {
            "text/plain": [
              "140696469629744"
            ]
          },
          "metadata": {
            "tags": []
          },
          "execution_count": 33
        }
      ]
    },
    {
      "cell_type": "code",
      "metadata": {
        "id": "6krSRrn_Zosn",
        "colab_type": "code",
        "outputId": "a20f0e8c-b314-418e-8eb5-d1771289f452",
        "colab": {
          "base_uri": "https://localhost:8080/",
          "height": 35
        }
      },
      "source": [
        "uma_string == uma_string.upper()"
      ],
      "execution_count": 0,
      "outputs": [
        {
          "output_type": "execute_result",
          "data": {
            "text/plain": [
              "False"
            ]
          },
          "metadata": {
            "tags": []
          },
          "execution_count": 34
        }
      ]
    },
    {
      "cell_type": "markdown",
      "metadata": {
        "id": "7kkMlOEHcExu",
        "colab_type": "text"
      },
      "source": [
        "Como falamos agora, não podemos mudar uma `string`, portanto, olha o que acontece se quisermos mudar um carácter dela:"
      ]
    },
    {
      "cell_type": "code",
      "metadata": {
        "id": "PS5usyHDck_X",
        "colab_type": "code",
        "outputId": "1abc285a-4952-4651-bb30-d064802926d9",
        "colab": {
          "base_uri": "https://localhost:8080/",
          "height": 35
        }
      },
      "source": [
        "uma_string[0]"
      ],
      "execution_count": 0,
      "outputs": [
        {
          "output_type": "execute_result",
          "data": {
            "text/plain": [
              "'o'"
            ]
          },
          "metadata": {
            "tags": []
          },
          "execution_count": 35
        }
      ]
    },
    {
      "cell_type": "code",
      "metadata": {
        "id": "vfqIoG8ucyw2",
        "colab_type": "code",
        "outputId": "2b70f6cd-07b1-4418-8b38-514214b1c8fc",
        "colab": {
          "base_uri": "https://localhost:8080/",
          "height": 171
        }
      },
      "source": [
        "uma_string[0] = 'O'"
      ],
      "execution_count": 0,
      "outputs": [
        {
          "output_type": "error",
          "ename": "TypeError",
          "evalue": "ignored",
          "traceback": [
            "\u001b[0;31m---------------------------------------------------------------------------\u001b[0m",
            "\u001b[0;31mTypeError\u001b[0m                                 Traceback (most recent call last)",
            "\u001b[0;32m<ipython-input-36-2ad48e1e4934>\u001b[0m in \u001b[0;36m<module>\u001b[0;34m()\u001b[0m\n\u001b[0;32m----> 1\u001b[0;31m \u001b[0muma_string\u001b[0m\u001b[0;34m[\u001b[0m\u001b[0;36m0\u001b[0m\u001b[0;34m]\u001b[0m \u001b[0;34m=\u001b[0m \u001b[0;34m'O'\u001b[0m\u001b[0;34m\u001b[0m\u001b[0m\n\u001b[0m",
            "\u001b[0;31mTypeError\u001b[0m: 'str' object does not support item assignment"
          ]
        }
      ]
    },
    {
      "cell_type": "markdown",
      "metadata": {
        "id": "7g0pBam4c-Q9",
        "colab_type": "text"
      },
      "source": [
        "##FUNÇÃO `replace()`"
      ]
    },
    {
      "cell_type": "markdown",
      "metadata": {
        "id": "fzr0UufvdG0W",
        "colab_type": "text"
      },
      "source": [
        "Essa função substitui uma parte do texto por uma outra `string`!"
      ]
    },
    {
      "cell_type": "code",
      "metadata": {
        "id": "Tk8BAT56Sehl",
        "colab_type": "code",
        "outputId": "2d49834b-97dd-4d80-be22-f1265086846e",
        "colab": {
          "base_uri": "https://localhost:8080/",
          "height": 35
        }
      },
      "source": [
        "uma_string"
      ],
      "execution_count": 0,
      "outputs": [
        {
          "output_type": "execute_result",
          "data": {
            "text/plain": [
              "'oi, tudo bem?'"
            ]
          },
          "metadata": {
            "tags": []
          },
          "execution_count": 37
        }
      ]
    },
    {
      "cell_type": "code",
      "metadata": {
        "id": "9KIkltRCc7tm",
        "colab_type": "code",
        "outputId": "35471cec-bbbb-459f-d9dd-d892a30e0be4",
        "colab": {
          "base_uri": "https://localhost:8080/",
          "height": 35
        }
      },
      "source": [
        "uma_string.replace('oi', 'Olá')"
      ],
      "execution_count": 0,
      "outputs": [
        {
          "output_type": "execute_result",
          "data": {
            "text/plain": [
              "'Olá, tudo bem?'"
            ]
          },
          "metadata": {
            "tags": []
          },
          "execution_count": 38
        }
      ]
    },
    {
      "cell_type": "markdown",
      "metadata": {
        "id": "K_edRB_fdwug",
        "colab_type": "text"
      },
      "source": [
        "**IMPORTANTE!** \n",
        "\n",
        "A função `replace()` devolve uma **nova string**, já que são imutáveis. Se você buscar os lugares de cada uma na memória, serão diferentes de novo! (:"
      ]
    },
    {
      "cell_type": "markdown",
      "metadata": {
        "id": "jDRKFUY2SyCn",
        "colab_type": "text"
      },
      "source": [
        "##EXERCÍCIOS\n",
        "\n",
        "1. Dado uma `string`, escreva um programa que conte quantas vogais e quantos espaços em branco existem nela."
      ]
    },
    {
      "cell_type": "code",
      "metadata": {
        "id": "d3ZyVEXQTJ45",
        "colab_type": "code",
        "colab": {}
      },
      "source": [
        ""
      ],
      "execution_count": 0,
      "outputs": []
    },
    {
      "cell_type": "markdown",
      "metadata": {
        "id": "DIHgBuMWW5Fa",
        "colab_type": "text"
      },
      "source": [
        "2. Escreva um código que verifique se uma `string` é um palíndromo, ou seja, uma palavra que se escreve do mesmo jeito de trás para frente. Exemplo de palíndromo: 'radar'. "
      ]
    },
    {
      "cell_type": "code",
      "metadata": {
        "id": "BczAvT8iYEIQ",
        "colab_type": "code",
        "colab": {}
      },
      "source": [
        ""
      ],
      "execution_count": 0,
      "outputs": []
    }
  ]
}