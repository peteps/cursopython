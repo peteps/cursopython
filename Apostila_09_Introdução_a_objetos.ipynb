{
  "nbformat": 4,
  "nbformat_minor": 0,
  "metadata": {
    "colab": {
      "name": "Cópia de Apostila - 09. Introdução a objetos",
      "version": "0.3.2",
      "provenance": [],
      "collapsed_sections": [
        "AJhzr_2e65SK"
      ]
    },
    "kernelspec": {
      "name": "python3",
      "display_name": "Python 3"
    }
  },
  "cells": [
    {
      "cell_type": "markdown",
      "metadata": {
        "id": "F4hVxZhC3EOi",
        "colab_type": "text"
      },
      "source": [
        "#INTRODUÇÃO A OBJETOS\n",
        "\n",
        "Como assim \"introdução\" se falamos de objetos até agora? É bem isso. O conceito de objetos é um tanto complexo, por isso demanda um capítulo só sobre isso. Mas relaxa, você vai acabar esse notebook entendendo tudo!"
      ]
    },
    {
      "cell_type": "markdown",
      "metadata": {
        "id": "hgFhJr4P4cmm",
        "colab_type": "text"
      },
      "source": [
        "##EXPLORANDO VALORES E REFERÊNCIAS\n",
        "\n",
        "Até agora, nós usamos variáveis dos tipos `int`, `float`, `bool`, `string`, `list` and `tuple`. Acontece que alguns desses são tratados como **valores**, enquanto outros são tratados como **referências**.\n",
        "\n",
        "Para entender o que isso significa e como implica na maneira de programarmos, esse problema vai ajudá-lo a explorar os `types`."
      ]
    },
    {
      "cell_type": "code",
      "metadata": {
        "id": "G5atS3oP2-pZ",
        "colab_type": "code",
        "colab": {}
      },
      "source": [
        "a = 'python'\n",
        "b = 'python'"
      ],
      "execution_count": 0,
      "outputs": []
    },
    {
      "cell_type": "markdown",
      "metadata": {
        "id": "NiVwvBl55hWl",
        "colab_type": "text"
      },
      "source": [
        "Nesse caso, **`a`** e **`b`** referem-se ao mesmo objeto na memória, mais que iguais, **eles são o mesmo objeto**. \n",
        "\n",
        "Mas como podemos ter certeza disso? Como já fizemos antes, podemos buscar o id de uma variável com a função **`id()`**. O Python recebe a variável e retorna o id - seu endereço na memória - do objeto que está atribuído a ela."
      ]
    },
    {
      "cell_type": "code",
      "metadata": {
        "id": "y6KV6K3S65ae",
        "colab_type": "code",
        "outputId": "04781141-f033-421e-d1c6-090875488a7f",
        "colab": {
          "base_uri": "https://localhost:8080/",
          "height": 68
        }
      },
      "source": [
        "print(id(a))\n",
        "print(id(b))\n",
        "print(id(a) == id(b))"
      ],
      "execution_count": 0,
      "outputs": [
        {
          "output_type": "stream",
          "text": [
            "140411574620824\n",
            "140411574620824\n",
            "True\n"
          ],
          "name": "stdout"
        }
      ]
    },
    {
      "cell_type": "markdown",
      "metadata": {
        "id": "jdCXe_wn88bt",
        "colab_type": "text"
      },
      "source": [
        "Então os dois são, de fato, o mesmo. Podemos comparar de uma maneira mais concisa: em Python, temos a palavrinha mágica `is` que nos diz se duas variáveis são o mesmo objeto ou não."
      ]
    },
    {
      "cell_type": "code",
      "metadata": {
        "id": "HUKssv-M9tWU",
        "colab_type": "code",
        "outputId": "5fb49bef-a901-47f2-c35d-3af2f4051f06",
        "colab": {
          "base_uri": "https://localhost:8080/",
          "height": 34
        }
      },
      "source": [
        "a is b"
      ],
      "execution_count": 0,
      "outputs": [
        {
          "output_type": "execute_result",
          "data": {
            "text/plain": [
              "True"
            ]
          },
          "metadata": {
            "tags": []
          },
          "execution_count": 8
        }
      ]
    },
    {
      "cell_type": "markdown",
      "metadata": {
        "id": "MQRprESp_tYe",
        "colab_type": "text"
      },
      "source": [
        "Agora, vamos testar o mesmo código acima com algo diferente. Em vez de \"python\", vamos tentar o número 5, o número 5.0 e o booleano True."
      ]
    },
    {
      "cell_type": "code",
      "metadata": {
        "id": "ta56mfImAan5",
        "colab_type": "code",
        "colab": {}
      },
      "source": [
        "a = 5\n",
        "b = 5.0"
      ],
      "execution_count": 0,
      "outputs": []
    },
    {
      "cell_type": "code",
      "metadata": {
        "id": "ZKjizvi1Ajfm",
        "colab_type": "code",
        "outputId": "ee918a08-a94f-4dca-e82a-e44d67c12b1a",
        "colab": {
          "base_uri": "https://localhost:8080/",
          "height": 34
        }
      },
      "source": [
        "id(a), id(b)"
      ],
      "execution_count": 0,
      "outputs": [
        {
          "output_type": "execute_result",
          "data": {
            "text/plain": [
              "(10935616, 140411006668968)"
            ]
          },
          "metadata": {
            "tags": []
          },
          "execution_count": 10
        }
      ]
    },
    {
      "cell_type": "markdown",
      "metadata": {
        "id": "q-eNPdw2ArYW",
        "colab_type": "text"
      },
      "source": [
        "Perceba que o id de **`a`** é diferente do id de **`b`**. Então..."
      ]
    },
    {
      "cell_type": "code",
      "metadata": {
        "id": "9-_Wo4ubAxNX",
        "colab_type": "code",
        "outputId": "df520bd7-7b2e-423f-8f98-71a150dc360d",
        "colab": {
          "base_uri": "https://localhost:8080/",
          "height": 34
        }
      },
      "source": [
        "a is b"
      ],
      "execution_count": 0,
      "outputs": [
        {
          "output_type": "execute_result",
          "data": {
            "text/plain": [
              "False"
            ]
          },
          "metadata": {
            "tags": []
          },
          "execution_count": 11
        }
      ]
    },
    {
      "cell_type": "markdown",
      "metadata": {
        "id": "0f3WRaEzA0H9",
        "colab_type": "text"
      },
      "source": [
        "...mas "
      ]
    },
    {
      "cell_type": "code",
      "metadata": {
        "id": "xVL5nUemAzsR",
        "colab_type": "code",
        "outputId": "97e62c03-76af-49de-85bb-cb85e8dece4f",
        "colab": {
          "base_uri": "https://localhost:8080/",
          "height": 34
        }
      },
      "source": [
        "a == b"
      ],
      "execution_count": 0,
      "outputs": [
        {
          "output_type": "execute_result",
          "data": {
            "text/plain": [
              "True"
            ]
          },
          "metadata": {
            "tags": []
          },
          "execution_count": 12
        }
      ]
    },
    {
      "cell_type": "markdown",
      "metadata": {
        "id": "eTwb3-GoA7a5",
        "colab_type": "text"
      },
      "source": [
        "Interessante! Então, como regra geral, temos que **objetos de diferentes tipos sempre residem em diferentes endereços na memória**.\n",
        "\n",
        "Além disso, vimos que `a == b` é `True`, o que faz sentido, já que 5 e 5.0 realmente são equivalentes. \n",
        "\n",
        "Agora, vamos tentar com `listas`:"
      ]
    },
    {
      "cell_type": "code",
      "metadata": {
        "id": "9HFmItL6Ay-s",
        "colab_type": "code",
        "colab": {}
      },
      "source": [
        "a = [1, 2, 3]\n",
        "b = [1, 2, 3]"
      ],
      "execution_count": 0,
      "outputs": []
    },
    {
      "cell_type": "code",
      "metadata": {
        "id": "r9HWzuUUBygh",
        "colab_type": "code",
        "outputId": "f24b67b7-ea96-44b8-f918-e1055583a018",
        "colab": {
          "base_uri": "https://localhost:8080/",
          "height": 35
        }
      },
      "source": [
        "id(a), id(b)"
      ],
      "execution_count": 0,
      "outputs": [
        {
          "output_type": "execute_result",
          "data": {
            "text/plain": [
              "(140015681583816, 140015682074056)"
            ]
          },
          "metadata": {
            "tags": []
          },
          "execution_count": 50
        }
      ]
    },
    {
      "cell_type": "code",
      "metadata": {
        "id": "LcjU-aqOB3ND",
        "colab_type": "code",
        "outputId": "070db899-76cf-4fca-a760-fb9511e0b525",
        "colab": {
          "base_uri": "https://localhost:8080/",
          "height": 35
        }
      },
      "source": [
        "a is b"
      ],
      "execution_count": 0,
      "outputs": [
        {
          "output_type": "execute_result",
          "data": {
            "text/plain": [
              "False"
            ]
          },
          "metadata": {
            "tags": []
          },
          "execution_count": 51
        }
      ]
    },
    {
      "cell_type": "code",
      "metadata": {
        "id": "9ny07yPSB4hS",
        "colab_type": "code",
        "outputId": "3645a1c3-0479-42bd-b36b-dacb864e79c0",
        "colab": {
          "base_uri": "https://localhost:8080/",
          "height": 35
        }
      },
      "source": [
        "a == b"
      ],
      "execution_count": 0,
      "outputs": [
        {
          "output_type": "execute_result",
          "data": {
            "text/plain": [
              "True"
            ]
          },
          "metadata": {
            "tags": []
          },
          "execution_count": 52
        }
      ]
    },
    {
      "cell_type": "markdown",
      "metadata": {
        "id": "o1Aa45zfB6Aq",
        "colab_type": "text"
      },
      "source": [
        "Perceba que as `listas` são tratadas diferentemente das outras classes que vimos até agora. Elas são objetos diferentes (por terem ids diferentes), mas, como na matemática, elas são iguais por terem os mesmos elementos. Tá confuso, eu sei! Mas na verdade é bem simples!! As duas `listas` são iguais, porem não são a mesma coisa. É quase como se elas fossem gêmeas: iguais, mas pessoas diferentes (no nosso caso, em vez de pessoas, objetos!).\n",
        "\n",
        "Outra maneira de ver isso é a seguinte:"
      ]
    },
    {
      "cell_type": "code",
      "metadata": {
        "id": "O-B_efN2DEoh",
        "colab_type": "code",
        "outputId": "97428e8a-fef5-479f-e0a2-5bd5f0280884",
        "colab": {
          "base_uri": "https://localhost:8080/",
          "height": 35
        }
      },
      "source": [
        "a[1] = 70\n",
        "print(a) # Mudamos a...\n"
      ],
      "execution_count": 0,
      "outputs": [
        {
          "output_type": "stream",
          "text": [
            "[1, 70, 3]\n"
          ],
          "name": "stdout"
        }
      ]
    },
    {
      "cell_type": "code",
      "metadata": {
        "id": "sq_N68KNDLVb",
        "colab_type": "code",
        "outputId": "6e60a772-aa37-458a-d4fd-af3aaa2bd519",
        "colab": {
          "base_uri": "https://localhost:8080/",
          "height": 35
        }
      },
      "source": [
        "print(b) # ...mas b continuou igual!"
      ],
      "execution_count": 0,
      "outputs": [
        {
          "output_type": "stream",
          "text": [
            "[1, 2, 3]\n"
          ],
          "name": "stdout"
        }
      ]
    },
    {
      "cell_type": "code",
      "metadata": {
        "id": "X-HQTPd7DRxa",
        "colab_type": "code",
        "outputId": "f0efff6d-942e-4ea6-e69d-75f3632c6381",
        "colab": {
          "base_uri": "https://localhost:8080/",
          "height": 35
        }
      },
      "source": [
        "# Então temos que:\n",
        "a == b"
      ],
      "execution_count": 0,
      "outputs": [
        {
          "output_type": "execute_result",
          "data": {
            "text/plain": [
              "False"
            ]
          },
          "metadata": {
            "tags": []
          },
          "execution_count": 55
        }
      ]
    },
    {
      "cell_type": "markdown",
      "metadata": {
        "id": "uTL7kxIlDb1m",
        "colab_type": "text"
      },
      "source": [
        "Mudanças em uma lista não afetam a outra! O que significa realmente que elas não eram a mesma coisa.\n",
        "\n",
        "Mas e se fizemos diferente:"
      ]
    },
    {
      "cell_type": "code",
      "metadata": {
        "id": "Zf0bBr5WFC2U",
        "colab_type": "code",
        "colab": {}
      },
      "source": [
        "a = [1, 2, 3]\n",
        "b = a"
      ],
      "execution_count": 0,
      "outputs": []
    },
    {
      "cell_type": "markdown",
      "metadata": {
        "id": "5hCfhwdvFEdu",
        "colab_type": "text"
      },
      "source": [
        "E mudarmos o primeiro item de b..."
      ]
    },
    {
      "cell_type": "code",
      "metadata": {
        "id": "911zH2AgFG4F",
        "colab_type": "code",
        "colab": {}
      },
      "source": [
        "b[1] = 70"
      ],
      "execution_count": 0,
      "outputs": []
    },
    {
      "cell_type": "markdown",
      "metadata": {
        "id": "UhE7dfaUFI55",
        "colab_type": "text"
      },
      "source": [
        "...o que será que acontece com a?"
      ]
    },
    {
      "cell_type": "code",
      "metadata": {
        "id": "WRBkhJbUFM5Z",
        "colab_type": "code",
        "outputId": "285287b2-3fd8-4566-f928-2c72664bd3a7",
        "colab": {
          "base_uri": "https://localhost:8080/",
          "height": 35
        }
      },
      "source": [
        "a"
      ],
      "execution_count": 0,
      "outputs": [
        {
          "output_type": "execute_result",
          "data": {
            "text/plain": [
              "[1, 70, 3]"
            ]
          },
          "metadata": {
            "tags": []
          },
          "execution_count": 62
        }
      ]
    },
    {
      "cell_type": "markdown",
      "metadata": {
        "id": "yfSsFb-VFdfR",
        "colab_type": "text"
      },
      "source": [
        "Então, se ao mudarmos **`b`**, tivemos **`a`** alterado, temos que:"
      ]
    },
    {
      "cell_type": "code",
      "metadata": {
        "id": "X9NiAxyKFljq",
        "colab_type": "code",
        "outputId": "5fe8958c-ca53-4261-e48d-3e07fc704946",
        "colab": {
          "base_uri": "https://localhost:8080/",
          "height": 35
        }
      },
      "source": [
        "a is b"
      ],
      "execution_count": 0,
      "outputs": [
        {
          "output_type": "execute_result",
          "data": {
            "text/plain": [
              "True"
            ]
          },
          "metadata": {
            "tags": []
          },
          "execution_count": 63
        }
      ]
    },
    {
      "cell_type": "code",
      "metadata": {
        "id": "KIabopumFouz",
        "colab_type": "code",
        "outputId": "0b1d01ff-86ef-423b-ae2d-32642f468562",
        "colab": {
          "base_uri": "https://localhost:8080/",
          "height": 35
        }
      },
      "source": [
        "id(a), id(b)"
      ],
      "execution_count": 0,
      "outputs": [
        {
          "output_type": "execute_result",
          "data": {
            "text/plain": [
              "(140015682072968, 140015682072968)"
            ]
          },
          "metadata": {
            "tags": []
          },
          "execution_count": 69
        }
      ]
    },
    {
      "cell_type": "markdown",
      "metadata": {
        "id": "4LtYnmJEFwdy",
        "colab_type": "text"
      },
      "source": [
        "E se mudarmos algo em **`a`**, será que **`b`** muda também?"
      ]
    },
    {
      "cell_type": "code",
      "metadata": {
        "id": "59yEJNS6F7QZ",
        "colab_type": "code",
        "outputId": "c099bd41-9a59-44ed-9f81-04a84c3263d0",
        "colab": {
          "base_uri": "https://localhost:8080/",
          "height": 72
        }
      },
      "source": [
        "a[1] = 70\n",
        "print(a)\n",
        "print(b)\n",
        "print(a == b)"
      ],
      "execution_count": 0,
      "outputs": [
        {
          "output_type": "stream",
          "text": [
            "[1, 70, 3]\n",
            "[1, 70, 3]\n",
            "True\n"
          ],
          "name": "stdout"
        }
      ]
    },
    {
      "cell_type": "markdown",
      "metadata": {
        "id": "QUu_9uxVGINO",
        "colab_type": "text"
      },
      "source": [
        "Sim! \n",
        "\n",
        "Esse conceito é chamado de **aliasing** (vem de *alias* - apelido), onde duas variáveis se referem ao mesmo objeto. Com os `types` primitivos que vimos acima, Python faz automaticamente a correspondência entre as variáveis se elas tem o mesmo **valor** e **tipo**. Com listas, precisamos explicitar se queremos fazer essa correspondência, igualando as variáveis, em vez de apenas atribuí-las aos mesmos valor e tipo."
      ]
    },
    {
      "cell_type": "code",
      "metadata": {
        "id": "GDwLgDaCIVbo",
        "colab_type": "code",
        "outputId": "3a5cc2fa-47bb-4417-9164-2e9916136d35",
        "colab": {
          "base_uri": "https://localhost:8080/",
          "height": 35
        }
      },
      "source": [
        "a = 1\n",
        "b = 1\n",
        "a is b"
      ],
      "execution_count": 0,
      "outputs": [
        {
          "output_type": "execute_result",
          "data": {
            "text/plain": [
              "True"
            ]
          },
          "metadata": {
            "tags": []
          },
          "execution_count": 73
        }
      ]
    },
    {
      "cell_type": "code",
      "metadata": {
        "id": "JXLeuL-nIWBz",
        "colab_type": "code",
        "outputId": "d8d3a656-33c7-494a-ce6c-addabcbf7f03",
        "colab": {
          "base_uri": "https://localhost:8080/",
          "height": 35
        }
      },
      "source": [
        "a = 1\n",
        "b = a\n",
        "a is b"
      ],
      "execution_count": 0,
      "outputs": [
        {
          "output_type": "execute_result",
          "data": {
            "text/plain": [
              "True"
            ]
          },
          "metadata": {
            "tags": []
          },
          "execution_count": 1
        }
      ]
    },
    {
      "cell_type": "code",
      "metadata": {
        "id": "DvYByUEnJfN1",
        "colab_type": "code",
        "outputId": "86ef7cb5-1243-49da-8f2e-539955c27e0d",
        "colab": {
          "base_uri": "https://localhost:8080/",
          "height": 35
        }
      },
      "source": [
        "id(a), id(b)"
      ],
      "execution_count": 0,
      "outputs": [
        {
          "output_type": "execute_result",
          "data": {
            "text/plain": [
              "(10935488, 10935488)"
            ]
          },
          "metadata": {
            "tags": []
          },
          "execution_count": 2
        }
      ]
    },
    {
      "cell_type": "code",
      "metadata": {
        "id": "eYNGVN3FIXPb",
        "colab_type": "code",
        "colab": {}
      },
      "source": [
        "a += 1"
      ],
      "execution_count": 0,
      "outputs": []
    },
    {
      "cell_type": "code",
      "metadata": {
        "id": "lQl9_sMNIZnb",
        "colab_type": "code",
        "outputId": "f0cb1f40-3349-4fa1-e808-2b82562a93fb",
        "colab": {
          "base_uri": "https://localhost:8080/",
          "height": 35
        }
      },
      "source": [
        "a"
      ],
      "execution_count": 0,
      "outputs": [
        {
          "output_type": "execute_result",
          "data": {
            "text/plain": [
              "2"
            ]
          },
          "metadata": {
            "tags": []
          },
          "execution_count": 4
        }
      ]
    },
    {
      "cell_type": "code",
      "metadata": {
        "id": "JdvgdU9aIawS",
        "colab_type": "code",
        "outputId": "8ae91317-43d8-4611-efa8-4a84b188b3f8",
        "colab": {
          "base_uri": "https://localhost:8080/",
          "height": 35
        }
      },
      "source": [
        "b"
      ],
      "execution_count": 0,
      "outputs": [
        {
          "output_type": "execute_result",
          "data": {
            "text/plain": [
              "1"
            ]
          },
          "metadata": {
            "tags": []
          },
          "execution_count": 5
        }
      ]
    },
    {
      "cell_type": "markdown",
      "metadata": {
        "id": "4DNCay-CIoFF",
        "colab_type": "text"
      },
      "source": [
        "Pode parecer confuso **`b`** não ter devolvido **`2`**, mas faz sentido! **`a`** e **`b`** eram a mesma coisa, mas reatribuímos um valor a **`a`**, o que significa que agora ele é **outro objeto** e tem** outro lugar na memória**."
      ]
    },
    {
      "cell_type": "code",
      "metadata": {
        "id": "1mZwHPSNJp1h",
        "colab_type": "code",
        "outputId": "9b31d746-4074-48b6-cfb1-48812826559f",
        "colab": {
          "base_uri": "https://localhost:8080/",
          "height": 35
        }
      },
      "source": [
        "id(a), id(b) # Perceba que o id de a mudou, mas o de b continua o mesmo que o anterior."
      ],
      "execution_count": 0,
      "outputs": [
        {
          "output_type": "execute_result",
          "data": {
            "text/plain": [
              "(10935520, 10935488)"
            ]
          },
          "metadata": {
            "tags": []
          },
          "execution_count": 6
        }
      ]
    },
    {
      "cell_type": "markdown",
      "metadata": {
        "id": "EzHTZ9dUJ2R7",
        "colab_type": "text"
      },
      "source": [
        "Assim, para que continuemos tendo **`a`==`b`**, precisamos definir de novo isso! Isso porque para **`b`** agora ele é o antigo **`a`**: ele foi associado ao valor de **`a`** quando **`a`** era 1. Depois que **`a`** virou outro objeto, ninguém disse isso pro **`b`**. Mas podemos dizer:"
      ]
    },
    {
      "cell_type": "code",
      "metadata": {
        "id": "15e22vWJIkK6",
        "colab_type": "code",
        "outputId": "386579ff-656e-444d-bb21-2052b9e70210",
        "colab": {
          "base_uri": "https://localhost:8080/",
          "height": 35
        }
      },
      "source": [
        "b = a\n",
        "b"
      ],
      "execution_count": 0,
      "outputs": [
        {
          "output_type": "execute_result",
          "data": {
            "text/plain": [
              "2"
            ]
          },
          "metadata": {
            "tags": []
          },
          "execution_count": 79
        }
      ]
    },
    {
      "cell_type": "code",
      "metadata": {
        "id": "o2lwyo--KYix",
        "colab_type": "code",
        "outputId": "28a1d25e-1c80-4605-9e39-7a9ba7b0dff4",
        "colab": {
          "base_uri": "https://localhost:8080/",
          "height": 35
        }
      },
      "source": [
        "a is b"
      ],
      "execution_count": 0,
      "outputs": [
        {
          "output_type": "execute_result",
          "data": {
            "text/plain": [
              "True"
            ]
          },
          "metadata": {
            "tags": []
          },
          "execution_count": 80
        }
      ]
    },
    {
      "cell_type": "markdown",
      "metadata": {
        "id": "m42ghs-mpIMh",
        "colab_type": "text"
      },
      "source": [
        "##EXPLORANDO MUTABILIDADE\n",
        "\n",
        "\n",
        "Agora é a hora de realmente entender como o computador pensa e trabalha.\n",
        "\n",
        "**Atribuir** um valor a uma variável significa algo do tipo:"
      ]
    },
    {
      "cell_type": "code",
      "metadata": {
        "id": "ZWGcIblRpnZf",
        "colab_type": "code",
        "colab": {}
      },
      "source": [
        "x = 5\n",
        "y = 'Ola'\n",
        "z = [1, 2, 3]"
      ],
      "execution_count": 0,
      "outputs": []
    },
    {
      "cell_type": "markdown",
      "metadata": {
        "id": "BkgIlYQXppoU",
        "colab_type": "text"
      },
      "source": [
        "Modificar uma variável é algo do tipo:"
      ]
    },
    {
      "cell_type": "code",
      "metadata": {
        "id": "xou1mC6EprBX",
        "colab_type": "code",
        "colab": {}
      },
      "source": [
        "z.append('oi')"
      ],
      "execution_count": 0,
      "outputs": []
    },
    {
      "cell_type": "code",
      "metadata": {
        "id": "eDgvUGfEpsVN",
        "colab_type": "code",
        "outputId": "62087714-74ab-449e-8c55-f2bf439c5483",
        "colab": {
          "base_uri": "https://localhost:8080/",
          "height": 35
        }
      },
      "source": [
        "z"
      ],
      "execution_count": 0,
      "outputs": [
        {
          "output_type": "execute_result",
          "data": {
            "text/plain": [
              "[1, 2, 3, 'oi']"
            ]
          },
          "metadata": {
            "tags": []
          },
          "execution_count": 3
        }
      ]
    },
    {
      "cell_type": "markdown",
      "metadata": {
        "id": "ceO07eO7So9w",
        "colab_type": "text"
      },
      "source": [
        "Sobrescrever uma variável imutavel é diferente de mudar a variavel:"
      ]
    },
    {
      "cell_type": "code",
      "metadata": {
        "id": "UDOskK_lpuYN",
        "colab_type": "code",
        "colab": {}
      },
      "source": [
        "y = y + ' mundo'"
      ],
      "execution_count": 0,
      "outputs": []
    },
    {
      "cell_type": "code",
      "metadata": {
        "id": "yj3TgZHqpyi2",
        "colab_type": "code",
        "outputId": "8da94616-fc6b-440b-e71c-95b81a4b176b",
        "colab": {
          "base_uri": "https://localhost:8080/",
          "height": 35
        }
      },
      "source": [
        "y"
      ],
      "execution_count": 0,
      "outputs": [
        {
          "output_type": "execute_result",
          "data": {
            "text/plain": [
              "'Ola mundo'"
            ]
          },
          "metadata": {
            "tags": []
          },
          "execution_count": 5
        }
      ]
    },
    {
      "cell_type": "markdown",
      "metadata": {
        "id": "FihIZn52qAtW",
        "colab_type": "text"
      },
      "source": [
        "Partindo dessas definições, dizemos que um objeto é mutável se ele (o objeto) puder ser mudado de qualquer maneira. Da mesma forma, dizemos que o objeto é imutável se ele não suporta nenhum tipo de operação ou função que o mude.\n",
        "\n",
        "\n",
        "\n",
        "> **Por exemplo:**\n",
        "Tanto strings quanto `tuplas` são `types` imutáveis (e, assim, não podemos modificar nem `strings`, nem `tuplas`), e por serem ambas comumente usadas repetidamente, Python salva na memória automaticamente como **aliases** (ou seja, se existe uma mesma `string` atribuída a diferentes variáveis, Python entende que essas variáveis são a mesma coisa). Já listas, por serem mutáveis, não suportam esse tipo de **aliasing**.\n",
        "\n",
        "Sabemos que `strings` e `tuplas` são imutáveis, então nenhuma dos operadores ou funções que eleas suportam teriam algum efeito colateral no objeto em si (a função pode até imprimir algo diferente, mas o objeto não é alterado por isso). \n",
        "\n",
        "Vamos ver:"
      ]
    },
    {
      "cell_type": "code",
      "metadata": {
        "id": "TPuUAirTsWGw",
        "colab_type": "code",
        "colab": {}
      },
      "source": [
        "a = 'hello'"
      ],
      "execution_count": 0,
      "outputs": []
    },
    {
      "cell_type": "code",
      "metadata": {
        "id": "5_lJ0MjCr5aB",
        "colab_type": "code",
        "outputId": "43e71978-e326-49de-fab6-f79f0cde0214",
        "colab": {
          "base_uri": "https://localhost:8080/",
          "height": 54
        }
      },
      "source": [
        "print(a.index('e'))\n",
        "print(a)"
      ],
      "execution_count": 0,
      "outputs": [
        {
          "output_type": "stream",
          "text": [
            "1\n",
            "hello\n"
          ],
          "name": "stdout"
        }
      ]
    },
    {
      "cell_type": "code",
      "metadata": {
        "id": "urPVLIdCsO16",
        "colab_type": "code",
        "outputId": "ab4b09e9-f5ac-4edf-a8d9-5b837047809b",
        "colab": {
          "base_uri": "https://localhost:8080/",
          "height": 54
        }
      },
      "source": [
        "print(a.upper())\n",
        "print(a) "
      ],
      "execution_count": 0,
      "outputs": [
        {
          "output_type": "stream",
          "text": [
            "HELLO\n",
            "hello\n"
          ],
          "name": "stdout"
        }
      ]
    },
    {
      "cell_type": "code",
      "metadata": {
        "id": "XsHGw5E7sduO",
        "colab_type": "code",
        "outputId": "37d9c9b2-85d1-4150-99b0-7e220366619a",
        "colab": {
          "base_uri": "https://localhost:8080/",
          "height": 35
        }
      },
      "source": [
        "a = a.upper()  # Perceba que a string 'hello' não foi alterada. \n",
        "a              #O que aconteceu é que uma nova string (a.upper()) foi atribuída à variável a"
      ],
      "execution_count": 0,
      "outputs": [
        {
          "output_type": "execute_result",
          "data": {
            "text/plain": [
              "'HELLO'"
            ]
          },
          "metadata": {
            "tags": []
          },
          "execution_count": 11
        }
      ]
    },
    {
      "cell_type": "markdown",
      "metadata": {
        "id": "6i-hrtOhs12v",
        "colab_type": "text"
      },
      "source": [
        "A primeira função, **`index()`**, faz sentido - nós não esperávamos que mudasse a string já que estamos só encontrando um de seus elementos, e não mudando ele. Mas e a **`upper()`**?\n",
        "\n",
        "Na verdade, **`upper()`** não mudou a string. A **`upper()`** `hello` ainda existe e se mantém inalterada. O que mudou é o valor atribuído a variável `a`, que agora é `a.upper()`, ou seja, `'hello'.upper()`. Dizemos que **`a`** foi sobrescrito.\n",
        "\n",
        "Esse é um padrão que vai aparecer com frequência - quando os objetos são imutáveis, eles têm esse tipo de  ***factory functions*** (ou ***creators***), que retornam novos objetos em vez de modificar o original.\n",
        "\n",
        "Agora, vamos entender melhor sobre as listas. Como sabemos que elas são mutáveis, podemos esperar que algumas funções tenham \"efeitos colaterais\"."
      ]
    },
    {
      "cell_type": "code",
      "metadata": {
        "id": "Y_rL-GH82leZ",
        "colab_type": "code",
        "outputId": "f1150a1b-d3c5-43c1-aff7-568c365f0f0e",
        "colab": {
          "base_uri": "https://localhost:8080/",
          "height": 90
        }
      },
      "source": [
        "b = ['x', 'y', 'z']\n",
        "print(b.count('y'))\n",
        "print(b)\n",
        "print(b.reverse())\n",
        "print(b) "
      ],
      "execution_count": 0,
      "outputs": [
        {
          "output_type": "stream",
          "text": [
            "1\n",
            "['x', 'y', 'z']\n",
            "None\n",
            "['z', 'y', 'x']\n"
          ],
          "name": "stdout"
        }
      ]
    },
    {
      "cell_type": "markdown",
      "metadata": {
        "id": "MfcDU4Zv2pSG",
        "colab_type": "text"
      },
      "source": [
        "Novamente, como o esperado, a função **`count()`** não mudou a lista, mas a função **`reverse()`** sim, então podemos dizer que um \"efeito colateral\" desta função é modificar a lista `b`. É a mesma coisa que vimos com o comando **`append()`**: o comando é do tipo **`None`**, então ele não tem nenhuma saída direta, apenas altera uma lista."
      ]
    },
    {
      "cell_type": "code",
      "metadata": {
        "id": "WBcstp0q439u",
        "colab_type": "code",
        "outputId": "b54a13af-1899-4d2f-f56f-63e4f1a6135a",
        "colab": {
          "base_uri": "https://localhost:8080/",
          "height": 35
        }
      },
      "source": [
        "x = [1, 2, 3]\n",
        "x = x.append(4)\n",
        "print(x)"
      ],
      "execution_count": 0,
      "outputs": [
        {
          "output_type": "stream",
          "text": [
            "None\n"
          ],
          "name": "stdout"
        }
      ]
    },
    {
      "cell_type": "code",
      "metadata": {
        "id": "StPFoneQ45uT",
        "colab_type": "code",
        "outputId": "838909f9-8533-478f-c5d8-2608a713dc02",
        "colab": {
          "base_uri": "https://localhost:8080/",
          "height": 35
        }
      },
      "source": [
        "x = [1, 2, 3]\n",
        "x.append(4)\n",
        "print(x)"
      ],
      "execution_count": 0,
      "outputs": [
        {
          "output_type": "stream",
          "text": [
            "[1, 2, 3, 4]\n"
          ],
          "name": "stdout"
        }
      ]
    },
    {
      "cell_type": "markdown",
      "metadata": {
        "id": "zCcQU0Bexo5a",
        "colab_type": "text"
      },
      "source": [
        "Perceba nos próximos exemplos uma grande diferença entre** modificar uma variável** e** atualizar uma variável**:** Quando modificamos uma variável ela continua ocupando o mesmo local na memória** (tem o mesmo **`id`**), mas** quando sobrescrevemos a variável ela passa a ocupar um novo local na memória** (recebe um novo **`id`**)\n",
        "\n",
        "Esse conceito vai ser útil um pouco à frente quando estivermos tratando sobre escopo."
      ]
    },
    {
      "cell_type": "code",
      "metadata": {
        "id": "NuoLVwebxaas",
        "colab_type": "code",
        "outputId": "f94b9857-91f1-49ae-e85a-864d91699c3b",
        "colab": {
          "base_uri": "https://localhost:8080/",
          "height": 54
        }
      },
      "source": [
        "a = [1, 2, 3]\n",
        "print(id(a), a)\n",
        "a.append(4)\n",
        "print(id(a), a)"
      ],
      "execution_count": 0,
      "outputs": [
        {
          "output_type": "stream",
          "text": [
            "140202612895432 [1, 2, 3]\n",
            "140202612895432 [1, 2, 3, 4]\n"
          ],
          "name": "stdout"
        }
      ]
    },
    {
      "cell_type": "code",
      "metadata": {
        "id": "pBxtQ_AJzRcA",
        "colab_type": "code",
        "outputId": "93dfdbf9-1733-4f0d-e85a-265c4e7495f7",
        "colab": {
          "base_uri": "https://localhost:8080/",
          "height": 54
        }
      },
      "source": [
        "b = [1, 2, 3]\n",
        "print(id(b), b)\n",
        "b = [1, 2, 3, 4]\n",
        "print(id(b), b)"
      ],
      "execution_count": 0,
      "outputs": [
        {
          "output_type": "stream",
          "text": [
            "140202613275720 [1, 2, 3]\n",
            "140202612956552 [1, 2, 3, 4]\n"
          ],
          "name": "stdout"
        }
      ]
    },
    {
      "cell_type": "markdown",
      "metadata": {
        "id": "AJhzr_2e65SK",
        "colab_type": "text"
      },
      "source": [
        "## **VARIÁVEIS LOCAIS**\n",
        "\n",
        "Vamos ver agora um conceito ao qual chamamos de varíaveis locais, que está ligando principalmente à criação de funções.\n",
        "\n",
        "Quando criamos uma função, podemos utilizar valores de variáveis que já foram definidas anteriormente, fora da função, ou podemos definir novas variáveis dentro da nossa função.\n",
        "\n",
        "O que não é intuitivo é que **quando criamos variaves dentro de funções, estas variáveis existem somente dentro da função.** Isto é o que chamamos de **variáveis locais**. Se tentarmos usar váriaveis locais fora da função em que foram criadas nosso código não vai funcionar."
      ]
    },
    {
      "cell_type": "code",
      "metadata": {
        "id": "MWK1AmW33HN6",
        "colab_type": "code",
        "colab": {}
      },
      "source": [
        "def funcao(x):\n",
        "  y = x**2  #Aqui estamos criando uma variável local y\n",
        "  print(y)  #O comando print faz parte da função então a variável será mostrada sem problemas"
      ],
      "execution_count": 0,
      "outputs": []
    },
    {
      "cell_type": "code",
      "metadata": {
        "id": "iihHgLT_3K96",
        "colab_type": "code",
        "outputId": "c8918ea7-6196-46be-ad23-ea95cb1be650",
        "colab": {
          "base_uri": "https://localhost:8080/",
          "height": 35
        }
      },
      "source": [
        "x=2\n",
        "funcao(x)"
      ],
      "execution_count": 0,
      "outputs": [
        {
          "output_type": "stream",
          "text": [
            "4\n"
          ],
          "name": "stdout"
        }
      ]
    },
    {
      "cell_type": "code",
      "metadata": {
        "id": "AEISoazu3Rh7",
        "colab_type": "code",
        "outputId": "76324210-224d-4338-a994-e7dbf8516e78",
        "colab": {
          "base_uri": "https://localhost:8080/",
          "height": 225
        }
      },
      "source": [
        "funcao(2)\n",
        "print(y) #A variavél y não existe fora da função, pois é uma variável local;\n",
        "         #Quando tentamos chamar ela fora da funçao que foi criada encontramos um erro."
      ],
      "execution_count": 0,
      "outputs": [
        {
          "output_type": "stream",
          "text": [
            "4\n"
          ],
          "name": "stdout"
        },
        {
          "output_type": "error",
          "ename": "NameError",
          "evalue": "ignored",
          "traceback": [
            "\u001b[0;31m---------------------------------------------------------------------------\u001b[0m",
            "\u001b[0;31mNameError\u001b[0m                                 Traceback (most recent call last)",
            "\u001b[0;32m<ipython-input-32-cc5413b4f21f>\u001b[0m in \u001b[0;36m<module>\u001b[0;34m()\u001b[0m\n\u001b[1;32m      1\u001b[0m \u001b[0mfuncao\u001b[0m\u001b[0;34m(\u001b[0m\u001b[0;36m2\u001b[0m\u001b[0;34m)\u001b[0m\u001b[0;34m\u001b[0m\u001b[0m\n\u001b[0;32m----> 2\u001b[0;31m \u001b[0mprint\u001b[0m\u001b[0;34m(\u001b[0m\u001b[0my\u001b[0m\u001b[0;34m)\u001b[0m \u001b[0;31m#A variavél x não existe fora da função, pois é uma variável local;\u001b[0m\u001b[0;34m\u001b[0m\u001b[0m\n\u001b[0m\u001b[1;32m      3\u001b[0m          \u001b[0;31m#Quando tentamos chamar ela fora da funçao que foi criada encontramos um erro.\u001b[0m\u001b[0;34m\u001b[0m\u001b[0;34m\u001b[0m\u001b[0m\n",
            "\u001b[0;31mNameError\u001b[0m: name 'y' is not defined"
          ]
        }
      ]
    },
    {
      "cell_type": "markdown",
      "metadata": {
        "id": "HF8qRstw8SYa",
        "colab_type": "text"
      },
      "source": [
        "Outra caracteristica das váriaveis locais, que inclusive pode ser mais \"perigosa\" é a de **atualização de valores por meio das variáveis locais**. Este erro pode acontecer quando, dentro de uma função, atribuímos um novo valor à uma variável já existente.\n",
        "\n",
        "Variáveis criadas dentro de funções não podem ser utilizadas fora delas (logo vamos ver um comando que nos deixa fazer isso, mas esquece isso por enquanto...) mas o contrário não é verdade.\n",
        "\n",
        "Podemos utilizar váriaveis ja definida anteriormente dentro de funções, e inclusive alterar seus valores, mas **após \"sairmos\" da função estas variáveis voltam a ter seus valores anteriores**, não sendo atualizados.\n"
      ]
    },
    {
      "cell_type": "code",
      "metadata": {
        "id": "60UyxgOgytQR",
        "colab_type": "code",
        "outputId": "5f59ee78-b214-4a40-b379-f62e86cc46df",
        "colab": {
          "base_uri": "https://localhost:8080/",
          "height": 72
        }
      },
      "source": [
        "y = 2    #Inicialmente atribuímos o valor 2 à variável y\n",
        "print(y) #Aqui estamos printando o valor inicial de y, que é 2\n",
        "funcao(y)#Utilizamos o valor que já temos de y para chamar a função. Dentro dela, a variavel y recebe um novo valor igual a 4\n",
        "print(y) #Printamos novamente y, que deveria ter sido atualizada para 4, mas perceba que a variável contnua com seu valor inicial\n",
        "         #Isto ocorre pois a variável y foi \"atualizada localmente\" dentro da função apenas; fora dela seu valor contínua sendo o inicial"
      ],
      "execution_count": 0,
      "outputs": [
        {
          "output_type": "stream",
          "text": [
            "2\n",
            "4\n",
            "2\n"
          ],
          "name": "stdout"
        }
      ]
    },
    {
      "cell_type": "markdown",
      "metadata": {
        "id": "tguPSGifys-o",
        "colab_type": "text"
      },
      "source": [
        "Aí que está o grande perigo de erros como este: nossa variável não vai ser atualizada, mas o código continuará sendo executado. Ou seja,** o código vai ser executado com um valor errado sem nenhum tipo de aviso sobre isso**, e, se não percebermos isto, teremos uma resposta mesmo assim. Resumindo: **O código não apresentará nenhum tipo de erro, mas nossa resposta estará errada!**\n",
        "\n",
        "***\n",
        " **Erro Semântico X Erro Sintático**\n",
        " \n",
        "  Vamos aproveitar o momento para discutir um pouco sobre a diferença entre erros semanticos e sintáticos. \n",
        "  \n",
        "  Este erro que acabamos de descrever é o **Erro Semântico**. Dizemos que um erro é do tipo semântico quando o código que escrevemos **pode ser executado**, mas por alguma razão ele **retorna um resultado diferente do experado** (como no exemplo anterior).\n",
        " \n",
        "**Erros Sintáticos** são aqueles erros mais clássicos e em geral mais comuns, quando o código que escrevemos realmente** não roda** e aquela **mensagem de erro** gigante aparece no lugar da resposta. Isto acontece porque esse tipo de erro acontece justamente quando escrevemos alguma coisa que a linguagem não entende (por exemplo quando utilizamos uma variável que não foi definida anteriormente, utilizamos comandos ou funções que não exitem em python, ou ainda quando esquecemos do colocar os dois pontos no final do `if`)\n",
        "  \n",
        " ***\n",
        " "
      ]
    },
    {
      "cell_type": "markdown",
      "metadata": {
        "id": "G_IBAOlX3osw",
        "colab_type": "text"
      },
      "source": [
        "Para evitar estes erros semânticos, para que uma variável criada ou atualizada localmente tenha seu valor atualizado tambem fora de sua função podemos utilizar o comando **`global y`**. Se ecrevermos isto dentro da função, antes de criar ou atualizar nossa variável, no caso chamamos ela de y, seu valor será utilizado tambem fora da função."
      ]
    },
    {
      "cell_type": "code",
      "metadata": {
        "id": "g1M3rfSC73aR",
        "colab_type": "code",
        "colab": {}
      },
      "source": [
        "def funcao2(x):\n",
        "  global y\n",
        "  y = x**2\n",
        "  print(y)"
      ],
      "execution_count": 0,
      "outputs": []
    },
    {
      "cell_type": "code",
      "metadata": {
        "id": "b1ovsPfC8BKg",
        "colab_type": "code",
        "outputId": "2c737aa0-551e-42a4-cff0-59cd9b503dc3",
        "colab": {
          "base_uri": "https://localhost:8080/",
          "height": 72
        }
      },
      "source": [
        "y = 2\n",
        "print(y)\n",
        "funcao2(y)\n",
        "print(y)"
      ],
      "execution_count": 0,
      "outputs": [
        {
          "output_type": "stream",
          "text": [
            "2\n",
            "4\n",
            "4\n"
          ],
          "name": "stdout"
        }
      ]
    },
    {
      "cell_type": "markdown",
      "metadata": {
        "id": "ww_dHMli55uS",
        "colab_type": "text"
      },
      "source": [
        "##EXPLORANDO O ESCOPO\n",
        "\n",
        "Agora que nós entendemos referências e os conceitos de **aliasing** e **mutabilidade**, vamos adicionar mais um elemento para, então, podemos juntar tudo.\n",
        "\n",
        "Tenha certeza de que você está confortável com o conceito de variáveis locais, pois vamos utilizar o mesmo conceito de variáveis locais dentro de funções. A ideia é percebermos se essas variáveis são referências ou valores.\n",
        "\n",
        "Vamos lá:"
      ]
    },
    {
      "cell_type": "code",
      "metadata": {
        "id": "4Y4wCLVg6Cd3",
        "colab_type": "code",
        "outputId": "ba42d841-a2f5-44cc-9857-f976acd9213f",
        "colab": {
          "base_uri": "https://localhost:8080/",
          "height": 85
        }
      },
      "source": [
        "def foo(x):\n",
        "    print('point 2:', id(x))\n",
        "    x = [1, 2, 3]\n",
        "    print('point 3:', id(x))\n",
        "\n",
        "L = [1, 2, 3]\n",
        "print('point 1:', id(L))\n",
        "foo(L)\n",
        "print('point 4:', id(L))"
      ],
      "execution_count": 0,
      "outputs": [
        {
          "output_type": "stream",
          "text": [
            "point 1: 140411006655496\n",
            "point 2: 140411006655496\n",
            "point 3: 140411006655688\n",
            "point 4: 140411006655496\n"
          ],
          "name": "stdout"
        }
      ]
    },
    {
      "cell_type": "markdown",
      "metadata": {
        "id": "6c-ydHsUi7N8",
        "colab_type": "text"
      },
      "source": [
        "---\n",
        "####Explicando o exemplo acima:\n",
        "Criamos uma lista L e pedimos que o código nos retorne seu **id**. Após isto, usamos esta lista que acabamos de criar como input para nossa função **`foo(x)`**. \n",
        "\n",
        "Dentro do escopo da função, pedimos agora o **id** da variável X (que no caso é a lista L). Após isto, atribuimos à ela um novo valor, uma lista com elementos identicos à lista L inicial, e mostramos seu novo **id**\n",
        "\n",
        "Por fim, saímos do escopo da função e mostamos novamente a o **id** da lista L.\n",
        "\n",
        "---\n",
        "\n",
        "\n",
        "Como podemos perceber, quando a lista L é passada para dentro da função **`foo(x)`** a variável local X é a mesma lista que a lista L, e refere-se ao mesmo objeto (como vimos quando estavamos comentando sobre *alias*)\n",
        "\n",
        "\n",
        "Então, de início, a lista dentro da função ocupa o mesmo lugar na memória que a lista L inicial, pois são o mesmo objeto. Quando atualizamos a lista dentro da função, estamos criando um outro local em memória para armazená-la.\n",
        "\n",
        "Mas se você entendeu o conceito de variáveis locais, deve ter percebido que atualizamos a lista L dentro de uma função, então apenas atualizamos uma variável local. Depois de sairmos do escopo da função, a lista L \"volta a ser\" a mesma lista que no início, inclusive referenciando o mesmo **id**."
      ]
    },
    {
      "cell_type": "markdown",
      "metadata": {
        "id": "bqRHKftw9tdx",
        "colab_type": "text"
      },
      "source": [
        "---\n",
        "\n",
        "Temos ainda uma peculiaridade dentro deste conceito de escopo quando utilizamos de funções que alteram objetos. Para entender essa peculiaridade precisamos lembrar do conceito de mutabilidade. \n",
        "\n",
        "Como vimos lá atrás, na parte que trata de mutabilidade, quando utlizamos **funções que alteram um objeto** (como o comando **`append()`**), ele continua ocupando o mesmo local na memória. Apenas o valor do objeto que é atualizado, como podemos ver no exemplo a seguir:"
      ]
    },
    {
      "cell_type": "code",
      "metadata": {
        "id": "67dqMDEDsDAQ",
        "colab_type": "code",
        "outputId": "3101e7d6-eb20-4de5-b001-18838c3f4036",
        "colab": {
          "base_uri": "https://localhost:8080/",
          "height": 51
        }
      },
      "source": [
        "L=[1,2,3]\n",
        "print(id(L), L)\n",
        "L.append(4)\n",
        "print(id(L), L)"
      ],
      "execution_count": 0,
      "outputs": [
        {
          "output_type": "stream",
          "text": [
            "139909777311880 [1, 2, 3]\n",
            "139909777311880 [1, 2, 3, 4]\n"
          ],
          "name": "stdout"
        }
      ]
    },
    {
      "cell_type": "markdown",
      "metadata": {
        "id": "_ymbq_vRs7Uc",
        "colab_type": "text"
      },
      "source": [
        "O que acontece quando utilizamos váriaveis deste tipo dentro do escopo de uma função é que nossa variável, mesmo sendo atualizada localmente, continua com o valor atualizado fora do escopo da função. Isto porque o comando **`append()`** atualiza a variável mantendo seu **id**, ou seja, atualiza o mesmo local na memória. \n",
        "\n",
        "\n",
        "Note que no próximo exemplo, diferente do exemplo anterior, o **id** da lista L fora e dentro da função é o mesmo nas 4 vezes, mas seu valor muda nas duas últimas."
      ]
    },
    {
      "cell_type": "code",
      "metadata": {
        "id": "1w5t_tuOqSqE",
        "colab_type": "code",
        "outputId": "e21d3110-02d9-42e7-92ba-75c0e879f196",
        "colab": {
          "base_uri": "https://localhost:8080/",
          "height": 85
        }
      },
      "source": [
        "def foo(x):\n",
        "    print('point 2:',id(x), x)\n",
        "    x.append(4)\n",
        "    print('point 3:', id(x), x)\n",
        "\n",
        "L = [1, 2, 3]\n",
        "print('point 1:', id(L), L)\n",
        "foo(L)\n",
        "print('point 4:', id(L), L)"
      ],
      "execution_count": 0,
      "outputs": [
        {
          "output_type": "stream",
          "text": [
            "point 1: 140411006709896 [1, 2, 3]\n",
            "point 2: 140411006709896 [1, 2, 3]\n",
            "point 3: 140411006709896 [1, 2, 3, 4]\n",
            "point 4: 140411006709896 [1, 2, 3, 4]\n"
          ],
          "name": "stdout"
        }
      ]
    }
  ]
}