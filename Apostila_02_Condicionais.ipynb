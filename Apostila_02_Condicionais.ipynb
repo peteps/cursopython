{
  "nbformat": 4,
  "nbformat_minor": 0,
  "metadata": {
    "colab": {
      "name": "Cópia de Apostila - 02. Condicionais",
      "version": "0.3.2",
      "provenance": []
    },
    "kernelspec": {
      "name": "python3",
      "display_name": "Python 3"
    }
  },
  "cells": [
    {
      "cell_type": "markdown",
      "metadata": {
        "id": "wY1p0Yyj7hwy",
        "colab_type": "text"
      },
      "source": [
        "#CONDICIONAIS\n",
        "##VALORES BOOLEANOS\n",
        "\n",
        "Os valores booleanos são um tipo de dado binário que podem assumir apenas dois valores constantes: **verdadeiro** ou **falso** (*`True`* ou *`False`*).\n",
        "\n",
        "Um exemplo prático do uso desses valores é o status do usuário (no Facebook, por exemplo), quando o usuário está offline, sua variável assume o valor falso e quando passa a estar online, sua variável assume valor verdadeiro.\n",
        "\n",
        "Esses valores são úteis para **representar o resultado de uma comparação**. Veja o exemplo abaixo: \n"
      ]
    },
    {
      "cell_type": "code",
      "metadata": {
        "id": "jJTl8k23gENO",
        "colab_type": "code",
        "outputId": "5eeb4ad9-36e6-4166-ffb9-34f083ac956b",
        "colab": {
          "base_uri": "https://localhost:8080/",
          "height": 35
        }
      },
      "source": [
        "a = 1\n",
        "b = 2\n",
        "\n",
        "a < b"
      ],
      "execution_count": 0,
      "outputs": [
        {
          "output_type": "execute_result",
          "data": {
            "text/plain": [
              "True"
            ]
          },
          "metadata": {
            "tags": []
          },
          "execution_count": 1
        }
      ]
    },
    {
      "cell_type": "code",
      "metadata": {
        "id": "4szI33288XgO",
        "colab_type": "code",
        "outputId": "af43a39b-0542-4573-cc76-6d2c25de16a0",
        "colab": {
          "base_uri": "https://localhost:8080/",
          "height": 35
        }
      },
      "source": [
        "a > b"
      ],
      "execution_count": 0,
      "outputs": [
        {
          "output_type": "execute_result",
          "data": {
            "text/plain": [
              "False"
            ]
          },
          "metadata": {
            "tags": []
          },
          "execution_count": 2
        }
      ]
    },
    {
      "cell_type": "code",
      "metadata": {
        "id": "isQp0PVM8eAX",
        "colab_type": "code",
        "outputId": "9c96bd7f-54a4-4056-b3fd-628fa4e4d3bb",
        "colab": {
          "base_uri": "https://localhost:8080/",
          "height": 35
        }
      },
      "source": [
        "a == b"
      ],
      "execution_count": 0,
      "outputs": [
        {
          "output_type": "execute_result",
          "data": {
            "text/plain": [
              "False"
            ]
          },
          "metadata": {
            "tags": []
          },
          "execution_count": 3
        }
      ]
    },
    {
      "cell_type": "markdown",
      "metadata": {
        "id": "Jjfr2ScYLwTy",
        "colab_type": "text"
      },
      "source": [
        "*** \n",
        "**Diferença entre = e == :**\n",
        "  \n",
        "Nos exemplos acima foram usados esses dois tipos de igualdade e você já deve ter se perguntado qual a diferença entre eles.\n",
        "  \n",
        "  O sinal **=** representa a atribuição de um valor a uma variável.\n",
        "  \n",
        "  Já o sinal  **==** representa *a igualdade em si*. Costuma ser utilizado para realizar uma verificação: a variável de um lado é igual à variável do outro lado?\n",
        "  \n",
        "  Além disso, podemos usar** !=** para o sinal de diferente.\n",
        "  \n",
        "  Agora, sabendo disso, dê uma olhadinha novamente nos exemplos acima!\n",
        "  \n",
        "  ***"
      ]
    },
    {
      "cell_type": "markdown",
      "metadata": {
        "id": "RU7Ogkdn80Pf",
        "colab_type": "text"
      },
      "source": [
        "###TIPO DE DADO BOLEANO (`bool`)\n",
        "\n",
        "Em Python existe uma classe específica para os valores booleanos, a classe **`bool`**.\n",
        "Lembra daquele comando que usamos para descobrir o tipo das variáveis **`type()`**? Podemos verificar os valores booleanos também!"
      ]
    },
    {
      "cell_type": "code",
      "metadata": {
        "id": "7AF1G8aO9mYX",
        "colab_type": "code",
        "outputId": "b4ac97d9-43fc-4de6-f4f1-e4b243d7de5a",
        "colab": {
          "base_uri": "https://localhost:8080/",
          "height": 35
        }
      },
      "source": [
        "type (True)"
      ],
      "execution_count": 0,
      "outputs": [
        {
          "output_type": "execute_result",
          "data": {
            "text/plain": [
              "bool"
            ]
          },
          "metadata": {
            "tags": []
          },
          "execution_count": 4
        }
      ]
    },
    {
      "cell_type": "code",
      "metadata": {
        "id": "FkBT-g4ToHDb",
        "colab_type": "code",
        "outputId": "454bae47-d517-4deb-e937-eb22e7f991f5",
        "colab": {
          "base_uri": "https://localhost:8080/",
          "height": 34
        }
      },
      "source": [
        "type (1==1)"
      ],
      "execution_count": 0,
      "outputs": [
        {
          "output_type": "execute_result",
          "data": {
            "text/plain": [
              "bool"
            ]
          },
          "metadata": {
            "tags": []
          },
          "execution_count": 1
        }
      ]
    },
    {
      "cell_type": "markdown",
      "metadata": {
        "id": "wzcUb-IDo_N3",
        "colab_type": "text"
      },
      "source": [
        "***\n",
        " Percebeu que quando tentamos descobrir o **tipo de uma comparação**, o Python nos respondeu que a comparação é um booleano? \n",
        "Isto acontece porque sempre que existe uma comparação no código, o Python substitui está comparação por `True` ou `False`, os dois valores booleanos.\n",
        "***"
      ]
    },
    {
      "cell_type": "markdown",
      "metadata": {
        "id": "0KFAdHVQ_SVR",
        "colab_type": "text"
      },
      "source": [
        "###OPERADORES LÓGICOS\n",
        "\n",
        "Para construírmos expressões lógicas, em linguagem de programação utilizamos os operadores lógicos. Ou seja, podemos unir dois ou mais valores booleanos em uma comparação através do uso desses operadores.\n",
        "Em Python existem 3 operadores lógicos:  **`and`** , **`or`** e **`not`**.\n",
        "\n",
        "Exemplo: Considere dois valores booleanos A e B.\n",
        "\n",
        "*  Operador  **`and`**(\"e\"): resultará em  **`True`** somente quando **ambos** A e B forem verdadeiros, caso contrário resultará em **`False`**.\n"
      ]
    },
    {
      "cell_type": "code",
      "metadata": {
        "id": "t2AGgG-pXIE1",
        "colab_type": "code",
        "outputId": "4796434e-0655-414c-bb74-c637b3d0919d",
        "colab": {
          "base_uri": "https://localhost:8080/",
          "height": 34
        }
      },
      "source": [
        "a = (1 < 2)  # Neste exemplo, ambas expressões a e b são verdadeiras\n",
        "b = (2 == 2)\n",
        "\n",
        "a and b"
      ],
      "execution_count": 0,
      "outputs": [
        {
          "output_type": "execute_result",
          "data": {
            "text/plain": [
              "True"
            ]
          },
          "metadata": {
            "tags": []
          },
          "execution_count": 4
        }
      ]
    },
    {
      "cell_type": "code",
      "metadata": {
        "id": "MzlXC7jvcnUH",
        "colab_type": "code",
        "outputId": "1ae8fcc6-38e4-4c56-89b5-97623f795bc1",
        "colab": {
          "base_uri": "https://localhost:8080/",
          "height": 34
        }
      },
      "source": [
        "a = (1 < 2)  # Aqui a é verdadeira, porém b não é, portanto, o resultado de a e b é falso. \n",
        "b = (2 == 3)\n",
        "\n",
        "a and b"
      ],
      "execution_count": 0,
      "outputs": [
        {
          "output_type": "execute_result",
          "data": {
            "text/plain": [
              "False"
            ]
          },
          "metadata": {
            "tags": []
          },
          "execution_count": 5
        }
      ]
    },
    {
      "cell_type": "markdown",
      "metadata": {
        "id": "zRuJI3-zb3ja",
        "colab_type": "text"
      },
      "source": [
        "*   Operador **`or`**  (\"ou\"): resultará em **`True`** sempre que pelo menos **uma** das expressões A ou B forem verdadeiras, apenas se as duas forem falsas resultará em  **`False`**.\n",
        "\n"
      ]
    },
    {
      "cell_type": "code",
      "metadata": {
        "id": "D8r5ImqjcvU0",
        "colab_type": "code",
        "outputId": "4bd0267c-17e8-47df-82e6-a7d7e2742566",
        "colab": {
          "base_uri": "https://localhost:8080/",
          "height": 34
        }
      },
      "source": [
        "a = (1 < 2) #Já neste exemplo, o \"or\" requere que apenas uma: a ou b seja verdadeira, por isso, mesmo b sendo falsa, atende a condição do operador.\n",
        "b = (2 == 3)\n",
        "\n",
        "a or b"
      ],
      "execution_count": 0,
      "outputs": [
        {
          "output_type": "execute_result",
          "data": {
            "text/plain": [
              "True"
            ]
          },
          "metadata": {
            "tags": []
          },
          "execution_count": 6
        }
      ]
    },
    {
      "cell_type": "markdown",
      "metadata": {
        "id": "7l80WkbEd61s",
        "colab_type": "text"
      },
      "source": [
        "*   Operador **`not`**  (\"não\"): é um operador de **negação**, ou seja, ele inverte o valor do argumento. **`Not True`**   é  **`False`** e vice-versa.\n",
        "\n"
      ]
    },
    {
      "cell_type": "code",
      "metadata": {
        "id": "JjrBCOtuf2ql",
        "colab_type": "code",
        "outputId": "14e3fd98-3567-4927-b897-ddce0d354dc3",
        "colab": {
          "base_uri": "https://localhost:8080/",
          "height": 34
        }
      },
      "source": [
        "not False"
      ],
      "execution_count": 0,
      "outputs": [
        {
          "output_type": "execute_result",
          "data": {
            "text/plain": [
              "True"
            ]
          },
          "metadata": {
            "tags": []
          },
          "execution_count": 9
        }
      ]
    },
    {
      "cell_type": "markdown",
      "metadata": {
        "id": "f8wsJdiOVc-G",
        "colab_type": "text"
      },
      "source": [
        "##ESTRUTURAS DE CONDIÇÃO\n",
        "\n",
        "##`if`\n",
        "Quando começamos a programar, um recurso básico que precisamos aprender são as **estruturas de condição**. Com elas podemos estipular que um código somente seja executado se uma determinada condição for satisfeita.\n",
        "\n",
        "O comando **`if`** executa uma sequência de expressões **apenas se** uma determinada condição for satisfeita."
      ]
    },
    {
      "cell_type": "markdown",
      "metadata": {
        "id": "McQYfMX4zCW0",
        "colab_type": "text"
      },
      "source": [
        "####Exemplo 1"
      ]
    },
    {
      "cell_type": "code",
      "metadata": {
        "id": "zqtOQbmmMqPu",
        "colab_type": "code",
        "outputId": "25d23a8e-82dd-4172-c921-df7c32d0bc75",
        "colab": {
          "base_uri": "https://localhost:8080/",
          "height": 54
        }
      },
      "source": [
        "idade = 20\n",
        "if idade >= 18:\n",
        "  print(\"Maior de idade!\")\n",
        "  print(\"eba!\")"
      ],
      "execution_count": 0,
      "outputs": [
        {
          "output_type": "stream",
          "text": [
            "Maior de idade!\n",
            "eba!\n"
          ],
          "name": "stdout"
        }
      ]
    },
    {
      "cell_type": "markdown",
      "metadata": {
        "id": "jGBjVcL8zEJw",
        "colab_type": "text"
      },
      "source": [
        "####Exemplo 2"
      ]
    },
    {
      "cell_type": "code",
      "metadata": {
        "id": "isV4cR6j_Ub-",
        "colab_type": "code",
        "colab": {}
      },
      "source": [
        "idade = 10\n",
        "if idade >= 18:\n",
        "    print(\"Maior de idade!\")\n",
        "    print(\"eba!\")"
      ],
      "execution_count": 0,
      "outputs": []
    },
    {
      "cell_type": "markdown",
      "metadata": {
        "id": "QMlb_kWdbimL",
        "colab_type": "text"
      },
      "source": [
        "Como você pode ver nesse exemplo, a condição estabelecida para o código ser executado é: a idade ser maior ou igual a 18. \n",
        "\n",
        "A estrutura **`if`** no Python é seguida pela condição lógica estabelecida e por dois pontos (:). As linhas abaixo dela são as instruções que serão executadas caso a condição anterior seja antendida."
      ]
    },
    {
      "cell_type": "markdown",
      "metadata": {
        "id": "NxEvkglOd0bC",
        "colab_type": "text"
      },
      "source": [
        "*** \n",
        "\n",
        "** Identação:**\n",
        "  \n",
        "Aqui vai um conceito muito importante para suas estruturas de condição ficarem certinhas! O Python espera dos seus programadores um pouquinho de organização em seus códigos, assim, como você viu no exemplo acima, o comando `if` (e muitos outros) segue um padrão de espaçamento!\n",
        "\n",
        "Os espaçamentos diferentes referenciam diferentes blocos. Ou seja, delimitam o começo e o fim de um comando (para aqueles que conhecem o C++, é como o famoso \"abre e fecha chaves\").\n",
        "  \n",
        "No exemplo acima, a instrução `print` está dentro do comando `if` (ela somente será executada se a condição for verdadeira), e por isso recebe o **recuo de quatro espaços**!\n",
        "  \n",
        "Fique ligado! Se você tentar rodar a célula e der o erro `\"IndentationError: expected an indented block\"`, é isso! Corrija o espaçamento e continue!\n",
        "\n",
        "***"
      ]
    },
    {
      "cell_type": "markdown",
      "metadata": {
        "id": "eODGBjxEzhyw",
        "colab_type": "text"
      },
      "source": [
        "####Exemplo 3"
      ]
    },
    {
      "cell_type": "code",
      "metadata": {
        "id": "PTxJXZLTX-JX",
        "colab_type": "code",
        "outputId": "33be3487-7e16-4b7e-b950-9fad67261d15",
        "colab": {
          "base_uri": "https://localhost:8080/",
          "height": 34
        }
      },
      "source": [
        "idade = 10\n",
        "if idade >= 18:\n",
        "    print(\"Maior de idade!\")\n",
        "print(\"eba!\")"
      ],
      "execution_count": 0,
      "outputs": [
        {
          "output_type": "stream",
          "text": [
            "eba!\n"
          ],
          "name": "stdout"
        }
      ]
    },
    {
      "cell_type": "markdown",
      "metadata": {
        "id": "nCaomzgsYnb9",
        "colab_type": "text"
      },
      "source": [
        "Perceba que nesse exemplo 3, diferente do exemplo 2, a parte **`print(\"eba!\")`** é rodada mesmo que a idade da expressão em **`if`** não seja atendida. Isso se dá pela identação (repare que são diferentes nos exemplos). Quando o **`print(\"eba!\")`**  está identado rente à linha do **`if`** temos ele idependente da condição avaliada. Já quando sua identação é mais à frente, ele é considerado um comando do **`if`**, e só vai acontecer se a condição avaliada for **`True`**"
      ]
    },
    {
      "cell_type": "markdown",
      "metadata": {
        "id": "QDfMTDo__w_w",
        "colab_type": "text"
      },
      "source": [
        "##`else`\n",
        "Nos exemplos acima, tínhamos uma reposta somente quando a condição estipulada era atendida. Quando não era, nada era impresso. Então, se a idade fosse menor que 18 o programa simplesmente não te respondia. Mas bem que ele podia, né?\n",
        "\n",
        "Para isso, é preciso que você estipule o que ele deve responder com o comando **`else`**."
      ]
    },
    {
      "cell_type": "code",
      "metadata": {
        "id": "RRLuRV2yARtg",
        "colab_type": "code",
        "outputId": "3e935173-6130-4705-c546-b664ebbfa011",
        "colab": {
          "base_uri": "https://localhost:8080/",
          "height": 35
        }
      },
      "source": [
        "idade = 10\n",
        "if idade >= 18:\n",
        "  print(\"Maior de idade!\")\n",
        "else:\n",
        "  print (\"Menor de idade!\")"
      ],
      "execution_count": 0,
      "outputs": [
        {
          "output_type": "stream",
          "text": [
            "Menor de idade!\n"
          ],
          "name": "stdout"
        }
      ]
    },
    {
      "cell_type": "markdown",
      "metadata": {
        "id": "DDPvlYZ8Y_5O",
        "colab_type": "text"
      },
      "source": [
        "O comando **`else`** serve para todas as outras possibilidades que não atendem a condição estabelecida no **`if`**.\n",
        "Portanto, todas as idades menores que `18` serão executadas pelo **`else`**."
      ]
    },
    {
      "cell_type": "markdown",
      "metadata": {
        "id": "kxCUWJ39Agxx",
        "colab_type": "text"
      },
      "source": [
        "##`elif`\n",
        "\n",
        "O exemplo que foi usado tinha apenas 2 opções:\n",
        "\n",
        "\n",
        "*   Maior de idade\n",
        "*   Menor de idade\n",
        "\n",
        "Acontece que nem sempre é assim. Podemos usar um novo exemplo, como classificar pela idade em:\n",
        "\n",
        "*   Criança\n",
        "*   Adolescente\n",
        "*   Adulto\n",
        "\n",
        "Perceba que dessa forma, existe mais de 1 possibilidade, então só o **`if`** e o **`else`** não seriam suficientes. Para isso, existe o **`elif`** (precisamos admitir que eles mandaram bem no nome). \n",
        "\n",
        "Essa ferramenta nos permite impor múltiplas condições.\n"
      ]
    },
    {
      "cell_type": "code",
      "metadata": {
        "id": "ljwQ_7siDCZH",
        "colab_type": "code",
        "outputId": "5a9c06c5-2683-4e7e-abe9-243ef3e28b54",
        "colab": {
          "base_uri": "https://localhost:8080/",
          "height": 34
        }
      },
      "source": [
        "idade = 10\n",
        "if idade < 12:\n",
        "  print(\"Criança\")\n",
        "elif idade < 18:\n",
        "  print (\"Adolescente\")\n",
        "else:\n",
        "  print (\"Adulto\")"
      ],
      "execution_count": 0,
      "outputs": [
        {
          "output_type": "stream",
          "text": [
            "Criança\n"
          ],
          "name": "stdout"
        }
      ]
    },
    {
      "cell_type": "markdown",
      "metadata": {
        "id": "XjilJNOQENXX",
        "colab_type": "text"
      },
      "source": [
        "*** \n",
        "**Perceba:**\n",
        "  \n",
        "  O **`else`** só acontece quando **nenhuma** das outras condições é atendida.\n",
        "\n",
        "***"
      ]
    },
    {
      "cell_type": "markdown",
      "metadata": {
        "id": "NiVOwyxkFePI",
        "colab_type": "text"
      },
      "source": [
        "É importante ter em mente que as condições impostas nos **`if`** s, nos **`elif`** s e no **`else`** são excludentes entre si! Ou seja, se o programa entender que o primeiro **`if`** é verdadeiro, vai devolver o que estiver identado logo depois do **`if`** e ignorar as outrar opções.\n"
      ]
    },
    {
      "cell_type": "markdown",
      "metadata": {
        "id": "Kr-3oi1RF0b6",
        "colab_type": "text"
      },
      "source": [
        "####Exemplo 1"
      ]
    },
    {
      "cell_type": "code",
      "metadata": {
        "id": "ZxnICh3oFtbe",
        "colab_type": "code",
        "outputId": "b4933281-adb2-4738-b3e2-db2191672c26",
        "colab": {
          "base_uri": "https://localhost:8080/",
          "height": 35
        }
      },
      "source": [
        "x = 30\n",
        "if (x % 2) == 0:\n",
        "    print('{} é par'.format(x))\n",
        "elif x > 20:\n",
        "    print('{} é maior que 20'.format(x))"
      ],
      "execution_count": 0,
      "outputs": [
        {
          "output_type": "stream",
          "text": [
            "30 é par\n"
          ],
          "name": "stdout"
        }
      ]
    },
    {
      "cell_type": "markdown",
      "metadata": {
        "id": "1zAb1_sgFyKI",
        "colab_type": "text"
      },
      "source": [
        "Observe que, nesse caso, as condições de **`if`** e **`elif`**  que estipulamos, na verdade,  não são excludentes. `30` é, de fato, tanto par quanto maior que `20`, mas o programa não entende isso sozinho. É necessário que você mostre isso usando **`if` para ambas as condições**, assim ele vai entender que são duas condições independentes."
      ]
    },
    {
      "cell_type": "markdown",
      "metadata": {
        "id": "1gglIwW7Gj4n",
        "colab_type": "text"
      },
      "source": [
        "####Exemplo 2\n"
      ]
    },
    {
      "cell_type": "code",
      "metadata": {
        "id": "6xmveDVoGoQf",
        "colab_type": "code",
        "outputId": "3e52eabe-8759-42e9-8692-9aeb9fe17a4f",
        "colab": {
          "base_uri": "https://localhost:8080/",
          "height": 54
        }
      },
      "source": [
        "x = 30\n",
        "if (x % 2) == 0:\n",
        "    print('{} é par'.format(x))\n",
        "if x > 20:\n",
        "    print('{} é maior que 20'.format(x))"
      ],
      "execution_count": 0,
      "outputs": [
        {
          "output_type": "stream",
          "text": [
            "30 é par\n",
            "30 is maior que 20\n"
          ],
          "name": "stdout"
        }
      ]
    },
    {
      "cell_type": "markdown",
      "metadata": {
        "id": "_Lad1sqv5PHf",
        "colab_type": "text"
      },
      "source": [
        "Outro diferencial do Python em questão de simplicidade é que você pode montar **todo esse esquema de condições em uma única sentença**. Fica quase uma frase! Para quem nunca programou com outras linguagens antes não aparece o tamanho da evolução que isso é, mas confia! O negócio é simples mesmo."
      ]
    },
    {
      "cell_type": "code",
      "metadata": {
        "id": "eG6w583u6xZv",
        "colab_type": "code",
        "outputId": "62c6851b-fd73-4bfc-85a7-dc437db6ea95",
        "colab": {
          "base_uri": "https://localhost:8080/",
          "height": 35
        }
      },
      "source": [
        "nota = 4.5\n",
        "resultado = 'Aprovado' if nota > 5.75 else 'Não aprovado'\n",
        "print(resultado)"
      ],
      "execution_count": 0,
      "outputs": [
        {
          "output_type": "stream",
          "text": [
            "Reprovado\n"
          ],
          "name": "stdout"
        }
      ]
    },
    {
      "cell_type": "code",
      "metadata": {
        "id": "TyFsWInl6_Q1",
        "colab_type": "code",
        "outputId": "0fce0529-ba8f-43f2-e2f3-4a6aac0ed429",
        "colab": {
          "base_uri": "https://localhost:8080/",
          "height": 35
        }
      },
      "source": [
        "nota = 4.5\n",
        "if nota > 5.75:\n",
        "    resultado = 'Aprovado'\n",
        "else:\n",
        "    resultado = 'Não aprovado'\n",
        "print(resultado)"
      ],
      "execution_count": 0,
      "outputs": [
        {
          "output_type": "stream",
          "text": [
            "Não aprovado\n"
          ],
          "name": "stdout"
        }
      ]
    },
    {
      "cell_type": "markdown",
      "metadata": {
        "id": "O0CjmSTz9xkX",
        "colab_type": "text"
      },
      "source": [
        "*** \n",
        "\n",
        "**Atenção:**\n",
        "  \n",
        "  É importante lembrar que os dados booleanos **`True`** e **`False`** são, necessariamente, escritos com a **primeira letra maiúscula** para que o Python os reconheça. \n",
        "  \n",
        " Esse padrão chama **CamelCase**, quando um comando com uma ou mais palavras concatenadas demandam as primeiras letras maiúsculas. Você vai encontrar isso em várias outras linguagens.\n",
        "\n",
        "***"
      ]
    },
    {
      "cell_type": "markdown",
      "metadata": {
        "id": "Fl9sz7EhAJYb",
        "colab_type": "text"
      },
      "source": [
        "##EXERCÍCIOS\n",
        "\n",
        "1. Dado a sequência de números: 6, 3, 9, 4, 2, 2, 7. Escreva um programa que calcule a soma dos números pares e quantos números da sequência são pares. \n",
        "Dica: utilize o operador \"%\", que retorna o resto da divisão (usamos nessa apostila)."
      ]
    },
    {
      "cell_type": "code",
      "metadata": {
        "id": "BbGLud4WBBql",
        "colab_type": "code",
        "colab": {}
      },
      "source": [
        ""
      ],
      "execution_count": 0,
      "outputs": []
    },
    {
      "cell_type": "markdown",
      "metadata": {
        "id": "yR8yCld8BkUu",
        "colab_type": "text"
      },
      "source": [
        "2. Escreva um programa que coloque os números em ordem decrescente. Sendo eles: a=5, b=8, c=3."
      ]
    },
    {
      "cell_type": "code",
      "metadata": {
        "id": "MNG5aJ6eB8-n",
        "colab_type": "code",
        "colab": {}
      },
      "source": [
        ""
      ],
      "execution_count": 0,
      "outputs": []
    }
  ]
}