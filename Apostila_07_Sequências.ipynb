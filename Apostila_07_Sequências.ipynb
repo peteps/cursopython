{
  "nbformat": 4,
  "nbformat_minor": 0,
  "metadata": {
    "colab": {
      "name": "Cópia de Apostila - 07. Sequências",
      "version": "0.3.2",
      "provenance": [],
      "collapsed_sections": []
    },
    "kernelspec": {
      "name": "python3",
      "display_name": "Python 3"
    }
  },
  "cells": [
    {
      "cell_type": "markdown",
      "metadata": {
        "id": "ZNJ4ELelLE3z",
        "colab_type": "text"
      },
      "source": [
        "#SEQUÊNCIAS"
      ]
    },
    {
      "cell_type": "markdown",
      "metadata": {
        "id": "a7purt7GMTc4",
        "colab_type": "text"
      },
      "source": [
        "##TUPLAS\n",
        "As **`tuplas`** são equivalentes às listas, só que **imutáveis**. Assim, diferentemente das listas, não podemos mudar uma tupla.\n",
        "\n",
        "Elas são representadas com seus elementos separados por vírgulas e entre parênteses."
      ]
    },
    {
      "cell_type": "code",
      "metadata": {
        "id": "Hpg_HPwyK8vu",
        "colab_type": "code",
        "outputId": "fa9a74a8-451d-4ece-de79-078f35b43af0",
        "colab": {
          "base_uri": "https://localhost:8080/",
          "height": 35
        }
      },
      "source": [
        "uma_tupla = (1, 2, 3, 4)\n",
        "uma_tupla"
      ],
      "execution_count": 0,
      "outputs": [
        {
          "output_type": "execute_result",
          "data": {
            "text/plain": [
              "(1, 2, 3, 4)"
            ]
          },
          "metadata": {
            "tags": []
          },
          "execution_count": 4
        }
      ]
    },
    {
      "cell_type": "markdown",
      "metadata": {
        "id": "QdyD42LwNPNA",
        "colab_type": "text"
      },
      "source": [
        "---\n",
        "**Dica de programador:**\n",
        "  \n",
        "Para saber as \"funções membro\" que se pode utilizar com um objeto, você pode digitar o nome do objeto seguido por um ponto e clicar a tecla \"tab\" do teclado. Aparecerá uma lista com essas funções membro (aquelas funções reservadas para um tipo de objeto).\n",
        "  \n",
        "Faz assim: digita '*tuple.*' e clica em \"tab\" no teclado.\n",
        "  ***"
      ]
    },
    {
      "cell_type": "markdown",
      "metadata": {
        "id": "jUws8c2VsDvD",
        "colab_type": "text"
      },
      "source": [
        "###`count()`"
      ]
    },
    {
      "cell_type": "code",
      "metadata": {
        "id": "1-g-zUnWNDTR",
        "colab_type": "code",
        "outputId": "24b493a2-3c13-46db-84fc-969004d0f34f",
        "colab": {
          "base_uri": "https://localhost:8080/",
          "height": 35
        }
      },
      "source": [
        "uma_tupla.count(2) # Quantidade de vezes que o elemento 2 aparece na tupla"
      ],
      "execution_count": 0,
      "outputs": [
        {
          "output_type": "execute_result",
          "data": {
            "text/plain": [
              "1"
            ]
          },
          "metadata": {
            "tags": []
          },
          "execution_count": 5
        }
      ]
    },
    {
      "cell_type": "markdown",
      "metadata": {
        "id": "zNfEYWMasJgy",
        "colab_type": "text"
      },
      "source": [
        "###`index()`"
      ]
    },
    {
      "cell_type": "code",
      "metadata": {
        "id": "Swvpk9KzNIuh",
        "colab_type": "code",
        "outputId": "f6a979e3-ab3a-4bae-e971-c82bbb3e8180",
        "colab": {
          "base_uri": "https://localhost:8080/",
          "height": 35
        }
      },
      "source": [
        "uma_tupla.index(2)  # Posição que o elemento de valor 2 ocupa na tupla\n",
        "                    # Lembrando que começa do 0"
      ],
      "execution_count": 0,
      "outputs": [
        {
          "output_type": "execute_result",
          "data": {
            "text/plain": [
              "1"
            ]
          },
          "metadata": {
            "tags": []
          },
          "execution_count": 6
        }
      ]
    },
    {
      "cell_type": "markdown",
      "metadata": {
        "id": "JZ0SxeRyOA_I",
        "colab_type": "text"
      },
      "source": [
        "Ainda, podemos \"transformar\" uma `tupla` em uma `lista` usando a função **`list( )`**:"
      ]
    },
    {
      "cell_type": "code",
      "metadata": {
        "id": "y24P_a8IOOj3",
        "colab_type": "code",
        "outputId": "a9cb4b30-80c3-45c8-a011-e4dc329a46eb",
        "colab": {
          "base_uri": "https://localhost:8080/",
          "height": 35
        }
      },
      "source": [
        "uma_lista = list(uma_tupla)\n",
        "uma_lista"
      ],
      "execution_count": 0,
      "outputs": [
        {
          "output_type": "execute_result",
          "data": {
            "text/plain": [
              "[1, 2, 3, 4]"
            ]
          },
          "metadata": {
            "tags": []
          },
          "execution_count": 7
        }
      ]
    },
    {
      "cell_type": "markdown",
      "metadata": {
        "id": "vATDI9d8OfIk",
        "colab_type": "text"
      },
      "source": [
        "Você deve observar que não estamos transformando de fato uma tupla em uma lista. Aliás, nem podemos fazer isso, uma vez que tuplas são imutáveis. Perceba, nossa tupla continua existindo:"
      ]
    },
    {
      "cell_type": "code",
      "metadata": {
        "id": "j089BU4MPDFg",
        "colab_type": "code",
        "outputId": "2f26b7d9-d924-4621-d0a9-93a9074da0ef",
        "colab": {
          "base_uri": "https://localhost:8080/",
          "height": 35
        }
      },
      "source": [
        "uma_tupla"
      ],
      "execution_count": 0,
      "outputs": [
        {
          "output_type": "execute_result",
          "data": {
            "text/plain": [
              "(1, 2, 3, 4)"
            ]
          },
          "metadata": {
            "tags": []
          },
          "execution_count": 8
        }
      ]
    },
    {
      "cell_type": "markdown",
      "metadata": {
        "id": "Tl26M-cMPHxw",
        "colab_type": "text"
      },
      "source": [
        "Na verdade, o que está acontecendo é que a função **`list( )`** está **listando**, de fato, os elementos da tupla e criando um novo objeto do tipo **list** com os elementos da tupla."
      ]
    },
    {
      "cell_type": "code",
      "metadata": {
        "id": "vl9QQZjuPpBI",
        "colab_type": "code",
        "outputId": "5938f42f-fbe0-436b-a3a4-e034e38ea418",
        "colab": {
          "base_uri": "https://localhost:8080/",
          "height": 35
        }
      },
      "source": [
        "type(uma_lista)"
      ],
      "execution_count": 0,
      "outputs": [
        {
          "output_type": "execute_result",
          "data": {
            "text/plain": [
              "list"
            ]
          },
          "metadata": {
            "tags": []
          },
          "execution_count": 9
        }
      ]
    },
    {
      "cell_type": "code",
      "metadata": {
        "id": "A70YYJYwPrSu",
        "colab_type": "code",
        "outputId": "d0a83e53-5c29-45d0-f55d-e92664961dd2",
        "colab": {
          "base_uri": "https://localhost:8080/",
          "height": 35
        }
      },
      "source": [
        "type(uma_tupla)"
      ],
      "execution_count": 0,
      "outputs": [
        {
          "output_type": "execute_result",
          "data": {
            "text/plain": [
              "tuple"
            ]
          },
          "metadata": {
            "tags": []
          },
          "execution_count": 10
        }
      ]
    },
    {
      "cell_type": "markdown",
      "metadata": {
        "id": "-u227kVGPwd3",
        "colab_type": "text"
      },
      "source": [
        "##SEQUÊNCIAS\n",
        "Listas, strings e tuplas são todas exemplos de **sequências** - uma série de **elementos ordenados** (ou de caracteres, no caso das strings)"
      ]
    },
    {
      "cell_type": "code",
      "metadata": {
        "id": "TEvNPx57QLTF",
        "colab_type": "code",
        "colab": {}
      },
      "source": [
        "minha_lista = ['a', 'b', 'c']\n",
        "minha_tupla = ('a', 'b', 'c')\n",
        "minha_string = 'abc'"
      ],
      "execution_count": 0,
      "outputs": []
    },
    {
      "cell_type": "markdown",
      "metadata": {
        "id": "ASNqFRpiRTon",
        "colab_type": "text"
      },
      "source": [
        "###Indexação\n",
        "`seq[n]` vai retornar o elemento(ou caracter) na n-ésima posição da sequência em questão."
      ]
    },
    {
      "cell_type": "code",
      "metadata": {
        "id": "rZdLdeFER3cw",
        "colab_type": "code",
        "outputId": "fcadc127-7c6c-45d6-e399-882ae0b22d54",
        "colab": {
          "base_uri": "https://localhost:8080/",
          "height": 35
        }
      },
      "source": [
        "if minha_lista[1] == minha_tupla[1] == minha_string[1]:\n",
        "    print(minha_lista[1], minha_tupla[1], minha_string[1])"
      ],
      "execution_count": 0,
      "outputs": [
        {
          "output_type": "stream",
          "text": [
            "('b', 'b', 'b')\n"
          ],
          "name": "stdout"
        }
      ]
    },
    {
      "cell_type": "markdown",
      "metadata": {
        "id": "JBviHxLzScpO",
        "colab_type": "text"
      },
      "source": [
        "###Comprimento\n",
        "**`len(seq)`**, como já vimos antes, retorna o comprimento da sequência, ou seja, a quantidade de elementos ou caracteres."
      ]
    },
    {
      "cell_type": "code",
      "metadata": {
        "id": "iISGtCgdSb22",
        "colab_type": "code",
        "outputId": "bbbbcb2e-7b99-46fe-cd97-7db8faa9a663",
        "colab": {
          "base_uri": "https://localhost:8080/",
          "height": 35
        }
      },
      "source": [
        "if len(minha_lista) == len(minha_tupla) == len(minha_string):\n",
        "    print(len(minha_lista), len(minha_tupla), len(minha_string))"
      ],
      "execution_count": 0,
      "outputs": [
        {
          "output_type": "stream",
          "text": [
            "(3, 3, 3)\n"
          ],
          "name": "stdout"
        }
      ]
    },
    {
      "cell_type": "markdown",
      "metadata": {
        "id": "5r7ZUJs4S-mH",
        "colab_type": "text"
      },
      "source": [
        "###Segmentação\n",
        "Assim como já fizemos com as listas, podemos segmentar qualquer sequência"
      ]
    },
    {
      "cell_type": "code",
      "metadata": {
        "id": "yH1KI4u4TSZn",
        "colab_type": "code",
        "outputId": "af780e7c-7588-4f0e-818e-b23f9804ea26",
        "colab": {
          "base_uri": "https://localhost:8080/",
          "height": 35
        }
      },
      "source": [
        "print (minha_tupla[1:]) # Esse [1:] significa que a tupla será segmentada \n",
        "                        #a partir do elemento de posição 1\n",
        "                        #e, como não definimos uma posição depois do :\n",
        "                        #ela vai até o fim"
      ],
      "execution_count": 0,
      "outputs": [
        {
          "output_type": "stream",
          "text": [
            "('b', 'c')\n"
          ],
          "name": "stdout"
        }
      ]
    },
    {
      "cell_type": "markdown",
      "metadata": {
        "id": "Glay5FIsTvmg",
        "colab_type": "text"
      },
      "source": [
        "###Operadores\n",
        "`in` e `not in`são operadores. Assim, você pode checar se algum elemento é ou não parte de uma sequência. O interpretador vai entender como uma **pergunta** e vai te responder com `True`  ou `False`.\n",
        "\n",
        "***\n",
        "Exemplo: `x` `in` `seq` == `True` ⇔ algum item da sequência é igual a x\n",
        "***\n",
        "\n",
        "Para strings, você pode checar se uma substring faz parte da string em questão."
      ]
    },
    {
      "cell_type": "code",
      "metadata": {
        "id": "mK1Wid2HUnZA",
        "colab_type": "code",
        "outputId": "3dae25e7-2f7a-4570-eb1b-19a49f004727",
        "colab": {
          "base_uri": "https://localhost:8080/",
          "height": 35
        }
      },
      "source": [
        "'b' in minha_lista"
      ],
      "execution_count": 0,
      "outputs": [
        {
          "output_type": "execute_result",
          "data": {
            "text/plain": [
              "True"
            ]
          },
          "metadata": {
            "tags": []
          },
          "execution_count": 15
        }
      ]
    },
    {
      "cell_type": "code",
      "metadata": {
        "id": "H0KqxKb7Urr3",
        "colab_type": "code",
        "outputId": "f8501100-361e-4251-f75a-041d28bc4347",
        "colab": {
          "base_uri": "https://localhost:8080/",
          "height": 35
        }
      },
      "source": [
        "'b' in minha_tupla and 'b' in minha_lista and 'b' in minha_string"
      ],
      "execution_count": 0,
      "outputs": [
        {
          "output_type": "execute_result",
          "data": {
            "text/plain": [
              "True"
            ]
          },
          "metadata": {
            "tags": []
          },
          "execution_count": 16
        }
      ]
    },
    {
      "cell_type": "code",
      "metadata": {
        "id": "QzIaYgTpVBea",
        "colab_type": "code",
        "outputId": "2e758da5-529a-4988-a4ac-f512e713f668",
        "colab": {
          "base_uri": "https://localhost:8080/",
          "height": 35
        }
      },
      "source": [
        "'oduç' in 'Engenharia de produção'"
      ],
      "execution_count": 0,
      "outputs": [
        {
          "output_type": "execute_result",
          "data": {
            "text/plain": [
              "True"
            ]
          },
          "metadata": {
            "tags": []
          },
          "execution_count": 17
        }
      ]
    },
    {
      "cell_type": "markdown",
      "metadata": {
        "id": "jsiQUg21VrhH",
        "colab_type": "text"
      },
      "source": [
        "###Concatenação\n",
        "\n",
        "Podemos unir objetos do mesmo tipo de maneira bem fácil usando o operador de adição +.\n",
        "\n",
        "Ou duplicá-lo quantas vezes quisermos utilizando o operador de multiplição *."
      ]
    },
    {
      "cell_type": "code",
      "metadata": {
        "id": "o0-_FJpWuVbj",
        "colab_type": "code",
        "outputId": "e0b66fcd-d0c0-42ef-c511-f30a7d49c0b5",
        "colab": {
          "base_uri": "https://localhost:8080/",
          "height": 35
        }
      },
      "source": [
        "uma_tupla + (5, 6, 7) #Lembra que tem que ser um objeto do mesmo tipo (tupla + tupla)\n"
      ],
      "execution_count": 0,
      "outputs": [
        {
          "output_type": "execute_result",
          "data": {
            "text/plain": [
              "(1, 2, 3, 4, 5, 6, 7)"
            ]
          },
          "metadata": {
            "tags": []
          },
          "execution_count": 20
        }
      ]
    },
    {
      "cell_type": "code",
      "metadata": {
        "id": "FF8rKey3u6-K",
        "colab_type": "code",
        "outputId": "f65239ba-ebcb-48e5-8519-b713dd275102",
        "colab": {
          "base_uri": "https://localhost:8080/",
          "height": 35
        }
      },
      "source": [
        "\"Yay! \" * 5"
      ],
      "execution_count": 0,
      "outputs": [
        {
          "output_type": "execute_result",
          "data": {
            "text/plain": [
              "'Yay! Yay! Yay! Yay! Yay! '"
            ]
          },
          "metadata": {
            "tags": []
          },
          "execution_count": 22
        }
      ]
    },
    {
      "cell_type": "code",
      "metadata": {
        "id": "_Si7XWOVaeBC",
        "colab_type": "code",
        "outputId": "c94e5c8d-889a-4dc2-df22-0108c08787af",
        "colab": {
          "base_uri": "https://localhost:8080/",
          "height": 35
        }
      },
      "source": [
        "print(minha_lista + list('de'),\n",
        "      minha_tupla + tuple('de'),\n",
        "      minha_string + 'de')"
      ],
      "execution_count": 0,
      "outputs": [
        {
          "output_type": "stream",
          "text": [
            "(['a', 'b', 'c', 'd', 'e'], ('a', 'b', 'c', 'd', 'e'), 'abcde')\n"
          ],
          "name": "stdout"
        }
      ]
    },
    {
      "cell_type": "markdown",
      "metadata": {
        "id": "7pXtkBfNvjr1",
        "colab_type": "text"
      },
      "source": [
        "###Loops com `for( )` \n",
        "\n",
        "Podemos usar a estrutura de repetição `for( )` para iterar em qualquer tipo de sequência. "
      ]
    },
    {
      "cell_type": "code",
      "metadata": {
        "id": "8llP2WNdaFlU",
        "colab_type": "code",
        "outputId": "82a640f2-5fc6-455e-e5db-1f2067f315c5",
        "colab": {
          "base_uri": "https://localhost:8080/",
          "height": 90
        }
      },
      "source": [
        "for i in uma_tupla:\n",
        "  print(i)\n",
        "  \n"
      ],
      "execution_count": 0,
      "outputs": [
        {
          "output_type": "stream",
          "text": [
            "1\n",
            "2\n",
            "3\n",
            "4\n"
          ],
          "name": "stdout"
        }
      ]
    },
    {
      "cell_type": "code",
      "metadata": {
        "id": "s4ll7ESFawcw",
        "colab_type": "code",
        "outputId": "6ad34972-d932-4f29-ad56-88fe44471b8f",
        "colab": {
          "base_uri": "https://localhost:8080/",
          "height": 34
        }
      },
      "source": [
        "for sequencia in [minha_lista]:\n",
        "    for item in sequencia:\n",
        "        print(item, end=' ')\n",
        "    print()"
      ],
      "execution_count": 0,
      "outputs": [
        {
          "output_type": "stream",
          "text": [
            "a b c \n"
          ],
          "name": "stdout"
        }
      ]
    },
    {
      "cell_type": "markdown",
      "metadata": {
        "id": "HN0i_jMcbzkq",
        "colab_type": "text"
      },
      "source": [
        "##EXERCÍCIO\n",
        "\n",
        "1.  Dado uma lista de tuplas não vazias, escreva um programa que retorne uma lista ordenada pelo último elemento de cada tupla.\n",
        "Dica: crie uma função personalizada para extrair o último elemento, ela deve ser passada como `key` no segundo parâmetro da função `sorted()`.\n",
        "tuplas = [(4, 3), (5, 1), (7, 2), (9, 0)]"
      ]
    },
    {
      "cell_type": "code",
      "metadata": {
        "id": "K2-e83Elc2gf",
        "colab_type": "code",
        "colab": {}
      },
      "source": [
        ""
      ],
      "execution_count": 0,
      "outputs": []
    }
  ]
}