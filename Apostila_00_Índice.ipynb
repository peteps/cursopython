{
  "nbformat": 4,
  "nbformat_minor": 0,
  "metadata": {
    "colab": {
      "name": "Apostila - 00. Índice",
      "version": "0.3.2",
      "provenance": [],
      "collapsed_sections": []
    },
    "kernelspec": {
      "name": "python3",
      "display_name": "Python 3"
    }
  },
  "cells": [
    {
      "cell_type": "markdown",
      "metadata": {
        "id": "ZhEjyFBd7TQA",
        "colab_type": "text"
      },
      "source": [
        "#SOBRE A APOSTILA\n",
        "  \n",
        "O mundo tecnológico praticamente já não admite quem não saiba pelo menos um pouquinho de Python. As maiores demandas em linguagem de programação e os maiores retornos financeiros se concentram nos profissinais cujo conhecimento abrange essa linguagem. Além disso, ela é frequentemente ensinada em cursos de lógica, devido à simplicidade da sua sintaxe. Assim, para você que nunca teve contato com nenhuma linguagem de programação, está começando pelo lugar certo! Se não for o seu caso, e você já tiver alguma experiência com programação, tudo bem. Python vai te devolver toda aquela motivação pela área de *programming*. \n",
        "\n",
        "  As principais aplicações de Python se concentram em Inteligência Artificial e Aprendizado de Máquina (Machine Learning – ML), mas essa apostila tem o intuito de apresentar e desmistificar a sintaxe básica, além de explicar algumas intuições sobre a estrutura do programa em si. Contrastando com a literatura existente, o objetivo dos autores é explicar de forma simples, clara e interativa tudo o que você precisa saber para se garantir na linguagem. \n",
        "  \n",
        " Esta apostila está hospedada em dois \"aplicativos\" diferentes: um deles é o Colaboratory, hospedado pelo Drive do Google, que tem o intuito de facilitar e dinamizar o aprendizado. Com ele, é possível rodar o código e ver na prática Python acontecendo. O outro é o GitBook, que tem o formato de livro virtual e é legal para se situar dentro da apostila, além de ser ideal para impressão.\n",
        "\n",
        "Com isso, esse material foi desenvolvido em 2018 pelos alunos Augusto Hochleitner, Maria Eduarda Furtado e Natália Zanoni, membros do PET Engenharia de Produção da UFSC, orientado pelo professor Ricardo Giglio, com dois principais intuitos: o curso de Python, parte do portfólio de cursos do PET, e a matéria de Informática para Engenharia de Produção da UFSC (EPS7001)."
      ]
    },
    {
      "cell_type": "markdown",
      "metadata": {
        "id": "Ot7HGbPTrYBj",
        "colab_type": "text"
      },
      "source": [
        "#ÍNDICE\n",
        "\n",
        "**01. Introdução**\n",
        " *  Sobre o Colaboratory\n",
        " *   Programas de Python\n",
        " *   Objetos\n",
        " *   Objetos escalares\n",
        " *   Atribuindo valores às variáveis\n",
        " *   Conversões de tipo (cast)\n",
        " *    Expressões\n",
        " *    Abstraindo expressões\n",
        " *    Programação vs. matemática\n",
        " *    Trocando atribuições\n",
        "\n",
        "\n",
        "**02. Condicionais**\n",
        "*   Valores booleanos\n",
        "*   `If`\n",
        "*   `Else`\n",
        "*   `Elif`\n",
        "\n",
        "**03. Estrutura de Repetição - Loops**\n",
        "*   Loops com `while` \n",
        "*   `Break`\n",
        "*   Loops com `for`\n",
        "*   `Range( )`\n",
        "*   Nested loops\n",
        "\n",
        "**04. Functions**\n",
        "*   Sintaxe\n",
        "*   `Help()`\n",
        "*   Alguns detalhes sobre funções\n",
        "\n",
        "**05. Strings**\n",
        "*   Imutabilidade\n",
        "*   Função `replace`\n",
        "\n",
        "**06. Listas**\n",
        "*   Acessando uma `list`\n",
        "*   Funções reservadas para listas\n",
        "*   Listas e strings\n",
        "*   Mutabilidade\n",
        "\n",
        "\n",
        "**07. Sequências**\n",
        "*  Tuplas\n",
        "*  Sequências\n",
        "\n",
        "**08. Dicionários**\n",
        "*  Criando um dicionário\n",
        "*  Acessando elementos de um dicionário\n",
        "*  Operadores em dicionários\n",
        "*  Percorrendo dicionários com loops\n",
        "\n",
        "**09. Introdução a objetos**\n",
        "*  Explorando valores e referências\n",
        "*  Explorando mutabilidade\n",
        "*  Variáveis locais\n",
        "*  Explorando o escopo\n",
        "\n",
        "**10. Classes**\n",
        "*  O que é um instância?\n",
        "*  Criando uma `classe`\n",
        "*  Usando `classes`\n",
        "*  Subclases\n",
        "*  Conceito de herança\n",
        "\n",
        "**11. Generators**\n",
        "\n",
        "\n",
        "**Apêndice 1: Matemática Simbólica**\n",
        "\n",
        "\n",
        "**Apêndice 2: Gabarito Exercícios Apostilas**"
      ]
    }
  ]
}