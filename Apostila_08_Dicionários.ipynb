{
  "nbformat": 4,
  "nbformat_minor": 0,
  "metadata": {
    "colab": {
      "name": "Cópia de Apostila - 08. Dicionários",
      "version": "0.3.2",
      "provenance": []
    },
    "kernelspec": {
      "name": "python3",
      "display_name": "Python 3"
    }
  },
  "cells": [
    {
      "cell_type": "markdown",
      "metadata": {
        "id": "3bxVfyD02vH8",
        "colab_type": "text"
      },
      "source": [
        "#DICIONÁRIOS\n",
        "\n",
        "Até aqui nós vimos alguns tipos de dados sequênciais (`strings`, `listas` e `tuplas`), são objetos que contêm elementos ordenados, e que seus elementos podem ser acessados pelos seus determinados índices - sua posição dentro da sequência.\n",
        "\n",
        "Os `dicionários` são um tipo de objeto diferente, eles não tem uma ordenação para seus elementos (diferente das sequências), são uma estrutura  do tipo chave-valor.\n",
        "\n",
        "Mas o que significa isso? Podemos dizer que um dicionário é um **mapa que associa pares de elementos** (chave-valor). Ou seja um cada chave tem um valor associado.\n",
        "\n",
        "Esse comando é um pouco mais complicado de interpretar só lendo! Então respira fundo, presta atenção e vai com calma:\n"
      ]
    },
    {
      "cell_type": "code",
      "metadata": {
        "id": "OQva8rYUUQ75",
        "colab_type": "code",
        "outputId": "43861060-ce8a-45e8-9dd2-193863273e37",
        "colab": {
          "base_uri": "https://localhost:8080/",
          "height": 35
        }
      },
      "source": [
        "a_dict = {number: str(number) for number in range(10) if False}\n",
        "print(a_dict)"
      ],
      "execution_count": 0,
      "outputs": [
        {
          "output_type": "stream",
          "text": [
            "{}\n"
          ],
          "name": "stdout"
        }
      ]
    },
    {
      "cell_type": "code",
      "metadata": {
        "id": "l7ES__HieJCf",
        "colab_type": "code",
        "outputId": "1bf461e8-c763-43cd-ea05-719c30ec3fa6",
        "colab": {
          "base_uri": "https://localhost:8080/",
          "height": 35
        }
      },
      "source": [
        "a_dict = {}\n",
        "for number in range(10):\n",
        "    a_dict[number] = str(number)\n",
        "print(a_dict)"
      ],
      "execution_count": 0,
      "outputs": [
        {
          "output_type": "stream",
          "text": [
            "{0: '0', 1: '1', 2: '2', 3: '3', 4: '4', 5: '5', 6: '6', 7: '7', 8: '8', 9: '9'}\n"
          ],
          "name": "stdout"
        }
      ]
    },
    {
      "cell_type": "code",
      "metadata": {
        "id": "yoQZfdriea9T",
        "colab_type": "code",
        "outputId": "b12ca539-b177-47f8-c99b-975c54d3da91",
        "colab": {
          "base_uri": "https://localhost:8080/",
          "height": 35
        }
      },
      "source": [
        "print({'{}'.format(number**2): str(number) for number in range(3)})"
      ],
      "execution_count": 0,
      "outputs": [
        {
          "output_type": "stream",
          "text": [
            "{'0': '0', '1': '1', '4': '2'}\n"
          ],
          "name": "stdout"
        }
      ]
    },
    {
      "cell_type": "markdown",
      "metadata": {
        "id": "SvVX2a6EO2Gu",
        "colab_type": "text"
      },
      "source": [
        "Não entendeu nada? Relaxa. Vamos começar do começo:"
      ]
    },
    {
      "cell_type": "markdown",
      "metadata": {
        "id": "4NMToopl6SQa",
        "colab_type": "text"
      },
      "source": [
        "##CRIANDO UM DICIONÁRIO:\n",
        "Para identificar que estamos usando um dicionário, usamos chaves \"{ }\" para inserir os pares chave-valor, que são separados por vígulas.\n"
      ]
    },
    {
      "cell_type": "code",
      "metadata": {
        "id": "lTzEWpoQ1vb7",
        "colab_type": "code",
        "colab": {}
      },
      "source": [
        "meu_dicionario = {      #Criamos o dicionário com nome \"meu_dicionario\" e dentro das chaves colocamos 3 pares chave-valor\n",
        "    'nome': 'Mateus',   #Esse é um par do dicionário, a chave = \"nome\" e o valor associado = \"Mateus\" (separamos chave e valor com \":\")\n",
        "    'idade': 20,\n",
        "    'cargo': 'líder'\n",
        "}"
      ],
      "execution_count": 0,
      "outputs": []
    },
    {
      "cell_type": "code",
      "metadata": {
        "id": "qW1lP_p4E-B7",
        "colab_type": "code",
        "colab": {}
      },
      "source": [
        "celular = {'mãe': '9958-6321', \"pai\" : '9932-5674'}"
      ],
      "execution_count": 0,
      "outputs": []
    },
    {
      "cell_type": "markdown",
      "metadata": {
        "id": "C-kF__cY_bTz",
        "colab_type": "text"
      },
      "source": [
        "Para **chaves**: podemos usar todos os objetos primitivos e imutáveis (int, float, strings, tuplas)\n",
        "\n",
        "Para **valores**: podemos usar qualquer tipo de objeto (até as listas)"
      ]
    },
    {
      "cell_type": "code",
      "metadata": {
        "id": "5H788Qm8A1cT",
        "colab_type": "code",
        "colab": {}
      },
      "source": [
        "dic_vazio = {}  #Podemos adicionar pares a um dicionario vazio"
      ],
      "execution_count": 0,
      "outputs": []
    },
    {
      "cell_type": "code",
      "metadata": {
        "id": "0UkaIdYjDPO9",
        "colab_type": "code",
        "colab": {}
      },
      "source": [
        "dic_vazio ['nome'] = 'Mateus'  #Entre colchetes colocamos a chave e atribuimos o valor associado\n",
        "dic_vazio ['idade'] = 20"
      ],
      "execution_count": 0,
      "outputs": []
    },
    {
      "cell_type": "markdown",
      "metadata": {
        "id": "5plFte7WB4k-",
        "colab_type": "text"
      },
      "source": [
        "##ACESSANDO ELEMENTOS DO DICIONÁRIO:\n",
        "Lembre-se não importa a ordem dos pares, por isso não podemos acessar com índices, mas sim através das **chaves**!\n",
        "\n"
      ]
    },
    {
      "cell_type": "code",
      "metadata": {
        "id": "HqXRd1DnChmz",
        "colab_type": "code",
        "outputId": "b6b3c581-dd59-4c43-c404-9590ff57e924",
        "colab": {
          "base_uri": "https://localhost:8080/",
          "height": 35
        }
      },
      "source": [
        "meu_dicionario['nome']  #sempre acessamos o valor através da sua chave"
      ],
      "execution_count": 0,
      "outputs": [
        {
          "output_type": "execute_result",
          "data": {
            "text/plain": [
              "'Mateus'"
            ]
          },
          "metadata": {
            "tags": []
          },
          "execution_count": 28
        }
      ]
    },
    {
      "cell_type": "markdown",
      "metadata": {
        "id": "hswsqQxLGLmb",
        "colab_type": "text"
      },
      "source": [
        "Por isso é importante saber que um dicionário **não pode conter duas chaves identicas**!"
      ]
    },
    {
      "cell_type": "markdown",
      "metadata": {
        "id": "TwEAoMCkBJHs",
        "colab_type": "text"
      },
      "source": [
        "***\n",
        "\n",
        "**Quais são as funções membro dos dicionários?**\n",
        "\n",
        "  Escreva: '*dic.'* e aperte \"tab\" no teclado\n",
        "***"
      ]
    },
    {
      "cell_type": "markdown",
      "metadata": {
        "id": "x1yhiU07EgyE",
        "colab_type": "text"
      },
      "source": [
        "Podemos alterar valores de maneira bem simples\n"
      ]
    },
    {
      "cell_type": "code",
      "metadata": {
        "id": "9TYoAttdFgML",
        "colab_type": "code",
        "outputId": "17b11c45-5a62-40e5-8330-2b983d720a70",
        "colab": {
          "base_uri": "https://localhost:8080/",
          "height": 35
        }
      },
      "source": [
        "celular['mãe'] = '9' + celular['mãe']\n",
        "celular['pai'] = '9' + celular['pai']\n",
        "celular"
      ],
      "execution_count": 0,
      "outputs": [
        {
          "output_type": "execute_result",
          "data": {
            "text/plain": [
              "{'mãe': '99958-6321', 'pai': '99932-5674'}"
            ]
          },
          "metadata": {
            "tags": []
          },
          "execution_count": 4
        }
      ]
    },
    {
      "cell_type": "markdown",
      "metadata": {
        "id": "GFltB3U_G2DV",
        "colab_type": "text"
      },
      "source": [
        "E também adicionar pares em um dicionário que já existe"
      ]
    },
    {
      "cell_type": "code",
      "metadata": {
        "id": "2NeKw2_hG9Rz",
        "colab_type": "code",
        "outputId": "2455c382-2cb1-4382-c931-b3e229e49575",
        "colab": {
          "base_uri": "https://localhost:8080/",
          "height": 35
        }
      },
      "source": [
        "celular['irmão'] = '99952-6898'\n",
        "celular"
      ],
      "execution_count": 0,
      "outputs": [
        {
          "output_type": "execute_result",
          "data": {
            "text/plain": [
              "{'irmão': '99952-6898', 'mãe': '99958-6321', 'pai': '99932-5674'}"
            ]
          },
          "metadata": {
            "tags": []
          },
          "execution_count": 5
        }
      ]
    },
    {
      "cell_type": "markdown",
      "metadata": {
        "id": "EIJ4UTzZEBCt",
        "colab_type": "text"
      },
      "source": [
        "Podemos verificar o número de chaves em uma dicionário usando `len( )`"
      ]
    },
    {
      "cell_type": "code",
      "metadata": {
        "id": "JIz_stnrEJRD",
        "colab_type": "code",
        "outputId": "aa94fd13-227c-4305-f049-a99d50671d6a",
        "colab": {
          "base_uri": "https://localhost:8080/",
          "height": 35
        }
      },
      "source": [
        "len(celular) "
      ],
      "execution_count": 0,
      "outputs": [
        {
          "output_type": "execute_result",
          "data": {
            "text/plain": [
              "3"
            ]
          },
          "metadata": {
            "tags": []
          },
          "execution_count": 10
        }
      ]
    },
    {
      "cell_type": "markdown",
      "metadata": {
        "id": "b5JWg-okJU_q",
        "colab_type": "text"
      },
      "source": [
        "##OPERADORES EM DICIONÁRIOS:\n",
        "Podemos checar se uma chave é ou não parte de um dicionário usando operadores `in` e `not in` (como vimos nas sequências)"
      ]
    },
    {
      "cell_type": "code",
      "metadata": {
        "id": "PhTEYJFiI_3C",
        "colab_type": "code",
        "outputId": "8452fea8-84cb-49cf-8866-46ef83beed7c",
        "colab": {
          "base_uri": "https://localhost:8080/",
          "height": 35
        }
      },
      "source": [
        "'irmão' in celular  #lembra que tiramos o 'irmão'"
      ],
      "execution_count": 0,
      "outputs": [
        {
          "output_type": "execute_result",
          "data": {
            "text/plain": [
              "False"
            ]
          },
          "metadata": {
            "tags": []
          },
          "execution_count": 7
        }
      ]
    },
    {
      "cell_type": "code",
      "metadata": {
        "id": "kz8nwviuJ3ZR",
        "colab_type": "code",
        "outputId": "d960ba08-df5d-40a6-a2f2-4556e8051548",
        "colab": {
          "base_uri": "https://localhost:8080/",
          "height": 35
        }
      },
      "source": [
        "'mãe' in celular"
      ],
      "execution_count": 0,
      "outputs": [
        {
          "output_type": "execute_result",
          "data": {
            "text/plain": [
              "True"
            ]
          },
          "metadata": {
            "tags": []
          },
          "execution_count": 8
        }
      ]
    },
    {
      "cell_type": "markdown",
      "metadata": {
        "id": "ALclTcKzIdHe",
        "colab_type": "text"
      },
      "source": [
        "Podemos, inclusive, excluir pares existentes utilizando `del`\n",
        "\n",
        "\n"
      ]
    },
    {
      "cell_type": "code",
      "metadata": {
        "id": "NjRqODyKIKhp",
        "colab_type": "code",
        "outputId": "4862b581-466c-479d-9508-ed18df520fc8",
        "colab": {
          "base_uri": "https://localhost:8080/",
          "height": 35
        }
      },
      "source": [
        "del celular['irmão']\n",
        "celular"
      ],
      "execution_count": 0,
      "outputs": [
        {
          "output_type": "execute_result",
          "data": {
            "text/plain": [
              "{'mãe': '99958-6321', 'pai': '99932-5674'}"
            ]
          },
          "metadata": {
            "tags": []
          },
          "execution_count": 6
        }
      ]
    },
    {
      "cell_type": "markdown",
      "metadata": {
        "id": "mrnuvvwTKDsu",
        "colab_type": "text"
      },
      "source": [
        "##PERCORRENDO DICIONÁRIOS COM LOOPS:\n",
        "Estruturas de repetição vão iterar sobre todas as chaves de um dicionário"
      ]
    },
    {
      "cell_type": "code",
      "metadata": {
        "id": "qb1Uj0k5jsYa",
        "colab_type": "code",
        "outputId": "0680de59-f7dc-4ff2-b9fe-30be9a1c9976",
        "colab": {
          "base_uri": "https://localhost:8080/",
          "height": 54
        }
      },
      "source": [
        "for pessoas in celular:  #Queremos mostrar todas as chaves do dicionário\n",
        "    print(pessoas)"
      ],
      "execution_count": 0,
      "outputs": [
        {
          "output_type": "stream",
          "text": [
            "mãe\n",
            "pai\n"
          ],
          "name": "stdout"
        }
      ]
    },
    {
      "cell_type": "code",
      "metadata": {
        "id": "oJw0RHM8keY4",
        "colab_type": "code",
        "outputId": "5dc7cd7a-ecbe-4689-fbbd-dd21d401da61",
        "colab": {
          "base_uri": "https://localhost:8080/",
          "height": 54
        }
      },
      "source": [
        "for pessoas in celular:      #Se quisermos mostrar os valores associados também\n",
        "    print(pessoas, celular[pessoas])"
      ],
      "execution_count": 0,
      "outputs": [
        {
          "output_type": "stream",
          "text": [
            "mãe 99958-6321\n",
            "pai 99932-5674\n"
          ],
          "name": "stdout"
        }
      ]
    },
    {
      "cell_type": "markdown",
      "metadata": {
        "id": "tDMd8pnmAvZ6",
        "colab_type": "text"
      },
      "source": [
        "Além disso, podemos criar uma `lista` ou `tupla` a partir de um dicionário"
      ]
    },
    {
      "cell_type": "code",
      "metadata": {
        "id": "6k2MOOBiKisy",
        "colab_type": "code",
        "outputId": "443ee979-e1b7-4ad7-d2db-f4f732cd98ca",
        "colab": {
          "base_uri": "https://localhost:8080/",
          "height": 35
        }
      },
      "source": [
        "list(celular.items())"
      ],
      "execution_count": 0,
      "outputs": [
        {
          "output_type": "execute_result",
          "data": {
            "text/plain": [
              "[('mãe', '99958-6321'), ('pai', '99932-5674')]"
            ]
          },
          "metadata": {
            "tags": []
          },
          "execution_count": 11
        }
      ]
    },
    {
      "cell_type": "code",
      "metadata": {
        "id": "gDrftGO2EDFp",
        "colab_type": "code",
        "outputId": "210f611a-a384-4c2c-88f5-fcb887806a00",
        "colab": {
          "base_uri": "https://localhost:8080/",
          "height": 35
        }
      },
      "source": [
        "tuple(celular.items())"
      ],
      "execution_count": 0,
      "outputs": [
        {
          "output_type": "execute_result",
          "data": {
            "text/plain": [
              "(('mãe', '99958-6321'), ('pai', '99932-5674'))"
            ]
          },
          "metadata": {
            "tags": []
          },
          "execution_count": 35
        }
      ]
    },
    {
      "cell_type": "markdown",
      "metadata": {
        "id": "MByZ8TxVdSHB",
        "colab_type": "text"
      },
      "source": [
        "##EXERCÍCIOS\n",
        "\n",
        "1. Crie um programa que cadastre informações de várias pessoas (nome e idade), colocando-as em um dicionário. Depois separe todas as pessoas menores de 18 anos em um novo dicionário e as maiores em outro."
      ]
    },
    {
      "cell_type": "code",
      "metadata": {
        "id": "g8t6jVNMe9lS",
        "colab_type": "code",
        "colab": {}
      },
      "source": [
        ""
      ],
      "execution_count": 0,
      "outputs": []
    },
    {
      "cell_type": "markdown",
      "metadata": {
        "id": "phSw9kRVe9zf",
        "colab_type": "text"
      },
      "source": [
        "2. Dadas as listas:"
      ]
    },
    {
      "cell_type": "code",
      "metadata": {
        "id": "qW-fSe2IfEtx",
        "colab_type": "code",
        "colab": {}
      },
      "source": [
        "nomes = ['Alice', 'Bob', 'Cathy', 'Dan', 'Ed', 'Frank',\n",
        "         'Gary', 'Helen', 'Irene', 'Jack', 'Kelly', 'Larry']\n",
        "idades = [20, 21, 18, 18, 19, 20, 20, 19, 19, 19, 22, 19] "
      ],
      "execution_count": 0,
      "outputs": []
    },
    {
      "cell_type": "markdown",
      "metadata": {
        "id": "u5ST89PefJpY",
        "colab_type": "text"
      },
      "source": [
        "As duas listas se relacionam, ou seja, Alice tem 20 anos, Bob tem 21, e assim por diante.\n",
        "\n",
        "Escreva um programa que combine as duas listas em um dicionário. Então, escreva uma função que, dada uma idade, retorne o nome das pessoas que tem a aquela mesma idade.\n",
        "\n",
        " \n"
      ]
    },
    {
      "cell_type": "code",
      "metadata": {
        "id": "6EF5b7q6KByR",
        "colab_type": "code",
        "colab": {}
      },
      "source": [
        ""
      ],
      "execution_count": 0,
      "outputs": []
    }
  ]
}