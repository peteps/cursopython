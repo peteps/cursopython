{
  "nbformat": 4,
  "nbformat_minor": 0,
  "metadata": {
    "colab": {
      "name": "Cópia de Apostila - 03. Estrutura de Repetição",
      "version": "0.3.2",
      "provenance": [],
      "collapsed_sections": []
    },
    "kernelspec": {
      "name": "python3",
      "display_name": "Python 3"
    }
  },
  "cells": [
    {
      "cell_type": "markdown",
      "metadata": {
        "id": "NL0Uj4cNnHFO",
        "colab_type": "text"
      },
      "source": [
        "# ESTRUTURA DE REPETIÇÃO - LOOPS\n",
        "\n",
        "Podemos usar estruturas de repetição, também chamadas de laços de repetição (loops), quando queremos que uma instrução seja **executada repetidas vezes até que** determinada instrução seja atendida.\n",
        "\n",
        "Por exemplo, quando sabemos o número de vezes que uma instrução deve ser repetida, podemos usar apenas o \"Ctrl+c/Ctrl+v\", não é mesmo? Mas, e quando precisamos repeti-la 100 vezes, ou até 1000?\n",
        "\n",
        "Por isso, existem as estruturas de repetição! Só vai levar um pouquinho de tempo para entendê-las e se apaixonar! Veremos agora duas dessas estruturas:   **`while`**  e  **`for`**.\n"
      ]
    },
    {
      "cell_type": "markdown",
      "metadata": {
        "id": "wU5XTpT_P7iQ",
        "colab_type": "text"
      },
      "source": [
        "\n",
        "**Exemplo**: você deseja um programa que lhe dê o quadrado dos números de 1 a 10.\n",
        "\n",
        "####Programa 1"
      ]
    },
    {
      "cell_type": "code",
      "metadata": {
        "id": "LDSgVsJMsO-C",
        "colab_type": "code",
        "outputId": "f1ed71ce-4585-4c04-94bb-ab5acd381b4c",
        "colab": {
          "base_uri": "https://localhost:8080/",
          "height": 199
        }
      },
      "source": [
        "n = 1\n",
        "quadrado = n ** 2\n",
        "print('O quadrado de {} é {}'.format(n, quadrado))\n",
        "\n",
        "n = n + 1\n",
        "quadrado = n ** 2\n",
        "print('O quadrado de {} é {}'.format(n, quadrado))\n",
        "\n",
        "n = n + 1\n",
        "quadrado = n ** 2\n",
        "print('O quadrado de {} é {}'.format(n, quadrado))\n",
        "\n",
        "n = n + 1\n",
        "quadrado = n ** 2\n",
        "print('O quadrado de {} é {}'.format(n, quadrado))\n",
        "\n",
        "n = n + 1\n",
        "quadrado = n ** 2\n",
        "print('O quadrado de {} é {}'.format(n, quadrado))\n",
        "\n",
        "n = n + 1\n",
        "quadrado = n ** 2\n",
        "print('O quadrado de {} é {}'.format(n, quadrado))\n",
        "\n",
        "n = n + 1\n",
        "quadrado = n ** 2\n",
        "print('O quadrado de {} é {}'.format(n, quadrado))\n",
        "\n",
        "n = n + 1\n",
        "quadrado = n ** 2\n",
        "print('O quadrado de {} é {}'.format(n, quadrado))\n",
        "\n",
        "n = n + 1\n",
        "quadrado = n ** 2\n",
        "print('O quadrado de {} é {}'.format(n, quadrado))\n",
        "\n",
        "n = n + 1\n",
        "quadrado = n ** 2\n",
        "print('O quadrado de {} é {}'.format(n, quadrado))\n"
      ],
      "execution_count": 0,
      "outputs": [
        {
          "output_type": "stream",
          "text": [
            "O quadrado de 1 é 1\n",
            "O quadrado de 2 é 4\n",
            "O quadrado de 3 é 9\n",
            "O quadrado de 4 é 16\n",
            "O quadrado de 5 é 25\n",
            "O quadrado de 6 é 36\n",
            "O quadrado de 7 é 49\n",
            "O quadrado de 8 é 64\n",
            "O quadrado de 9 é 81\n",
            "O quadrado de 10 é 100\n"
          ],
          "name": "stdout"
        }
      ]
    },
    {
      "cell_type": "markdown",
      "metadata": {
        "id": "5HojfQXNsuUm",
        "colab_type": "text"
      },
      "source": [
        "#### Programa 2:"
      ]
    },
    {
      "cell_type": "code",
      "metadata": {
        "id": "diiLhLRnX-63",
        "colab_type": "code",
        "outputId": "9dc8a1d0-1990-4fdf-8872-1e556f007787",
        "colab": {
          "base_uri": "https://localhost:8080/",
          "height": 187
        }
      },
      "source": [
        "n = 1\n",
        "while n <= 10:\n",
        "    quadrado = n ** 2\n",
        "    print('O quadrado de {} é {}'.format(n, quadrado))\n",
        "    n += 1  # Essa expressão é a mesma coisa que dizer: n = n + 1"
      ],
      "execution_count": 0,
      "outputs": [
        {
          "output_type": "stream",
          "text": [
            "O quadrado de 1 é 1\n",
            "O quadrado de 2 é 4\n",
            "O quadrado de 3 é 9\n",
            "O quadrado de 4 é 16\n",
            "O quadrado de 5 é 25\n",
            "O quadrado de 6 é 36\n",
            "O quadrado de 7 é 49\n",
            "O quadrado de 8 é 64\n",
            "O quadrado de 9 é 81\n",
            "O quadrado de 10 é 100\n"
          ],
          "name": "stdout"
        }
      ]
    },
    {
      "cell_type": "markdown",
      "metadata": {
        "id": "ZyfwPzP_tMdh",
        "colab_type": "text"
      },
      "source": [
        "## ```while``` LOOPS\n",
        "\n",
        " O comando **`while`**  permite que uma instrução (ou um conjunto delas) seja executada várias vezes **enquanto** uma condição é atendida.\n",
        "\n",
        "A partir do momento em que a condição não for mais atendida, o loop vai ser interrompido.\n",
        "\n",
        "---\n",
        "**SINTAXE**\n",
        "\n",
        "`while [`*`expressão a ser evaluada em `*  ` True ou False]:`\n",
        "\n",
        ">` [comandos a serem executados]`\n",
        "\n",
        "---\n",
        "\n",
        "Para o comando  **`while`**, o computador primeiro analisa a expressão. Se for **`True`**, ele executa os comandos. Aí ele volta lá na expressão e analisa novamente para o próximo valor. Ele continua repetindo isso até que a expressão deixe de ser **`True`**. Acho que alguns exemplos podem facilitar as coisas pra gente! Olha só:"
      ]
    },
    {
      "cell_type": "markdown",
      "metadata": {
        "id": "v0YZANOJuBlQ",
        "colab_type": "text"
      },
      "source": [
        "---\n",
        "\n",
        "  Perceba que nesse exemplo é usado `a*=2`. A princípio pode parecer meio estranho, mas na verdade isso é um atalho que deixa o código muito mais prático.\n",
        "  \n",
        "  Ele signfica a mesma coisa que `a=a*2` (o valor de `a` agora é o dobro do valor anterior de `a`).\n",
        "  \n",
        "  Pode-se usar também:\n",
        " *   `a+=1`, que é o mesmo que  `a=a+1`\n",
        " *  `a/=2`, que é o mesmo que `a=a/2`\n",
        "  \n",
        "E vários outros. A lógica é essa!\n",
        " \n",
        "---\n",
        "\n"
      ]
    },
    {
      "cell_type": "code",
      "metadata": {
        "id": "Wj2N862nsSSO",
        "colab_type": "code",
        "outputId": "1180ac7a-3241-456f-d9b7-3254d49b7920",
        "colab": {
          "base_uri": "https://localhost:8080/",
          "height": 85
        }
      },
      "source": [
        "a = 1          #esse é o valor inicial de a\n",
        "while a < 5:   #essa é a condição que ele vai verificar para cada a, partindo do seu valor inicial 1\n",
        "    print(a)   #esse é o comando que, se a expressão lá em cima for verdade, o programa vai rodar\n",
        "    a += 1     #aqui ele muda o valor de a, assim, o while avalia agora o valor atual de a"
      ],
      "execution_count": 0,
      "outputs": [
        {
          "output_type": "stream",
          "text": [
            "1\n",
            "2\n",
            "3\n",
            "4\n"
          ],
          "name": "stdout"
        }
      ]
    },
    {
      "cell_type": "code",
      "metadata": {
        "id": "CzW5rBxYs_BI",
        "colab_type": "code",
        "outputId": "955b9080-8f19-4586-ef40-e8270bb4668a",
        "colab": {
          "base_uri": "https://localhost:8080/",
          "height": 187
        }
      },
      "source": [
        "a = 1\n",
        "while a < 1000:\n",
        "    print(a)\n",
        "    a *= 2"
      ],
      "execution_count": 0,
      "outputs": [
        {
          "output_type": "stream",
          "text": [
            "1\n",
            "2\n",
            "4\n",
            "8\n",
            "16\n",
            "32\n",
            "64\n",
            "128\n",
            "256\n",
            "512\n"
          ],
          "name": "stdout"
        }
      ]
    },
    {
      "cell_type": "code",
      "metadata": {
        "id": "Gd9Jy4x3tHFK",
        "colab_type": "code",
        "outputId": "a9d47ac3-69ba-439a-de6d-142a0b215120",
        "colab": {
          "base_uri": "https://localhost:8080/",
          "height": 187
        }
      },
      "source": [
        "a = 1\n",
        "keep_going = True\n",
        "while keep_going:\n",
        "    print(a)\n",
        "    a *= 2\n",
        "    if a >= 1000:\n",
        "        keep_going = False\n",
        "\n",
        "# Parece estranho esse \"while keep-going\", que na verdade é a mesma coisa que \"while True\"\n",
        "# mas esse é apenas um jeito genérico de representar uma expressão verdadeira.\n",
        "# então, podia ser uma expressão a ser verificada (como a<5) no lugar de True\n",
        "# mas esse passo é pulado! Você já definiu para o interpretador que essa expressão é True."
      ],
      "execution_count": 0,
      "outputs": [
        {
          "output_type": "stream",
          "text": [
            "1\n",
            "2\n",
            "4\n",
            "8\n",
            "16\n",
            "32\n",
            "64\n",
            "128\n",
            "256\n",
            "512\n"
          ],
          "name": "stdout"
        }
      ]
    },
    {
      "cell_type": "markdown",
      "metadata": {
        "id": "N76ThtJc0gST",
        "colab_type": "text"
      },
      "source": [
        "###**`break`**\n",
        "O comando `break` interrompe o `while` loop a qualquer momento."
      ]
    },
    {
      "cell_type": "code",
      "metadata": {
        "id": "NMzOKaBLu6dF",
        "colab_type": "code",
        "outputId": "6fa53d60-4440-45a4-9f01-8e1caf52b47f",
        "colab": {
          "base_uri": "https://localhost:8080/",
          "height": 102
        }
      },
      "source": [
        "a = 0\n",
        "while True:\n",
        "    print(a)\n",
        "    a += 2\n",
        "    if a >= 10:\n",
        "        break\n",
        "        \n",
        "# Perceba que esse exemplo é como o anterior, porém mudamos a variável \"keep-going\" pelo \"True\"."
      ],
      "execution_count": 0,
      "outputs": [
        {
          "output_type": "stream",
          "text": [
            "0\n",
            "2\n",
            "4\n",
            "6\n",
            "8\n"
          ],
          "name": "stdout"
        }
      ]
    },
    {
      "cell_type": "markdown",
      "metadata": {
        "id": "kaGVt_0J2Am9",
        "colab_type": "text"
      },
      "source": [
        "## ```for``` LOOPS\n",
        "\n",
        " O comando **`for`**  permite que uma instrução seja percorrida por todos os itens de uma coleção (veremos esses conceitos nas próximas apostilas, porém, coleções podem ser listas, strings, dicionários, etc).\n",
        "\n",
        "---\n",
        "\n",
        "**SINTAXE**\n",
        "\n",
        "`for` *`variável`*  ` in \"`*` sequencia `*  `\":`\n",
        "\n",
        ">` [comandos a serem executados]`\n",
        "\n",
        "---\n",
        "\n",
        "Para o comando **`for`**, o computador retira o primeiro item da coleção (vamos começar com as strings), e executa os comandos nela. \n",
        "Ele continua repetindo para cada item.  Chamamos essas repetições de iterações. Veja esse exemplo:"
      ]
    },
    {
      "cell_type": "code",
      "metadata": {
        "id": "sm3kz_Ga65AO",
        "colab_type": "code",
        "outputId": "b3166380-a91f-4de7-a583-4b6478c31525",
        "colab": {
          "base_uri": "https://localhost:8080/",
          "height": 108
        }
      },
      "source": [
        "for i in 'Hello': #Aqui chamamos a variável de repetição de \"i\"\n",
        "    print(i)      #A coleção em que usamos é a palavra \"Hello\", o for vai pegar cada item(nesse caso, letra)\n",
        "                  #Ou seja, da primeira vez ele pega o \"H\" e executa o comando de imprimi-lo, e assim por diante.\n",
        "      "
      ],
      "execution_count": 0,
      "outputs": [
        {
          "output_type": "stream",
          "text": [
            "H\n",
            "e\n",
            "l\n",
            "l\n",
            "o\n"
          ],
          "name": "stdout"
        }
      ]
    },
    {
      "cell_type": "code",
      "metadata": {
        "id": "LBMlvPgfReXf",
        "colab_type": "code",
        "outputId": "e521d3f9-e697-4036-cd76-778118983206",
        "colab": {
          "base_uri": "https://localhost:8080/",
          "height": 105
        }
      },
      "source": [
        "uma_lista = [1,2,3,4,5] \n",
        "for n in uma_lista:     #A coleção em que usamos é a lista \"uma_lista\", o for vai pegar cada item(nesse caso, número de 1 a 5)\n",
        "  print(n)              #Ou seja, da primeira vez ele pega o primeiro elemento (1) e executa o comando de imprimi-lo\n",
        "                        #Depois disso, o código começa a se repetir, ou seja, começam as iterações, realizando o comando de imprimir o segundo elemento da lista"
      ],
      "execution_count": 0,
      "outputs": [
        {
          "output_type": "stream",
          "text": [
            "1\n",
            "2\n",
            "3\n",
            "4\n",
            "5\n"
          ],
          "name": "stdout"
        }
      ]
    },
    {
      "cell_type": "markdown",
      "metadata": {
        "id": "dmZzUHoZXXMs",
        "colab_type": "text"
      },
      "source": [
        "## ```range()``` \n",
        "\n",
        "Existe uma fução em Python que pode nos ajudar na hora de usar o comando **`for`**, ela é a função **`range()`**. \n",
        "\n",
        "É bem simples, basicamente, ela nos retorna um **intervalo de números inteiros**, do tamanho que quisermos. \n",
        "\n",
        "Podemos usar a função de duas formas:\n",
        "\n",
        "      range(10) --> [0, 1, 2, 3, 4, 5, 6, 7, 8, 9]\n",
        "Retornará uma lista de 10 números, começando do número 0 e acando no número 9  (definição padrão do Python). \n",
        "      \n",
        "      range(1, 10, 2) --> [1, 3, 5, 9]\n",
        "Essa definição da função define em primeiro lugar, o número em que a lista vai começar; em segundo lugar, o valor+1 do último número da sequência; e por último, a diferença entre cada número da lista.\n",
        "Neste caso, a lista começa com o número 1, termina no número 9, e pula de dois em dois números.\n",
        "      \n"
      ]
    },
    {
      "cell_type": "markdown",
      "metadata": {
        "id": "ZP6KgcdjePtI",
        "colab_type": "text"
      },
      "source": [
        "Para entedermos como essa função pode nos ajudar na estrutura **`for`**, presta atenção nesses exemplos.\n",
        "\n",
        "---\n",
        "\n",
        "\n",
        "Podemos escrever um comando assim:"
      ]
    },
    {
      "cell_type": "code",
      "metadata": {
        "id": "PrW0peD-bvgh",
        "colab_type": "code",
        "outputId": "96dd2bc4-fa3a-4196-c07f-ac34bb694b68",
        "colab": {
          "base_uri": "https://localhost:8080/",
          "height": 199
        }
      },
      "source": [
        "for i in [0, 1, 2, 3, 4, 5, 6, 7, 8, 9]: #Aqui é o exemplo como vimos antes (sem utilizar a função range()).\n",
        "  print(i)"
      ],
      "execution_count": 0,
      "outputs": [
        {
          "output_type": "stream",
          "text": [
            "0\n",
            "1\n",
            "2\n",
            "3\n",
            "4\n",
            "5\n",
            "6\n",
            "7\n",
            "8\n",
            "9\n"
          ],
          "name": "stdout"
        }
      ]
    },
    {
      "cell_type": "code",
      "metadata": {
        "id": "oRGcag2zfhNv",
        "colab_type": "code",
        "outputId": "552e90f5-b03a-43a9-d5d3-da48d8c4e291",
        "colab": {
          "base_uri": "https://localhost:8080/",
          "height": 199
        }
      },
      "source": [
        "for n in range(10): #Perceba que estamos fazendo a mesma coisa, porém a função range() facilita na hora de criar intervalos.\n",
        "  print(n)"
      ],
      "execution_count": 0,
      "outputs": [
        {
          "output_type": "stream",
          "text": [
            "0\n",
            "1\n",
            "2\n",
            "3\n",
            "4\n",
            "5\n",
            "6\n",
            "7\n",
            "8\n",
            "9\n"
          ],
          "name": "stdout"
        }
      ]
    },
    {
      "cell_type": "code",
      "metadata": {
        "id": "41sbp0jv7kHM",
        "colab_type": "code",
        "outputId": "bb9c0ab1-b432-4dbe-8c66-747cfa40d804",
        "colab": {
          "base_uri": "https://localhost:8080/",
          "height": 103
        }
      },
      "source": [
        "for i in range(1, 6):\n",
        "    print(i)"
      ],
      "execution_count": 0,
      "outputs": [
        {
          "output_type": "stream",
          "text": [
            "1\n",
            "2\n",
            "3\n",
            "4\n",
            "5\n"
          ],
          "name": "stdout"
        }
      ]
    },
    {
      "cell_type": "code",
      "metadata": {
        "id": "pEkxZF_68CfK",
        "colab_type": "code",
        "outputId": "126caffe-3295-42f2-a978-cf35d5ad1110",
        "colab": {
          "base_uri": "https://localhost:8080/",
          "height": 103
        }
      },
      "source": [
        "for i in range(100):\n",
        "    if i == 5:        #Podemos estipular uma condição que encerra o loop com o \"break\" (vimos isso no começo dessa apostila)\n",
        "        break\n",
        "    print(i)"
      ],
      "execution_count": 0,
      "outputs": [
        {
          "output_type": "stream",
          "text": [
            "0\n",
            "1\n",
            "2\n",
            "3\n",
            "4\n"
          ],
          "name": "stdout"
        }
      ]
    },
    {
      "cell_type": "code",
      "metadata": {
        "id": "QHFXE9EL8YOO",
        "colab_type": "code",
        "outputId": "3b089855-5ab3-4c47-d63d-60e98d685cff",
        "colab": {
          "base_uri": "https://localhost:8080/",
          "height": 126
        }
      },
      "source": [
        "for i in range(11):\n",
        "    if i % 2 != 0:   #Neste exemplo, estamos definindo uma condição para os números serem impressos,\n",
        "        continue     #Ou seja, só serão impressos os números que satisfazerem a condição do \"if\" - neste caso, os números pares.\n",
        "    print(i)"
      ],
      "execution_count": 0,
      "outputs": [
        {
          "output_type": "stream",
          "text": [
            "0\n",
            "2\n",
            "4\n",
            "6\n",
            "8\n",
            "10\n"
          ],
          "name": "stdout"
        }
      ]
    },
    {
      "cell_type": "markdown",
      "metadata": {
        "id": "hdEt-ishiZGB",
        "colab_type": "text"
      },
      "source": [
        "##LOOPS ANINHADOS\n",
        "Em Python, podemos utilizar estruturas de repetição dentro de estruturas de repetição, chamamos esse conceito de Loops Aninhados, ou seja, laços dentro de laço.\n",
        "Veja os exemplos:"
      ]
    },
    {
      "cell_type": "code",
      "metadata": {
        "id": "FIhZtzvY9-qt",
        "colab_type": "code",
        "outputId": "43a964cc-1cd5-44ab-fee7-fde51fd5dbbc",
        "colab": {
          "base_uri": "https://localhost:8080/",
          "height": 72
        }
      },
      "source": [
        "for x in range(4):\n",
        "    for y in range(3):\n",
        "        if x < y:\n",
        "            print(x, y)"
      ],
      "execution_count": 0,
      "outputs": [
        {
          "output_type": "stream",
          "text": [
            "0 1\n",
            "0 2\n",
            "1 2\n"
          ],
          "name": "stdout"
        }
      ]
    },
    {
      "cell_type": "code",
      "metadata": {
        "id": "z7u8uxVHd0Fm",
        "colab_type": "code",
        "outputId": "54b3a3b4-f060-4359-9826-14b4db831cf7",
        "colab": {
          "base_uri": "https://localhost:8080/",
          "height": 199
        }
      },
      "source": [
        "for x in range(5):\n",
        "  for y in range(x):\n",
        "    print(y)"
      ],
      "execution_count": 0,
      "outputs": [
        {
          "output_type": "stream",
          "text": [
            "0\n",
            "0\n",
            "1\n",
            "0\n",
            "1\n",
            "2\n",
            "0\n",
            "1\n",
            "2\n",
            "3\n"
          ],
          "name": "stdout"
        }
      ]
    },
    {
      "cell_type": "code",
      "metadata": {
        "id": "mUtBqCnPeb-l",
        "colab_type": "code",
        "outputId": "afd61e07-9ba2-44e2-a53f-235e9d80dc16",
        "colab": {
          "base_uri": "https://localhost:8080/",
          "height": 199
        }
      },
      "source": [
        "for x in range(5):\n",
        "  for y in range(x):\n",
        "    print(y, end =' ') #O que fazemos com este comando end= ' ' é que após escrever o valor de y o código não vai \"pular para a próxima linha\", e vai continuar escrevendo as próximas saídas na mesma linha\n",
        "  print('\\n')          #Este comando \\n pula para a próxima linha de código"
      ],
      "execution_count": 0,
      "outputs": [
        {
          "output_type": "stream",
          "text": [
            "\n",
            "\n",
            "0 \n",
            "\n",
            "0 1 \n",
            "\n",
            "0 1 2 \n",
            "\n",
            "0 1 2 3 \n",
            "\n"
          ],
          "name": "stdout"
        }
      ]
    },
    {
      "cell_type": "markdown",
      "metadata": {
        "id": "Fl9sz7EhAJYb",
        "colab_type": "text"
      },
      "source": [
        "##EXERCÍCIOS\n",
        "\n",
        "1. Sendo: soma= 1 + 1/2 + 1/3 + 1/4 + ... + 1/N. Faça um programa que calcule o valor da soma, com N=100 termos."
      ]
    },
    {
      "cell_type": "code",
      "metadata": {
        "id": "hX9ZGSQGrMt_",
        "colab_type": "code",
        "colab": {}
      },
      "source": [
        ""
      ],
      "execution_count": 0,
      "outputs": []
    },
    {
      "cell_type": "markdown",
      "metadata": {
        "id": "O7fWDrhDpo4B",
        "colab_type": "text"
      },
      "source": [
        "2. Escreva um programa que encontre todos os números que são, ao mesmo tempo, ímpares e divisíveis por 5 entre o intervalo (100, 500). "
      ]
    },
    {
      "cell_type": "code",
      "metadata": {
        "id": "T79l-iqzr8Jl",
        "colab_type": "code",
        "colab": {}
      },
      "source": [
        ""
      ],
      "execution_count": 0,
      "outputs": []
    },
    {
      "cell_type": "markdown",
      "metadata": {
        "id": "wHMOAvswsWhG",
        "colab_type": "text"
      },
      "source": [
        "3. Dada a `uma_string`='invertida', elabore um programa que a imprima de trás para frente, ou seja, da última letra para a primeira."
      ]
    },
    {
      "cell_type": "code",
      "metadata": {
        "id": "pGJe3Uihs9Q0",
        "colab_type": "code",
        "colab": {}
      },
      "source": [
        ""
      ],
      "execution_count": 0,
      "outputs": []
    }
  ]
}