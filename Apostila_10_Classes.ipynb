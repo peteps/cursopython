{
  "nbformat": 4,
  "nbformat_minor": 0,
  "metadata": {
    "colab": {
      "name": "Cópia de Apostila - 10. Classes",
      "version": "0.3.2",
      "provenance": [],
      "collapsed_sections": []
    },
    "kernelspec": {
      "name": "python3",
      "display_name": "Python 3"
    }
  },
  "cells": [
    {
      "cell_type": "markdown",
      "metadata": {
        "id": "x1cbvor4d9KF",
        "colab_type": "text"
      },
      "source": [
        "#CLASSES\n",
        "\n",
        "Até agora, estamos falando sempre sobre o tipo (**`type`**) de cada objeto.  Mas existe um outro nome para isso que temos escondido até agora: o **tipo** é, na verdade, o que chamamos de **classe**. \n"
      ]
    },
    {
      "cell_type": "code",
      "metadata": {
        "id": "goHidoRueAaw",
        "colab_type": "code",
        "outputId": "e45593b4-1cf4-4374-d710-159b7151a5a2",
        "colab": {
          "base_uri": "https://localhost:8080/",
          "height": 35
        }
      },
      "source": [
        "a = [1, 0]\n",
        "\n",
        "type(a)"
      ],
      "execution_count": 0,
      "outputs": [
        {
          "output_type": "execute_result",
          "data": {
            "text/plain": [
              "list"
            ]
          },
          "metadata": {
            "tags": []
          },
          "execution_count": 1
        }
      ]
    },
    {
      "cell_type": "markdown",
      "metadata": {
        "id": "84rPCxu21dwo",
        "colab_type": "text"
      },
      "source": [
        "Nesse caso acima, se o **`type`** de `a` for **`list`**, isso significa que existe uma **classe** **`list`**, e dentro dessa classe, podemos criar uma lista qualquer, por exemplo: `a = [1, 0]`, que pertence a essa classe. Dizemos que **`a` é uma instância da classe `list`** (ou seja, uma lista que **mora** na classe  **`list`**. Vamos explicar isso melhor daqui a pouquinho).\n",
        "\n",
        "Assim, chegamos a um ponto importante para entender a estrutura da linguagem Python: cada objeto mora em um lugar (ou, melhor, em uma classe), e isso lhe confere **características especiais**.\n",
        "\n",
        "Lembra lá do primeiro tópico? Quando falamos exatamente isso aqui:\n",
        "\n",
        "***\n",
        "> \n",
        "  *  Objetos tem tipos (types) que definem as coisas que o programa pode fazer com eles:\n",
        " *   Augusto é um **humano**, então ele pode caminhar, falar português, etc.\n",
        " *   Chewbacca é um **wookie** (do Universo de Star Wars), então ele pode caminhar, “mwaaarhrhh”, etc. \n",
        "  ***\n",
        " \n",
        "\n",
        "Então! Era sobre isso que estávamos falando. A verdade é que esse tipo de caracterização acontece em cadeia. Existe uma classe que é um ancestral comum de todas as outras: a classe que, em algum momento primitivo do código, define que todo elemento será um  **`object`**. A partir dessa, todas as outras foram sendo definidas. Depois de algumas etapas evolutivas, temos, por exemplo, uma classe **`iterator`** que é mãe das classes **`list`**, **`string`** e  **`tuple`**. Perceba que todas carregam características muito parecidas (apesar de terem outras que se referem somente a elas mesmas, como a mutabilidade ou a falta dela). \n"
      ]
    },
    {
      "cell_type": "markdown",
      "metadata": {
        "id": "kuXyTTIEeHLI",
        "colab_type": "text"
      },
      "source": [
        "As classes que vimos até agora são as chamadas \"classes nativas\". Elas já nasceram junto com o Python. Você não precisa dizer quais são as caracterísicas de uma lista para a linguagem, ela já sabe!\n",
        "\n",
        "\n",
        "Essas estruturas nativas são muito úteis para programar, porém, às vezes, elas não são o suficiente para representar o que você gostaria de implementar no programa.\n",
        "\n",
        "Vamos dizer, por exemplo, que gostaríamos de manter um registro de vários animais de estimação; para isso, poderíamos criar uma lista que representasse um desses animais, em que o primeiro elemento da lista seria o nome do animal e o segundo elemento, sua espécie.\n",
        "\n",
        "Neste exemplo, o uso de listas seria uma forma de representação muito arbitrária e de pouca utilidade. Como poderemos ter certeza de qual elemento representa o animal e qual representa a espécie, além disso, teríamos que criar uma lista para cada animal que queremos registrar, e se tivermos muitos? Perceba que esse exemplo que queremos implementar não se encaixa em nenhum objeto que aprendemos até agora.. Mas e daí? O que podemos fazer?\n",
        "\n",
        "Falamos tudo isso para mostrar a importância das **classes** em Python, elas nos dão a possibilidade de criarmos **estruturas de dados mais complexos**, que podem registrar conteúdos arbitrários de funcionalidades únicas. Ou seja, quando temos dados que não se encaixam nos tipos de objetos padrão do programa (todos esses que vimos até agora), podemos criar uma classe que se ajusta ao nosso objetivo.\n",
        "\n",
        "Então, para criar o registro de animais de estimação que queremos, basta criarmos uma classe dos **`Bichanos`** que registra o nome e a espécie dos animaizinhos em atributos muito úteis chamados  \"nome\" e \"espécie\", respectivamente. Já vamos aprender como fazemos isso!"
      ]
    },
    {
      "cell_type": "markdown",
      "metadata": {
        "id": "hp0nQPCIf_rx",
        "colab_type": "text"
      },
      "source": [
        "##O QUE É UMA INSTÂNCIA?"
      ]
    },
    {
      "cell_type": "markdown",
      "metadata": {
        "id": "4T-puOFGKO_j",
        "colab_type": "text"
      },
      "source": [
        "Antes de aprendermos a criar uma classe, precisamos entender uma distinção importante. Uma classe é somente algo que contém uma estrutura definida - ou seja, ela especifica como os dados devem ser registrados e estruturados, porém, ela não preenche o conteúdo em si. No começo vimos que **`list`** é uma classe, ela define como são os objetos que a pertencem (uma sequência ordenada de objetos), porém ela não guarda nenhum conteúdo em si, isso é papel das instâncias de **`list`**, ou seja, as próprias listas.\n",
        "\n",
        "Por exemplo, a classe **`Bichanos`** pode dizer que o animal precisa ter um nome e uma espécie, mas não diz qual é o nome e a espécie do animal.\n",
        "\n",
        "Por isso a definição de **instância** é importante, ela é uma cópia específica de uma classe que mostra o conteúdo em si. Portanto, quando criamos o animalzinho **`totó`**, com nome \"Totó\" e espécie \"Cachorro\", então **`totó`** é uma instâcia da classe **`Bichanos`**.\n",
        "\n",
        "Ficou claro? Veja se esse exemplo o ajuda a entender melhor esses conceitos: o governo de um país tem um formulário de impostos padrão para todos os cidadãos do país preencherem. Todos precisam preencher o mesmo tipo de formulário, mas o conteúdo que cada pessoa preenche será diferente.\n",
        "Portanto, a **classe** seria o padrão do formulário: ele define qual conteúdo deve ser preenchido.  E as **instâncias** da classe seriam as cópias do formulário de cada pessoa com suas informações específicas: o conteúdo em si."
      ]
    },
    {
      "cell_type": "markdown",
      "metadata": {
        "id": "23eaxraXPTxE",
        "colab_type": "text"
      },
      "source": [
        "##CRIANDO UMA `class`"
      ]
    },
    {
      "cell_type": "markdown",
      "metadata": {
        "id": "jMMIwZMdF47h",
        "colab_type": "text"
      },
      "source": [
        "Vamos aprender como criar uma classe! É grandão, mas está tudo explicadinho em baixo, dá uma olhada:\n"
      ]
    },
    {
      "cell_type": "code",
      "metadata": {
        "id": "1kIJZcJeEbYY",
        "colab_type": "code",
        "colab": {}
      },
      "source": [
        "class Bichanos(object):\n",
        "  \n",
        "    def __init__(self, nome, espécie):\n",
        "        self.nome = nome\n",
        "        self.espécie = espécie\n",
        "        \n",
        "    def inserir_nome(self, nome):\n",
        "        self.nome = nome\n",
        "        \n",
        "    def inserir_espécie(self, espécie):\n",
        "        self.espécie = espécie\n",
        "        \n",
        "    def retornar_nome(self):\n",
        "        return self.nome\n",
        "      \n",
        "    def retornar_espécie(self):\n",
        "        return self.espécie\n",
        "    \n",
        "    def __str__(self):\n",
        "        return '{} é um(a) {}'.format(self.nome, self.espécie)\n",
        "        "
      ],
      "execution_count": 0,
      "outputs": []
    },
    {
      "cell_type": "markdown",
      "metadata": {
        "id": "UT0b9VTmQL2q",
        "colab_type": "text"
      },
      "source": [
        "1.   Para criar uma classe em Python, primeiramente, utilizamos a palavra reservada **`class`** para indicar que estamos criando uma nova classe.\n",
        "\n",
        "\n",
        "2.  Em seguida, nomeamos a classe - neste exemplo a chamamos de **`Bichanos`** -  e entre parênteses colocamos a palavra **`object`**, ela representa a classe que dá a herança à classe **`Bichanos`** (e a todas as outras classes do Python!). Veremos o conceito de herança mais tarde, por enquanto o que você precisa saber é que a palavra **`object`** é um objeto especial em Python que precisamos incluir nos parênteses para criar uma nova classe!"
      ]
    },
    {
      "cell_type": "markdown",
      "metadata": {
        "id": "F0bgqtbCSEJb",
        "colab_type": "text"
      },
      "source": [
        "3. Quando criamos um novo animal, precisamos especificar seu nome e espécie.\n",
        "O método  **`__init__`**  é uma função especial das classes no Python, que é sempre chamada no momento da criação de uma nova ** instância** de uma classe. Ela define os atributos necessários dentro da instância (neste caso, \"nome\" e \"espécie\"). \n",
        "\n",
        "\n",
        "4. Como todo método em Python, inicia-se com a palavra  **`def`**  e entre parênteses recebe-se os parâmetros da função. Percebeu o parâmetro diferente ali? O  **`self`**  é um parâmetro obrigatório para as funções em classes. Ele referencia a nova instância criada - lembra que cada classe pode possuir várias instâncias? Por isso, cada uma tem um **`self`** para identificação de instância (Obs: você pode escolher qualquer outro nome, mas como padrão dos programadores em Python usamos o **`self`**). Essa parte é confusa, mas com os exemplos vai ficar mais fácil!\n",
        "\n",
        "> Assim atribuímos ao **`self.nome = nome`**\n",
        "\n",
        ">Portanto, o nome atribuído na função receberá um novo **`self`**, ou seja, será registrado em uma nova instâcia.\n"
      ]
    },
    {
      "cell_type": "markdown",
      "metadata": {
        "id": "04lnBQaXJ34D",
        "colab_type": "text"
      },
      "source": [
        "***\n",
        "  Você deve ter percebido que definimos 3 parâmetros na função do método  **`__init__`** , mas, logo veremos que, quando criamos uma instância para a classe usando esse método, somente passamos 2 parâmetros para a função.\n",
        "  Por que não passamos o parâmetro **`self`** ? O Python reconhece o parâmetro especial **`self`**  e passa automaticamente para a função. Entâo, só precisamos nos preocupar com ele no momento da criação da classe!\n",
        "  \n",
        "  ***"
      ]
    },
    {
      "cell_type": "markdown",
      "metadata": {
        "id": "0YrYnlDmmiGA",
        "colab_type": "text"
      },
      "source": [
        "5. Temos mais algumas funções nesta classe que nós definimos:\n",
        "\n",
        "> A função **`inserir_nome()`** nos possibilita trocar o nome do **`self`**  já criado. (O mesmo acontece com a função **`inserir_espécie()`**).\n",
        "\n",
        "\n",
        "6. A próxima função que definimos é para retornar as instâncias da classe.\n",
        "\n",
        "> A função **`retornar_nome()`** vai receber a instância da classe que queremos checar e retornar o \"nome\" registrado nela.\n",
        "\n",
        "> A função **`retornar_espécie()`**, da mesma maneira, recebe uma instância e retorna a \"especie\".\n",
        "\n",
        "7.  O método **`__str__`** é uma outra função especial das classes (percebeu o duplo underline de novo?). Aqui estamos a usando para imprimir um texto através da classe.\n"
      ]
    },
    {
      "cell_type": "markdown",
      "metadata": {
        "id": "Exw3GvVFfKcP",
        "colab_type": "text"
      },
      "source": [
        "Agora podemos **adicionar uma instância** a essa classe!"
      ]
    },
    {
      "cell_type": "code",
      "metadata": {
        "id": "9r4_NokBiIkh",
        "colab_type": "code",
        "colab": {}
      },
      "source": [
        "a = Bichanos ('Spike', 'cachorro')  #criamos um novo self \"a\" e atribuimos os valores ao \"nome\" e \"especie\" respecivamente"
      ],
      "execution_count": 0,
      "outputs": []
    },
    {
      "cell_type": "markdown",
      "metadata": {
        "id": "uGoSCrIYmUmb",
        "colab_type": "text"
      },
      "source": [
        "E agora? Como ver os valores que estão registrados nas instâncias da classe? (Existem 2 maneiras de chamar os valores, olha só:)"
      ]
    },
    {
      "cell_type": "code",
      "metadata": {
        "id": "Zh5Zv86qiDpH",
        "colab_type": "code",
        "outputId": "3aad5631-c607-4490-fe09-0789c4c09e55",
        "colab": {
          "base_uri": "https://localhost:8080/",
          "height": 34
        }
      },
      "source": [
        "a.retornar_nome()  #aqui estamos pedindo para retornar o nome registrado na instância \"a\""
      ],
      "execution_count": 0,
      "outputs": [
        {
          "output_type": "execute_result",
          "data": {
            "text/plain": [
              "'Spike'"
            ]
          },
          "metadata": {
            "tags": []
          },
          "execution_count": 3
        }
      ]
    },
    {
      "cell_type": "code",
      "metadata": {
        "id": "3_UfTUVQhaaA",
        "colab_type": "code",
        "outputId": "5ac439ae-43f4-4bc3-8244-45548722acd5",
        "colab": {
          "base_uri": "https://localhost:8080/"
        }
      },
      "source": [
        "Bichanos.retornar_espécie(a)"
      ],
      "execution_count": 0,
      "outputs": [
        {
          "output_type": "execute_result",
          "data": {
            "text/plain": [
              "'cachorro'"
            ]
          },
          "metadata": {
            "tags": []
          },
          "execution_count": 4
        }
      ]
    },
    {
      "cell_type": "markdown",
      "metadata": {
        "id": "P_gIIqcWqy6Q",
        "colab_type": "text"
      },
      "source": [
        "\n",
        "  Perceba que as duas formas são equivalentes (a segunda não é tão usual, mas pode ser usada igualmente). Na primeira a instância é chamada, já na segunda a classe é chamada, por este motivo temos que especificar a instância entre parênteses."
      ]
    },
    {
      "cell_type": "markdown",
      "metadata": {
        "id": "1GfdnF-FR20i",
        "colab_type": "text"
      },
      "source": [
        "Podemos mudar o nome ou a espécie que demos antes!"
      ]
    },
    {
      "cell_type": "code",
      "metadata": {
        "id": "qqmR9W59R16t",
        "colab_type": "code",
        "colab": {}
      },
      "source": [
        "a.inserir_espécie('cão')  #aqui estamos mudando a espécie registrada na instância \"a\""
      ],
      "execution_count": 0,
      "outputs": []
    },
    {
      "cell_type": "code",
      "metadata": {
        "id": "e0-_VmjtT_5N",
        "colab_type": "code",
        "outputId": "43a4fc63-adf1-4bc1-dbb5-1bbd1c89bb0c",
        "colab": {
          "base_uri": "https://localhost:8080/",
          "height": 35
        }
      },
      "source": [
        "a.retornar_espécie()"
      ],
      "execution_count": 0,
      "outputs": [
        {
          "output_type": "execute_result",
          "data": {
            "text/plain": [
              "'cão'"
            ]
          },
          "metadata": {
            "tags": []
          },
          "execution_count": 7
        }
      ]
    },
    {
      "cell_type": "markdown",
      "metadata": {
        "id": "2jxLnz4essM5",
        "colab_type": "text"
      },
      "source": [
        "E aquela última função da classe? Podemos **imprimir o texto** que foi definido!"
      ]
    },
    {
      "cell_type": "code",
      "metadata": {
        "id": "QsIYJb_Csjq4",
        "colab_type": "code",
        "outputId": "3a82eeb1-3ab4-445b-9308-a87b6d427bf8",
        "colab": {
          "base_uri": "https://localhost:8080/",
          "height": 35
        }
      },
      "source": [
        "print(a)"
      ],
      "execution_count": 0,
      "outputs": [
        {
          "output_type": "stream",
          "text": [
            "Spike é um(a) cão\n"
          ],
          "name": "stdout"
        }
      ]
    },
    {
      "cell_type": "markdown",
      "metadata": {
        "id": "hITonBaZ_M4J",
        "colab_type": "text"
      },
      "source": [
        "##USANDO `classes`"
      ]
    },
    {
      "cell_type": "markdown",
      "metadata": {
        "id": "KLGRkqcS_hyx",
        "colab_type": "text"
      },
      "source": [
        "Vamos fazer mais alguns exemplos com a nossa classe dos **`Bichanos`**:"
      ]
    },
    {
      "cell_type": "code",
      "metadata": {
        "id": "04UvZywlskqX",
        "colab_type": "code",
        "colab": {}
      },
      "source": [
        "b = Bichanos('Mingau', 'gato')  #Criando uma nova instância da classe dos Bichanos"
      ],
      "execution_count": 0,
      "outputs": []
    },
    {
      "cell_type": "code",
      "metadata": {
        "id": "whD16SNYAekk",
        "colab_type": "code",
        "outputId": "dd787f65-63c6-43aa-ad01-6b07a3372b11",
        "colab": {
          "base_uri": "https://localhost:8080/",
          "height": 35
        }
      },
      "source": [
        "b.retornar_nome()"
      ],
      "execution_count": 0,
      "outputs": [
        {
          "output_type": "execute_result",
          "data": {
            "text/plain": [
              "'Mingau'"
            ]
          },
          "metadata": {
            "tags": []
          },
          "execution_count": 10
        }
      ]
    },
    {
      "cell_type": "code",
      "metadata": {
        "id": "9FiV5aAUAgxr",
        "colab_type": "code",
        "outputId": "58604c75-5be1-463f-c057-8c102ab4f587",
        "colab": {
          "base_uri": "https://localhost:8080/",
          "height": 35
        }
      },
      "source": [
        "b.retornar_espécie()"
      ],
      "execution_count": 0,
      "outputs": [
        {
          "output_type": "execute_result",
          "data": {
            "text/plain": [
              "'gato'"
            ]
          },
          "metadata": {
            "tags": []
          },
          "execution_count": 11
        }
      ]
    },
    {
      "cell_type": "code",
      "metadata": {
        "id": "wxgjRIlfAxdv",
        "colab_type": "code",
        "outputId": "f092aaa0-959f-42bb-cc34-1ccb5a633577",
        "colab": {
          "base_uri": "https://localhost:8080/",
          "height": 35
        }
      },
      "source": [
        "print(b)"
      ],
      "execution_count": 0,
      "outputs": [
        {
          "output_type": "stream",
          "text": [
            "Mingau é um(a) gato\n"
          ],
          "name": "stdout"
        }
      ]
    },
    {
      "cell_type": "markdown",
      "metadata": {
        "id": "htBsT3QMBFvH",
        "colab_type": "text"
      },
      "source": [
        "Mais um exemplo de classe:\n"
      ]
    },
    {
      "cell_type": "code",
      "metadata": {
        "id": "N4dGsrEiA4Yp",
        "colab_type": "code",
        "colab": {}
      },
      "source": [
        "class Amigos(object):\n",
        "\n",
        "    def __init__(self, nome):\n",
        "        self.nome = nome              #Definimos que apenas um self obrigatório para criar uma instância (o 'nome')\n",
        "    \n",
        "    def inserir_nome(self, nome):\n",
        "        self.nome = nome\n",
        "    def retornar_nome(self):\n",
        "        return self.nome\n",
        "      \n",
        "    def inserir_idade(self, idade):\n",
        "        self.idade = idade\n",
        "    def retornar_idade(self):\n",
        "        return self.idade\n",
        "      \n",
        "    def __str__(self):\n",
        "        return 'Amigo: {}. Idade: {}.'.format(self.nome, self.idade)                                                       "
      ],
      "execution_count": 0,
      "outputs": []
    },
    {
      "cell_type": "code",
      "metadata": {
        "id": "MIssrQpJCqGf",
        "colab_type": "code",
        "colab": {}
      },
      "source": [
        "paulinho = Amigos('Paulo')"
      ],
      "execution_count": 0,
      "outputs": []
    },
    {
      "cell_type": "code",
      "metadata": {
        "id": "qheWFk35Czsd",
        "colab_type": "code",
        "colab": {}
      },
      "source": [
        "paulinho.inserir_idade(19)"
      ],
      "execution_count": 0,
      "outputs": []
    },
    {
      "cell_type": "code",
      "metadata": {
        "id": "xxACBFGTC6tc",
        "colab_type": "code",
        "outputId": "f4dd7933-5089-4480-a832-7a7a1391cb93",
        "colab": {
          "base_uri": "https://localhost:8080/",
          "height": 35
        }
      },
      "source": [
        "paulinho.retornar_nome()"
      ],
      "execution_count": 0,
      "outputs": [
        {
          "output_type": "execute_result",
          "data": {
            "text/plain": [
              "'Paulo'"
            ]
          },
          "metadata": {
            "tags": []
          },
          "execution_count": 16
        }
      ]
    },
    {
      "cell_type": "code",
      "metadata": {
        "id": "YPvzUX-UDdIl",
        "colab_type": "code",
        "colab": {}
      },
      "source": [
        "paulinho.inserir_nome(paulinho.retornar_nome() + ' H')"
      ],
      "execution_count": 0,
      "outputs": []
    },
    {
      "cell_type": "code",
      "metadata": {
        "id": "2uGgwcTKDXXR",
        "colab_type": "code",
        "outputId": "b83d3ec4-d7ac-4e59-8729-295443a4ddf2",
        "colab": {
          "base_uri": "https://localhost:8080/",
          "height": 35
        }
      },
      "source": [
        "paulinho.retornar_nome()"
      ],
      "execution_count": 0,
      "outputs": [
        {
          "output_type": "execute_result",
          "data": {
            "text/plain": [
              "'Paulo H'"
            ]
          },
          "metadata": {
            "tags": []
          },
          "execution_count": 18
        }
      ]
    },
    {
      "cell_type": "code",
      "metadata": {
        "id": "Wbh2qknIDuy9",
        "colab_type": "code",
        "outputId": "209e57f3-7cec-494c-fcb8-f6687580cdb0",
        "colab": {
          "base_uri": "https://localhost:8080/",
          "height": 35
        }
      },
      "source": [
        "print(paulinho)"
      ],
      "execution_count": 0,
      "outputs": [
        {
          "output_type": "stream",
          "text": [
            "Amigo: Paulo H. Idade: 19.\n"
          ],
          "name": "stdout"
        }
      ]
    },
    {
      "cell_type": "markdown",
      "metadata": {
        "id": "B5LCnqtzcF-v",
        "colab_type": "text"
      },
      "source": [
        "## SUBCLASSES\n",
        "\n",
        "Às vezes, apenas definir uma única classe (como **`Bichanos`**), não é o suficiente. Por exemplo, alguns bichanos são cachorros e a maioria deles gosta de perseguir gatos, e talvez nós queiramos manter registrado quais cachorrinhos gostam ou não de perseguir os gatos. Pássaros também são bichanos, mas geralmente eles não gostam de perseguir gatos. Nós podemos fazer uma classe que seja um bichano, mas seja especificamente um cachorro. Para isso, podemos definir uma classe Cães **dentro** da classe **`Bichanos`**, e todo cachorrinho que registrarmos no nosso sistema vai ter todas as características de um bichano e mais as suas próprias!\n",
        "\n",
        "Perceba:"
      ]
    },
    {
      "cell_type": "code",
      "metadata": {
        "id": "DFl-VP8PcHP2",
        "colab_type": "code",
        "colab": {}
      },
      "source": [
        "class Cães(Bichanos): #Criamos a subclasse dos Cães, que herda as características da classe dos Bichanos (nos parênteses).\n",
        "\n",
        "    def __init__(self, nome, odeiam_gatos): #Inicializaremos a subclasse com os parâmetros: nome do cão e se odeia gatos ou não.\n",
        "        Bichanos.__init__(self, nome,'cão') #Aqui inicializaremos a classe dos Bichanos, assim podemos usar as funções dela.\n",
        "        self.odeiam_gatos = odeiam_gatos   #Esse é o diferencial da subclasse dos Cães para a classe Bichanos (se odeiam ou não gatos)\n",
        "\n",
        "    def odeiam_gatos(self):\n",
        "        return self.odeiam_gatos"
      ],
      "execution_count": 0,
      "outputs": []
    },
    {
      "cell_type": "code",
      "metadata": {
        "id": "VquKiZNKY45X",
        "colab_type": "code",
        "colab": {}
      },
      "source": [
        "c = Cães('Bingo', False)"
      ],
      "execution_count": 0,
      "outputs": []
    },
    {
      "cell_type": "code",
      "metadata": {
        "id": "uu_GBp8uakWG",
        "colab_type": "code",
        "outputId": "828f107d-b8ad-4ca1-e2b0-ce240bca434c",
        "colab": {
          "base_uri": "https://localhost:8080/",
          "height": 35
        }
      },
      "source": [
        "c.retornar_nome()  #Podemos usar essa função da classe Bichanos, já que inicializamos a classe Bichanos na subclasse Cães"
      ],
      "execution_count": 0,
      "outputs": [
        {
          "output_type": "execute_result",
          "data": {
            "text/plain": [
              "'Bingo'"
            ]
          },
          "metadata": {
            "tags": []
          },
          "execution_count": 22
        }
      ]
    },
    {
      "cell_type": "code",
      "metadata": {
        "id": "rKkzmwIrZM8C",
        "colab_type": "code",
        "outputId": "7b041817-3406-42b7-ad3d-584fb9eb18d7",
        "colab": {
          "base_uri": "https://localhost:8080/",
          "height": 35
        }
      },
      "source": [
        "print(c)  "
      ],
      "execution_count": 0,
      "outputs": [
        {
          "output_type": "stream",
          "text": [
            "Bingo é um(a) cão\n"
          ],
          "name": "stdout"
        }
      ]
    },
    {
      "cell_type": "markdown",
      "metadata": {
        "id": "COohAlijY4ME",
        "colab_type": "text"
      },
      "source": [
        "## CONCEITO DE HERANÇA"
      ]
    },
    {
      "cell_type": "markdown",
      "metadata": {
        "id": "jqLfUSI6ez-7",
        "colab_type": "text"
      },
      "source": [
        "Essa características que são \"passadas\" das classes para suas respectivas subclasses são o que chamamos de **herança**. Para falar um pouquinho sobre isso, vamos examinar melhor a diferença entre  **`Bichanos`** (classe) e **`Cães`** (subclasse):"
      ]
    },
    {
      "cell_type": "code",
      "metadata": {
        "id": "TYA7LV2RfRfV",
        "colab_type": "code",
        "colab": {}
      },
      "source": [
        "bichano = Bichanos('Lola', 'pássaro')\n",
        "cachorro = Cães('Totó', True)"
      ],
      "execution_count": 0,
      "outputs": []
    },
    {
      "cell_type": "markdown",
      "metadata": {
        "id": "0vc6hcx6f99Y",
        "colab_type": "text"
      },
      "source": [
        "Perceba que criamos o \"bichano\", uma nova instância da classe **`Bichanos`** e o \"cachorro\", uma nova instância da subclasse **`Cães`**."
      ]
    },
    {
      "cell_type": "markdown",
      "metadata": {
        "id": "M9B7K7pngbJ4",
        "colab_type": "text"
      },
      "source": [
        "Usaremos uma função especial nova: **`isintance`**.\n",
        "\n",
        "Ela checa se uma instância é a instância de uma determinada classe. Vamos ver:  "
      ]
    },
    {
      "cell_type": "code",
      "metadata": {
        "id": "Ooi5M3LiUgYB",
        "colab_type": "code",
        "outputId": "b9795a2c-314b-4cc3-a170-6fd5bc227dd6",
        "colab": {
          "base_uri": "https://localhost:8080/",
          "height": 35
        }
      },
      "source": [
        "isinstance(bichano, Bichanos)  #Um pássaro é um bichano"
      ],
      "execution_count": 0,
      "outputs": [
        {
          "output_type": "execute_result",
          "data": {
            "text/plain": [
              "True"
            ]
          },
          "metadata": {
            "tags": []
          },
          "execution_count": 25
        }
      ]
    },
    {
      "cell_type": "code",
      "metadata": {
        "id": "VbnFp0LwUj8G",
        "colab_type": "code",
        "outputId": "cd0f2f8d-c4d4-488b-f73f-f18f02250347",
        "colab": {
          "base_uri": "https://localhost:8080/",
          "height": 35
        }
      },
      "source": [
        "isinstance(cachorro, Bichanos)  #Um cachorro também é bichano, já que a subclasse Cães está dentro de Bichanos"
      ],
      "execution_count": 0,
      "outputs": [
        {
          "output_type": "execute_result",
          "data": {
            "text/plain": [
              "True"
            ]
          },
          "metadata": {
            "tags": []
          },
          "execution_count": 26
        }
      ]
    },
    {
      "cell_type": "code",
      "metadata": {
        "id": "euT2M-PlUljS",
        "colab_type": "code",
        "outputId": "6ae1915e-1cd4-4e47-dffa-fe961b5812e5",
        "colab": {
          "base_uri": "https://localhost:8080/",
          "height": 35
        }
      },
      "source": [
        "isinstance(cachorro, Cães) #Um cachorro é um cão"
      ],
      "execution_count": 0,
      "outputs": [
        {
          "output_type": "execute_result",
          "data": {
            "text/plain": [
              "True"
            ]
          },
          "metadata": {
            "tags": []
          },
          "execution_count": 27
        }
      ]
    },
    {
      "cell_type": "code",
      "metadata": {
        "id": "ZSWoAsT6UiaU",
        "colab_type": "code",
        "outputId": "d8ddfb36-13dd-40b7-ed9e-3813fd1602b4",
        "colab": {
          "base_uri": "https://localhost:8080/",
          "height": 35
        }
      },
      "source": [
        "isinstance(bichano, Cães) #Já bichano não é necessariamente um cão (como o bichano passáro). Isso acontece porque a subclasse divide a classe dos Bichanos em uma nova categoria de bichanos."
      ],
      "execution_count": 0,
      "outputs": [
        {
          "output_type": "execute_result",
          "data": {
            "text/plain": [
              "False"
            ]
          },
          "metadata": {
            "tags": []
          },
          "execution_count": 28
        }
      ]
    },
    {
      "cell_type": "markdown",
      "metadata": {
        "id": "8EhO1Fo8oAL7",
        "colab_type": "text"
      },
      "source": [
        "##EXERCÍCIOS\n",
        "\n",
        "1. Defina uma classe chamada 'Círculo', que pode ser construída a partir de um raio. A classe 'Círculo' tem um método que computa a sua área.\n",
        "\n",
        "DICA: você pode importar o valor de pi do módulo \"math\"."
      ]
    },
    {
      "cell_type": "code",
      "metadata": {
        "id": "yRXZsmRio134",
        "colab_type": "code",
        "colab": {}
      },
      "source": [
        ""
      ],
      "execution_count": 0,
      "outputs": []
    },
    {
      "cell_type": "markdown",
      "metadata": {
        "id": "sz4RtAiUpWPV",
        "colab_type": "text"
      },
      "source": [
        "2. Defina uma classe chamada 'Pessoa' e duas subclasses: 'Adulto' e 'Criança'. Todas as classes tem um método para retornar sua classificação, ou seja, irá imprimir adulto para a classe 'Adulto' e criança para a classe 'Criança'."
      ]
    },
    {
      "cell_type": "code",
      "metadata": {
        "id": "XeMrDgCgqe3w",
        "colab_type": "code",
        "colab": {}
      },
      "source": [
        ""
      ],
      "execution_count": 0,
      "outputs": []
    }
  ]
}