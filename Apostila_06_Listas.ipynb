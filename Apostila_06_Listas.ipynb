{
  "nbformat": 4,
  "nbformat_minor": 0,
  "metadata": {
    "colab": {
      "name": "Cópia de Apostila - 06. Listas",
      "version": "0.3.2",
      "provenance": [],
      "collapsed_sections": [
        "gSWgeN9BiBMt",
        "xxiKkxzWjWkO",
        "zyimCJ4ckdRU",
        "CsHnkxaclesu",
        "ulvO-HBNZ261"
      ]
    },
    "kernelspec": {
      "name": "python3",
      "display_name": "Python 3"
    }
  },
  "cells": [
    {
      "cell_type": "markdown",
      "metadata": {
        "id": "YRmrhR_zWuXE",
        "colab_type": "text"
      },
      "source": [
        "#LISTAS\n",
        "\n",
        "Até agora nós usamos a atribuição de variáveis para guardar informações básicas, como números, strings e valores booleanos.\n",
        "\n",
        "Podemos usar **`listas`** (`lists`) para armazenar informações mais complexas, inclusive objetos de diferentes tipos. Ou seja, podemos criar uma lista que possui números, strings e até outras listas.\n",
        "\n",
        "Em Python, representamos uma lista com uma sequência (cuja ordem importa) de objetos separados por vírgulas e dentro de um colchetes [   ]."
      ]
    },
    {
      "cell_type": "code",
      "metadata": {
        "id": "eNooOERaWb_d",
        "colab_type": "code",
        "colab": {}
      },
      "source": [
        "uma_lista = [1, 2, 3, 4]"
      ],
      "execution_count": 0,
      "outputs": []
    },
    {
      "cell_type": "markdown",
      "metadata": {
        "id": "kIwX_BQmZxiE",
        "colab_type": "text"
      },
      "source": [
        "Podemos armazenar vários tipos de objetos em uma só lista, e até mesmo outras listas:"
      ]
    },
    {
      "cell_type": "code",
      "metadata": {
        "id": "OJLUIhQrZXAZ",
        "colab_type": "code",
        "outputId": "fcc30094-a7c7-4054-b3a6-6e99ddf05393",
        "colab": {
          "base_uri": "https://localhost:8080/",
          "height": 35
        }
      },
      "source": [
        "lista_doida = [1, 3, 'oi', True, uma_lista]\n",
        "lista_doida"
      ],
      "execution_count": 0,
      "outputs": [
        {
          "output_type": "execute_result",
          "data": {
            "text/plain": [
              "[1, 3, 'oi', True, [4, 3, 2, 1]]"
            ]
          },
          "metadata": {
            "tags": []
          },
          "execution_count": 23
        }
      ]
    },
    {
      "cell_type": "markdown",
      "metadata": {
        "id": "wqHif667aqDr",
        "colab_type": "text"
      },
      "source": [
        "Ou criarmos uma lista vazia para usar depois:\n"
      ]
    },
    {
      "cell_type": "code",
      "metadata": {
        "id": "qAwKCT2pah4B",
        "colab_type": "code",
        "outputId": "dc93c48c-da46-4bff-c427-77f5bf81adf9",
        "colab": {
          "base_uri": "https://localhost:8080/",
          "height": 35
        }
      },
      "source": [
        "lista_vazia = []\n",
        "lista_vazia"
      ],
      "execution_count": 0,
      "outputs": [
        {
          "output_type": "execute_result",
          "data": {
            "text/plain": [
              "[]"
            ]
          },
          "metadata": {
            "tags": []
          },
          "execution_count": 20
        }
      ]
    },
    {
      "cell_type": "markdown",
      "metadata": {
        "id": "I2nPpqHsbgnB",
        "colab_type": "text"
      },
      "source": [
        "##ACESSANDO UMA `list`\n",
        "\n",
        "Para entender como a estrutura de uma lista funciona é preciso saber que cada um de seus elementos possui um **índice** (a posição que está na lista, exemplo: primeiro, segundo, ...), e SEMPRE começa no **zero**!\n",
        "\n",
        "Ou seja, para acessar o primeiro elemento de uma lista precisamos chamá-lo pelo nome da lista e, entre colchetes, seu índice:  **`lista[0]`**\n"
      ]
    },
    {
      "cell_type": "code",
      "metadata": {
        "id": "9-6C6nKRckjD",
        "colab_type": "code",
        "outputId": "8b645c70-c655-4a13-a730-d6a243a8a597",
        "colab": {
          "base_uri": "https://localhost:8080/",
          "height": 34
        }
      },
      "source": [
        "uma_lista"
      ],
      "execution_count": 0,
      "outputs": [
        {
          "output_type": "execute_result",
          "data": {
            "text/plain": [
              "[1, 2, 3, 4]"
            ]
          },
          "metadata": {
            "tags": []
          },
          "execution_count": 32
        }
      ]
    },
    {
      "cell_type": "code",
      "metadata": {
        "id": "d-Owy9aTcliw",
        "colab_type": "code",
        "outputId": "869c1f47-3555-4d36-e0ed-87cf1ce12cb7",
        "colab": {
          "base_uri": "https://localhost:8080/",
          "height": 35
        }
      },
      "source": [
        "uma_lista[0]"
      ],
      "execution_count": 0,
      "outputs": [
        {
          "output_type": "execute_result",
          "data": {
            "text/plain": [
              "1"
            ]
          },
          "metadata": {
            "tags": []
          },
          "execution_count": 6
        }
      ]
    },
    {
      "cell_type": "code",
      "metadata": {
        "id": "tqpOnw79coNZ",
        "colab_type": "code",
        "outputId": "f22e77c7-889e-40c9-acb6-cd7b09c7d3e6",
        "colab": {
          "base_uri": "https://localhost:8080/",
          "height": 35
        }
      },
      "source": [
        "uma_lista[2]"
      ],
      "execution_count": 0,
      "outputs": [
        {
          "output_type": "execute_result",
          "data": {
            "text/plain": [
              "3"
            ]
          },
          "metadata": {
            "tags": []
          },
          "execution_count": 7
        }
      ]
    },
    {
      "cell_type": "code",
      "metadata": {
        "id": "W2gNnlr4dM7Q",
        "colab_type": "code",
        "outputId": "cf597df6-59e1-4f2f-c5ca-ae9fd8efb70a",
        "colab": {
          "base_uri": "https://localhost:8080/",
          "height": 35
        }
      },
      "source": [
        "uma_lista[1:3] # Perceba que aqui ele foi da posição 1 até a 3, não incluindo a 3"
      ],
      "execution_count": 0,
      "outputs": [
        {
          "output_type": "execute_result",
          "data": {
            "text/plain": [
              "[2, 3]"
            ]
          },
          "metadata": {
            "tags": []
          },
          "execution_count": 8
        }
      ]
    },
    {
      "cell_type": "markdown",
      "metadata": {
        "id": "eDbPiZ89eEBk",
        "colab_type": "text"
      },
      "source": [
        "Podemos verificar o comprimento de uma lista, ou seja, o número de elementos que a compõe, utilizando a função <font color = \"orange\"><b>`len( )`</font></b>."
      ]
    },
    {
      "cell_type": "code",
      "metadata": {
        "id": "v74TAtBQdTU5",
        "colab_type": "code",
        "outputId": "93a3adc5-3d0a-473d-8f1a-506172ac8942",
        "colab": {
          "base_uri": "https://localhost:8080/",
          "height": 35
        }
      },
      "source": [
        "len(uma_lista)"
      ],
      "execution_count": 0,
      "outputs": [
        {
          "output_type": "execute_result",
          "data": {
            "text/plain": [
              "4"
            ]
          },
          "metadata": {
            "tags": []
          },
          "execution_count": 9
        }
      ]
    },
    {
      "cell_type": "markdown",
      "metadata": {
        "id": "mi-FkNWYX9tu",
        "colab_type": "text"
      },
      "source": [
        "E podemos incrementá-la de maneira bem simples:"
      ]
    },
    {
      "cell_type": "code",
      "metadata": {
        "id": "hd8_URe2X8xY",
        "colab_type": "code",
        "outputId": "003fd8ce-2cf8-494c-9110-5bf53a2adc4d",
        "colab": {
          "base_uri": "https://localhost:8080/",
          "height": 35
        }
      },
      "source": [
        "uma_lista"
      ],
      "execution_count": 0,
      "outputs": [
        {
          "output_type": "execute_result",
          "data": {
            "text/plain": [
              "[1, 2, 3, 4]"
            ]
          },
          "metadata": {
            "tags": []
          },
          "execution_count": 10
        }
      ]
    },
    {
      "cell_type": "code",
      "metadata": {
        "id": "YZjU4DrcYDjo",
        "colab_type": "code",
        "outputId": "c294e009-7080-44b2-e59d-39de35bbd837",
        "colab": {
          "base_uri": "https://localhost:8080/",
          "height": 35
        }
      },
      "source": [
        "uma_lista + [5, 6, 7]"
      ],
      "execution_count": 0,
      "outputs": [
        {
          "output_type": "execute_result",
          "data": {
            "text/plain": [
              "[1, 2, 3, 4, 5, 6, 7]"
            ]
          },
          "metadata": {
            "tags": []
          },
          "execution_count": 12
        }
      ]
    },
    {
      "cell_type": "code",
      "metadata": {
        "id": "-lX9OQmLYTIF",
        "colab_type": "code",
        "outputId": "eee26cef-f1e5-475b-9c2b-30f7cd85f554",
        "colab": {
          "base_uri": "https://localhost:8080/",
          "height": 171
        }
      },
      "source": [
        "uma_lista + 8 # É necessário que ambas as parcelas sejam listas"
      ],
      "execution_count": 0,
      "outputs": [
        {
          "output_type": "error",
          "ename": "TypeError",
          "evalue": "ignored",
          "traceback": [
            "\u001b[0;31m---------------------------------------------------------------------------\u001b[0m",
            "\u001b[0;31mTypeError\u001b[0m                                 Traceback (most recent call last)",
            "\u001b[0;32m<ipython-input-15-fdce2305d529>\u001b[0m in \u001b[0;36m<module>\u001b[0;34m()\u001b[0m\n\u001b[0;32m----> 1\u001b[0;31m \u001b[0muma_lista\u001b[0m \u001b[0;34m+\u001b[0m \u001b[0;36m8\u001b[0m \u001b[0;31m#é necessário que ambas as parcelas sejam listas\u001b[0m\u001b[0;34m\u001b[0m\u001b[0m\n\u001b[0m",
            "\u001b[0;31mTypeError\u001b[0m: can only concatenate list (not \"int\") to list"
          ]
        }
      ]
    },
    {
      "cell_type": "code",
      "metadata": {
        "id": "kgdZNBQAYWhp",
        "colab_type": "code",
        "outputId": "67370b11-399a-4b9c-d51c-5963314b7ab5",
        "colab": {
          "base_uri": "https://localhost:8080/",
          "height": 34
        }
      },
      "source": [
        "uma_lista + [8]"
      ],
      "execution_count": 0,
      "outputs": [
        {
          "output_type": "execute_result",
          "data": {
            "text/plain": [
              "[1, 2, 3, 4, 8]"
            ]
          },
          "metadata": {
            "tags": []
          },
          "execution_count": 3
        }
      ]
    },
    {
      "cell_type": "markdown",
      "metadata": {
        "id": "AfU_JWjH7UBh",
        "colab_type": "text"
      },
      "source": [
        "Perceba que somar uma lista à outra não irá alterar a lista original, apenas criar uma lista mesclada das duas anteriores. Para adicionar termos a uma lista podemos reescrever ela como sendo igual a soma, ou usar o comando **`append()`**, que veremos abaixo."
      ]
    },
    {
      "cell_type": "code",
      "metadata": {
        "id": "JqgEvJK86zwQ",
        "colab_type": "code",
        "outputId": "3ecfe50c-9e24-43a8-9b38-69e0d293c243",
        "colab": {
          "base_uri": "https://localhost:8080/",
          "height": 34
        }
      },
      "source": [
        "uma_lista = uma_lista + [8]\n",
        "uma_lista"
      ],
      "execution_count": 0,
      "outputs": [
        {
          "output_type": "execute_result",
          "data": {
            "text/plain": [
              "[1, 2, 3, 4, 8]"
            ]
          },
          "metadata": {
            "tags": []
          },
          "execution_count": 10
        }
      ]
    },
    {
      "cell_type": "markdown",
      "metadata": {
        "id": "Vu-bzThJfLk2",
        "colab_type": "text"
      },
      "source": [
        "##FUNÇÕES RESERVADAS PARA LISTAS\n"
      ]
    },
    {
      "cell_type": "markdown",
      "metadata": {
        "id": "9YcC84npfLEs",
        "colab_type": "text"
      },
      "source": [
        "### `Append( )`\n",
        "\n",
        "Usada para adicionar um novo elemento no final de uma lista."
      ]
    },
    {
      "cell_type": "code",
      "metadata": {
        "id": "ynkSVreHfu3q",
        "colab_type": "code",
        "colab": {}
      },
      "source": [
        "animais = ['cachorro', 'gato', 'passarinho']"
      ],
      "execution_count": 0,
      "outputs": []
    },
    {
      "cell_type": "code",
      "metadata": {
        "id": "KgzsmZ3if-TA",
        "colab_type": "code",
        "outputId": "ca904f05-3121-4b58-8477-1f3ee8f492cc",
        "colab": {
          "base_uri": "https://localhost:8080/",
          "height": 35
        }
      },
      "source": [
        "animais.append('peixe')\n",
        "animais"
      ],
      "execution_count": 0,
      "outputs": [
        {
          "output_type": "execute_result",
          "data": {
            "text/plain": [
              "['cachorro', 'gato', 'passarinho', 'peixe']"
            ]
          },
          "metadata": {
            "tags": []
          },
          "execution_count": 45
        }
      ]
    },
    {
      "cell_type": "markdown",
      "metadata": {
        "id": "9dYZjiU7g--j",
        "colab_type": "text"
      },
      "source": [
        "Podemos adicionar muitos elementos com maior agilidade utilizando uma estrutura de repetição, como o **`for( )`**:"
      ]
    },
    {
      "cell_type": "code",
      "metadata": {
        "id": "9jfURhjgSxaZ",
        "colab_type": "code",
        "outputId": "f523cee1-ee50-44ec-b692-4830acb8767a",
        "colab": {
          "base_uri": "https://localhost:8080/",
          "height": 34
        }
      },
      "source": [
        "numeros = []\n",
        "\n",
        "for number in range(15):\n",
        "  numeros.append(number)\n",
        "  \n",
        "print(numeros) "
      ],
      "execution_count": 0,
      "outputs": [
        {
          "output_type": "stream",
          "text": [
            "[0, 1, 2, 3, 4, 5, 6, 7, 8, 9, 10, 11, 12, 13, 14]\n"
          ],
          "name": "stdout"
        }
      ]
    },
    {
      "cell_type": "markdown",
      "metadata": {
        "id": "zGWE2dL8T2BE",
        "colab_type": "text"
      },
      "source": [
        "E você também pode chamar `number` de uma variável qualquer, como `i`:"
      ]
    },
    {
      "cell_type": "code",
      "metadata": {
        "id": "mLcsxqNkgd3z",
        "colab_type": "code",
        "outputId": "7ffca047-b9f7-4638-cc26-bb127b221914",
        "colab": {
          "base_uri": "https://localhost:8080/",
          "height": 34
        }
      },
      "source": [
        "numeros = []\n",
        "\n",
        "for i in range(15):\n",
        "  numeros.append(i)\n",
        "\n",
        "print(numeros)"
      ],
      "execution_count": 0,
      "outputs": [
        {
          "output_type": "stream",
          "text": [
            "[0, 1, 2, 3, 4, 5, 6, 7, 8, 9, 10, 11, 12, 13, 14]\n"
          ],
          "name": "stdout"
        }
      ]
    },
    {
      "cell_type": "markdown",
      "metadata": {
        "id": "gSWgeN9BiBMt",
        "colab_type": "text"
      },
      "source": [
        "### `Insert( )`\n",
        "\n",
        "Com ela, pode-se adicionar um novo elemento com uma **posição específica**. Neste caso, a função, além de receber o elemento a ser inserido, recebe o índice que deve ser dado ao elemento."
      ]
    },
    {
      "cell_type": "code",
      "metadata": {
        "id": "LQ0pdjQcivwu",
        "colab_type": "code",
        "outputId": "c3c26c54-d55a-4cd4-cc16-66e3c60b8d4d",
        "colab": {
          "base_uri": "https://localhost:8080/",
          "height": 35
        }
      },
      "source": [
        "numeros.insert(0, -1)  #Aqui o \"0\" representa o índice e o \"-1\" representa o elemento a ser adicionado.\n",
        "numeros"
      ],
      "execution_count": 0,
      "outputs": [
        {
          "output_type": "execute_result",
          "data": {
            "text/plain": [
              "[-1, 0, 1, 2, 3, 4, 5, 6, 7, 8, 9, 10, 11, 12, 13, 14]"
            ]
          },
          "metadata": {
            "tags": []
          },
          "execution_count": 67
        }
      ]
    },
    {
      "cell_type": "markdown",
      "metadata": {
        "id": "xxiKkxzWjWkO",
        "colab_type": "text"
      },
      "source": [
        "### `Pop( )`\n",
        "\n",
        "Serve para retirar elementos da lista. Se precisemos retirar um elemento específico podemos indicar o índice do elemento a ser retirado, caso o índice não seja específicado será retirado o último elemento da lista"
      ]
    },
    {
      "cell_type": "code",
      "metadata": {
        "id": "IrLRXM-QkJKJ",
        "colab_type": "code",
        "outputId": "7eab000f-6bb5-4cd8-c5de-5449b3b21075",
        "colab": {
          "base_uri": "https://localhost:8080/",
          "height": 34
        }
      },
      "source": [
        "animais"
      ],
      "execution_count": 0,
      "outputs": [
        {
          "output_type": "execute_result",
          "data": {
            "text/plain": [
              "['cachorro', 'gato', 'passarinho']"
            ]
          },
          "metadata": {
            "tags": []
          },
          "execution_count": 21
        }
      ]
    },
    {
      "cell_type": "code",
      "metadata": {
        "id": "R21DKz0IkLGx",
        "colab_type": "code",
        "outputId": "fd8f976e-cde5-4994-a97c-709b0464a464",
        "colab": {
          "base_uri": "https://localhost:8080/",
          "height": 34
        }
      },
      "source": [
        "animais.pop()\n",
        "animais"
      ],
      "execution_count": 0,
      "outputs": [
        {
          "output_type": "execute_result",
          "data": {
            "text/plain": [
              "['cachorro', 'gato']"
            ]
          },
          "metadata": {
            "tags": []
          },
          "execution_count": 22
        }
      ]
    },
    {
      "cell_type": "code",
      "metadata": {
        "id": "W4yBOklfkNuB",
        "colab_type": "code",
        "outputId": "02af6bfa-7512-419f-ee71-6f209bf3c0e3",
        "colab": {
          "base_uri": "https://localhost:8080/",
          "height": 34
        }
      },
      "source": [
        "animais.pop(1)  #Aqui retiramos o elemento com o índice \"1\", nesse caso era o \"gato\".\n",
        "animais"
      ],
      "execution_count": 0,
      "outputs": [
        {
          "output_type": "execute_result",
          "data": {
            "text/plain": [
              "['cachorro']"
            ]
          },
          "metadata": {
            "tags": []
          },
          "execution_count": 23
        }
      ]
    },
    {
      "cell_type": "markdown",
      "metadata": {
        "id": "zyimCJ4ckdRU",
        "colab_type": "text"
      },
      "source": [
        "### `Remove( )`\n",
        "\n",
        "Quando não é conhecido o índice do elemento, pode-se retirá-lo a partir do seu valor. Assim, vai ser retirado o primeiro item que corresponder com o valor recebido."
      ]
    },
    {
      "cell_type": "code",
      "metadata": {
        "id": "C9iYUSvTlC3o",
        "colab_type": "code",
        "outputId": "d7ed45be-47bb-42fd-df6f-f1e73f4e8aff",
        "colab": {
          "base_uri": "https://localhost:8080/",
          "height": 34
        }
      },
      "source": [
        "animais"
      ],
      "execution_count": 0,
      "outputs": [
        {
          "output_type": "execute_result",
          "data": {
            "text/plain": [
              "['cachorro', 'gato', 'passarinho']"
            ]
          },
          "metadata": {
            "tags": []
          },
          "execution_count": 25
        }
      ]
    },
    {
      "cell_type": "code",
      "metadata": {
        "id": "R20fgEgHlJHL",
        "colab_type": "code",
        "outputId": "d12b74fe-5027-4215-c854-e170666006e8",
        "colab": {
          "base_uri": "https://localhost:8080/",
          "height": 34
        }
      },
      "source": [
        "animais.remove('cachorro')\n",
        "animais"
      ],
      "execution_count": 0,
      "outputs": [
        {
          "output_type": "execute_result",
          "data": {
            "text/plain": [
              "['gato', 'passarinho']"
            ]
          },
          "metadata": {
            "tags": []
          },
          "execution_count": 26
        }
      ]
    },
    {
      "cell_type": "markdown",
      "metadata": {
        "id": "CsHnkxaclesu",
        "colab_type": "text"
      },
      "source": [
        "### `Reverse( )`\n",
        "É usada para deixar a função \"ao contrário\". O último item vai virar o primeiro, e o primeiro vai virar o último.\n"
      ]
    },
    {
      "cell_type": "code",
      "metadata": {
        "id": "9pkTJCUzZNQp",
        "colab_type": "code",
        "colab": {}
      },
      "source": [
        "uma_lista"
      ],
      "execution_count": 0,
      "outputs": []
    },
    {
      "cell_type": "code",
      "metadata": {
        "id": "lKKfP8fHZPoK",
        "colab_type": "code",
        "colab": {}
      },
      "source": [
        "uma_lista.reverse()\n",
        "uma_lista"
      ],
      "execution_count": 0,
      "outputs": []
    },
    {
      "cell_type": "markdown",
      "metadata": {
        "id": "ulvO-HBNZ261",
        "colab_type": "text"
      },
      "source": [
        "###`Count( )`\n",
        "Essa função conta a quantidade de vezes que um elemento aparece na lista em questão."
      ]
    },
    {
      "cell_type": "code",
      "metadata": {
        "id": "RdWnllvcaEDY",
        "colab_type": "code",
        "colab": {}
      },
      "source": [
        "outra_lista = [1, 1, 2, 2, 2, 3, 3, 3, 3]"
      ],
      "execution_count": 0,
      "outputs": []
    },
    {
      "cell_type": "code",
      "metadata": {
        "id": "GIOs6WKFai7f",
        "colab_type": "code",
        "outputId": "04e1a2cd-6859-47b5-c56a-977165caab0e",
        "colab": {
          "base_uri": "https://localhost:8080/",
          "height": 35
        }
      },
      "source": [
        "outra_lista.count(3)"
      ],
      "execution_count": 0,
      "outputs": [
        {
          "output_type": "execute_result",
          "data": {
            "text/plain": [
              "4"
            ]
          },
          "metadata": {
            "tags": []
          },
          "execution_count": 27
        }
      ]
    },
    {
      "cell_type": "markdown",
      "metadata": {
        "id": "uvtPsNH_a4Qh",
        "colab_type": "text"
      },
      "source": [
        "##LISTAS E STRINGS"
      ]
    },
    {
      "cell_type": "markdown",
      "metadata": {
        "id": "im5JtDMTbMLf",
        "colab_type": "text"
      },
      "source": [
        "Apesar de `strings` serem imutáveis, podemos criar listas a partir de `strings` e vice versa. "
      ]
    },
    {
      "cell_type": "code",
      "metadata": {
        "id": "wzhzU190bwxa",
        "colab_type": "code",
        "colab": {}
      },
      "source": [
        "curso = 'Engenharia de Produção'"
      ],
      "execution_count": 0,
      "outputs": []
    },
    {
      "cell_type": "code",
      "metadata": {
        "id": "nYEEw6CzcBlU",
        "colab_type": "code",
        "outputId": "14157027-03c8-450f-b577-d9efa4702ea7",
        "colab": {
          "base_uri": "https://localhost:8080/",
          "height": 35
        }
      },
      "source": [
        "curso.split()"
      ],
      "execution_count": 0,
      "outputs": [
        {
          "output_type": "execute_result",
          "data": {
            "text/plain": [
              "['Engenharia', 'de', 'Produção']"
            ]
          },
          "metadata": {
            "tags": []
          },
          "execution_count": 29
        }
      ]
    },
    {
      "cell_type": "markdown",
      "metadata": {
        "id": "F0takrTDhktF",
        "colab_type": "text"
      },
      "source": [
        "No exemplo anterior a função **`split()`** foi usada. Ela retorna as palavras da `string` separadas em elementos de uma lista. Como você pode notar, nada foi especificado entre os parênteses, por isso, o Python entende que deve utilizar como método de separação os espaços em branco entre as palavras. Você pode escolher o método de separação, por exemplo vírgulas, pontos, etc."
      ]
    },
    {
      "cell_type": "code",
      "metadata": {
        "id": "JHT69cC5c-7O",
        "colab_type": "code",
        "outputId": "9e24bf48-659b-489f-981b-69a073b9634e",
        "colab": {
          "base_uri": "https://localhost:8080/",
          "height": 35
        }
      },
      "source": [
        "'mecânica;civil;elétrica'.split(';') #Aqui especificamos o método de separação, os \";\""
      ],
      "execution_count": 0,
      "outputs": [
        {
          "output_type": "execute_result",
          "data": {
            "text/plain": [
              "['mecânica', 'civil', 'elétrica']"
            ]
          },
          "metadata": {
            "tags": []
          },
          "execution_count": 37
        }
      ]
    },
    {
      "cell_type": "markdown",
      "metadata": {
        "id": "uL87GA_LjYUD",
        "colab_type": "text"
      },
      "source": [
        "Podemos fazer o contrário também, ou seja, juntar uma lista em `string`. Vamos usar a função **`join()`**."
      ]
    },
    {
      "cell_type": "code",
      "metadata": {
        "id": "XF7b-iUWcMzz",
        "colab_type": "code",
        "colab": {}
      },
      "source": [
        "habilitacoes = ['mecânica', 'civil', 'elétrica']"
      ],
      "execution_count": 0,
      "outputs": []
    },
    {
      "cell_type": "code",
      "metadata": {
        "id": "QNYZHJTkckcQ",
        "colab_type": "code",
        "outputId": "35042a01-0f0e-41e1-9c31-1fcc347622f5",
        "colab": {
          "base_uri": "https://localhost:8080/",
          "height": 34
        }
      },
      "source": [
        "' '.join(habilitacoes)  #Estamos definindo um espaço em branco para conectar os elementos da lista."
      ],
      "execution_count": 0,
      "outputs": [
        {
          "output_type": "execute_result",
          "data": {
            "text/plain": [
              "'mecânica civil elétrica'"
            ]
          },
          "metadata": {
            "tags": []
          },
          "execution_count": 9
        }
      ]
    },
    {
      "cell_type": "code",
      "metadata": {
        "id": "bf7SXmyWcwG0",
        "colab_type": "code",
        "outputId": "11cbb1a9-0bf5-48bb-f4f1-d13257a6193c",
        "colab": {
          "base_uri": "https://localhost:8080/",
          "height": 34
        }
      },
      "source": [
        "' e '.join(habilitacoes)"
      ],
      "execution_count": 0,
      "outputs": [
        {
          "output_type": "execute_result",
          "data": {
            "text/plain": [
              "'mecânica e civil e elétrica'"
            ]
          },
          "metadata": {
            "tags": []
          },
          "execution_count": 10
        }
      ]
    },
    {
      "cell_type": "code",
      "metadata": {
        "id": "k0Uigz8zc1wl",
        "colab_type": "code",
        "outputId": "f14830ca-3641-4116-9fba-0a3c65ffc73d",
        "colab": {
          "base_uri": "https://localhost:8080/",
          "height": 68
        }
      },
      "source": [
        "print('\\n'.join(habilitacoes))"
      ],
      "execution_count": 0,
      "outputs": [
        {
          "output_type": "stream",
          "text": [
            "mecânica\n",
            "civil\n",
            "elétrica\n"
          ],
          "name": "stdout"
        }
      ]
    },
    {
      "cell_type": "markdown",
      "metadata": {
        "id": "Nz_qYxI0dbKT",
        "colab_type": "text"
      },
      "source": [
        "##MUTABILIDADE\n",
        "Diferente da `string`, a lista é um tipo de **objeto mutável**.\n",
        "\n",
        "Lembra do módulo passado, quando aprendemos que uma `string` não pode ser mudada? Dá uma olhadinha nesse exemplo:"
      ]
    },
    {
      "cell_type": "code",
      "metadata": {
        "id": "hP-MIBlLWcsI",
        "colab_type": "code",
        "outputId": "b8754ab7-a1e9-4570-f4c1-24bf45b26fa9",
        "colab": {
          "base_uri": "https://localhost:8080/",
          "height": 68
        }
      },
      "source": [
        "mensagem = 'BOM DIA!'     #Atribuimos essa string a variável \"mensagem\"\n",
        "print(mensagem) \n",
        "\n",
        "print(mensagem.lower())  #Lembre-se: quando aplicamos uma função a uma string, ela retorna uma NOVA string.\n",
        "\n",
        "mensagem = mensagem.lower()   #Portanto, faz sentido reatribuir a variável \"mensagem\" uma nova string!\n",
        "print(mensagem)"
      ],
      "execution_count": 0,
      "outputs": [
        {
          "output_type": "stream",
          "text": [
            "BOM DIA!\n",
            "bom dia!\n",
            "bom dia!\n"
          ],
          "name": "stdout"
        }
      ]
    },
    {
      "cell_type": "markdown",
      "metadata": {
        "id": "SpqG7b7yoSnd",
        "colab_type": "text"
      },
      "source": [
        "Agora, vamos ver a diferença entre `listas` e `strings`.\n",
        "\n",
        "Listas são MUTÁVEIS! Como vimos nesse módulo, **podemos alterar uma lista** usando as funções que aprendemos! Veja o mesmo exemplo usando uma lista:"
      ]
    },
    {
      "cell_type": "code",
      "metadata": {
        "id": "avY_CALbXL_h",
        "colab_type": "code",
        "outputId": "e1f1ae18-8b7b-43c6-e18d-9d41e70a884e",
        "colab": {
          "base_uri": "https://localhost:8080/",
          "height": 72
        }
      },
      "source": [
        "mensagem = ['Bom']  #Aqui temos nossa lista original, contendo apenas um elemento.\n",
        "print(mensagem)\n",
        "\n",
        "mensagem.append('dia') #Usamos a função \"append\" para acrescentar um novo elemento a MESMA LISTA, sem criar uma nova lista!\n",
        "print(mensagem)\n",
        "\n",
        "mensagem = mensagem.append('brasil')  #Portanto, não faz sentido querer atribuir a variável a lista que já temos.\n",
        "print(mensagem)                         "
      ],
      "execution_count": 0,
      "outputs": [
        {
          "output_type": "stream",
          "text": [
            "['Bom']\n",
            "['Bom', 'dia']\n",
            "None\n"
          ],
          "name": "stdout"
        }
      ]
    },
    {
      "cell_type": "markdown",
      "metadata": {
        "id": "V3U3u68vGR3T",
        "colab_type": "text"
      },
      "source": [
        "\n",
        "##EXERCÍCIOS\n",
        "1. Escreva um programa que intercale os elementos de duas listas.\n",
        "\n"
      ]
    },
    {
      "cell_type": "code",
      "metadata": {
        "id": "1xFlhTislOaU",
        "colab_type": "code",
        "colab": {}
      },
      "source": [
        ""
      ],
      "execution_count": 0,
      "outputs": []
    },
    {
      "cell_type": "markdown",
      "metadata": {
        "id": "AF5eDFlul4Sj",
        "colab_type": "text"
      },
      "source": [
        "2. Duas amigas estabeleceram o código abaixo para que suas mensagens não fossem lidas pelas\n",
        "demais pessoas.\n",
        "\n",
        "> (0 1 2 3 4 5 6 7 8 9 10 11 12 13 14 15 16 17 18 19 20 21 22 23 24 25 26)\n",
        "\n",
        "> (' ' a b c d e f g h i j k l m n o p q r s t u v w x y z)\n",
        "\n",
        "Observe que cada letra equivale a um número entre 1 e 26 e o espaço ao 0.\n",
        "Faça a função 'traduzir', que recebe uma lista com uma mensagem (m_secreta) e \"traduz\" a sequência armazenada em m_secreta de acordo com o código das amigas.\n",
        "Teste para m_secreta = [2,15,13,0,4,9,1];\n",
        "DICA: crie uma string com as letras na ordem do código"
      ]
    },
    {
      "cell_type": "code",
      "metadata": {
        "id": "I4WDUcUmm8iG",
        "colab_type": "code",
        "colab": {}
      },
      "source": [
        ""
      ],
      "execution_count": 0,
      "outputs": []
    }
  ]
}