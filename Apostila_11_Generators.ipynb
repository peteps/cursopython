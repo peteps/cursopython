{
  "nbformat": 4,
  "nbformat_minor": 0,
  "metadata": {
    "colab": {
      "name": "Cópia de Apostila - 11. Generators",
      "version": "0.3.2",
      "provenance": []
    },
    "kernelspec": {
      "name": "python3",
      "display_name": "Python 3"
    }
  },
  "cells": [
    {
      "cell_type": "markdown",
      "metadata": {
        "id": "sG8ADC8kyUct",
        "colab_type": "text"
      },
      "source": [
        "#GENERATORS\n",
        "\n",
        "Vamos ao último conceito desse material, os **`generators`**, também chamados de geradores. Em resumo, eles são uma forma simples de criar **iteradores** no Python! Mas calma aí, o que são **iteradores**? Não é tão difícil, já os usamos muitas vezes nesse curso, vamos dar uma recapitulada."
      ]
    },
    {
      "cell_type": "markdown",
      "metadata": {
        "id": "2cyPPd8_0OGm",
        "colab_type": "text"
      },
      "source": [
        "###ITERADORES\n",
        "\n",
        "Um **iterador**, em Python, é qualquer tipo de objeto que que pode ser usado com um **`loop for`**, ou seja, que é iterável (lembra quando vimos as estruturas de repetição?).\n",
        "\n",
        "Até aqui vimos que podemos iterar objetos como **`lists`**, **`strings`**, **`tuples`**, e outros."
      ]
    },
    {
      "cell_type": "code",
      "metadata": {
        "id": "myBsz7Z522_m",
        "colab_type": "code",
        "outputId": "a0416d4d-b55b-4c63-f88b-29f1b19b1d48",
        "colab": {
          "base_uri": "https://localhost:8080/",
          "height": 102
        }
      },
      "source": [
        "#iteração\n",
        "\n",
        "lista = [5, 4, 3, 2, 1]\n",
        "for x in lista:\n",
        "  print(x)"
      ],
      "execution_count": 0,
      "outputs": [
        {
          "output_type": "stream",
          "text": [
            "5\n",
            "4\n",
            "3\n",
            "2\n",
            "1\n"
          ],
          "name": "stdout"
        }
      ]
    },
    {
      "cell_type": "markdown",
      "metadata": {
        "id": "S_I1n7DV3XVX",
        "colab_type": "text"
      },
      "source": [
        "<font color=grey>\n",
        "  \n",
        "  ---\n",
        "  \n",
        "Observação:\n",
        "  \n",
        "O motivo porque esses objetos são iteráveis, é que eles têm algumas funções especiais, para iteradores, implementadas na constituição da sua classe de objetos. \n",
        "\n",
        "Qualquer classe que criarmos no Python pode ser definida para agir como um iterador, desde que essas funções especiais (que são tipo um protocolo) sejam implementadas na criação da classe. Mas não veremos muito a fundo isto aqui, mas sim uma maneira bem simples de criar iteradores através dos <font color=orange> `generators` </font>.\n",
        "  \n",
        "  ---\n",
        "  "
      ]
    },
    {
      "cell_type": "markdown",
      "metadata": {
        "id": "9r-dFdSL8HSH",
        "colab_type": "text"
      },
      "source": [
        "###Voltando aos `generators`\n",
        "\n",
        "Portanto, o **`generator`** é considerado uma função que permite você implementar uma **função que se comporta como um iterador**, ou seja, uma função que pode ser usada dentro do **`loop for`** (dentro da estrutura de repetição **`for`**).\n",
        "\n",
        "Então, o **`generator`** vai retornar um objeto iterador, para podermos iterar sobre esse objeto. Não entendeu? Vamos ver alguns exemplos de como criar um **`generator`**"
      ]
    },
    {
      "cell_type": "markdown",
      "metadata": {
        "id": "vndM2DvCA1LX",
        "colab_type": "text"
      },
      "source": [
        "____\n",
        "### SINTAXE\n",
        "​\n",
        "A sintaxe de um generator é bem parecida com a da função, composta por **nome**, **parâmetros**, **corpo** e uma palavra reservada **`yield`**:\n",
        "​\n",
        "​\n",
        ">`def  `  *  ` nome`*  `(paramêtros)`:\n",
        "​\n",
        ">>` [corpo - comandos a serem executados]`\n",
        "\n",
        ">>`yield`\n",
        "\n",
        "____\n"
      ]
    },
    {
      "cell_type": "markdown",
      "metadata": {
        "id": "NfbhwaLzCLEF",
        "colab_type": "text"
      },
      "source": [
        "É muito simples criar um gerador em Python. É tão fácil como definir uma função normal com declaração **`yield`** em vez de uma declaração **`return`** (nativa de funções).\n",
        "\n",
        "Se uma função contiver pelo menos uma instrução **`yield`**, ela se torna um  **`generator`** . Tanto  **`yield`**  quanto **`return`** retornarão algum valor da função.\n",
        "\n",
        "O que é importante lembrar é que, a instrução  **`return`**   termina uma função inteiramente, ou seja, **interrompe a função**. Essa é a diferença do **`return`** e do **`yield`**, a instrução **`yield`**  interrompe a função, retorna o resultado,  salva  os seus estados e, posteriormente, **continua a partir daí em chamadas sucessivas**.\n",
        "\n",
        "Veja um exemplo da diferença entre **`return`** e **`yield`**:"
      ]
    },
    {
      "cell_type": "code",
      "metadata": {
        "id": "2kZSg2Y7TiTE",
        "colab_type": "code",
        "outputId": "2ff5b1a5-67d8-42c5-a143-8016229c01b5",
        "colab": {
          "base_uri": "https://localhost:8080/",
          "height": 34
        }
      },
      "source": [
        "#uma função normal (return)\n",
        "\n",
        "def sequência(n):             #função que cria uma lista de números de 1 até n.\n",
        "    lista = []\n",
        "    for i in range(1, n + 1):\n",
        "        lista.append(i)\n",
        "    return lista\n",
        "  \n",
        "sequência (10)"
      ],
      "execution_count": 0,
      "outputs": [
        {
          "output_type": "execute_result",
          "data": {
            "text/plain": [
              "[1, 2, 3, 4, 5, 6, 7, 8, 9, 10]"
            ]
          },
          "metadata": {
            "tags": []
          },
          "execution_count": 2
        }
      ]
    },
    {
      "cell_type": "markdown",
      "metadata": {
        "id": "o7QfzWiwG8ZC",
        "colab_type": "text"
      },
      "source": [
        "Aqui colocamos o **`return`**  fora do **`loop for`** isso implica que quando o **`loop`** terminar o  **`return`**  termina a função e retorna o resultado do fim da iteração do **`for`**."
      ]
    },
    {
      "cell_type": "code",
      "metadata": {
        "id": "_uDV2hZ3V2pM",
        "colab_type": "code",
        "outputId": "01acf3da-bea3-4a78-ef80-7e18a2277ac6",
        "colab": {
          "base_uri": "https://localhost:8080/",
          "height": 34
        }
      },
      "source": [
        "def sequência(n):    #Parecida com a função anterior, porém mudamos o lugar do return (para exemplificar)\n",
        "    lista = []\n",
        "    for i in range(1, n + 1):\n",
        "        return i\n",
        "      \n",
        "sequência(10)"
      ],
      "execution_count": 0,
      "outputs": [
        {
          "output_type": "execute_result",
          "data": {
            "text/plain": [
              "1"
            ]
          },
          "metadata": {
            "tags": []
          },
          "execution_count": 3
        }
      ]
    },
    {
      "cell_type": "markdown",
      "metadata": {
        "id": "EXANsExtIE9P",
        "colab_type": "text"
      },
      "source": [
        "Viu o que aconteceu nesse exemplo? Colocamos o  **`return`** dentro da estrutura de repetição **`for`** , isso implica que a função será interrompida no momento que chegar no **`return`**. Portanto, mesmo que possam haver outras iterações, o comando **`return`** interrompe o **`loop`** na primeira iteração, retorna o valor 1 e termina a função."
      ]
    },
    {
      "cell_type": "markdown",
      "metadata": {
        "id": "Us75NzvsI2MI",
        "colab_type": "text"
      },
      "source": [
        "Agora vamos ver o que acontece com os **`generators`**."
      ]
    },
    {
      "cell_type": "code",
      "metadata": {
        "id": "p-lqPwDsV-pz",
        "colab_type": "code",
        "outputId": "f82d263c-2ee9-4995-f475-fa95bcbeb357",
        "colab": {
          "base_uri": "https://localhost:8080/",
          "height": 34
        }
      },
      "source": [
        "#criando um generator (yield)\n",
        "\n",
        "def sequência(n):    #percebeu como o generator é parecido com a função? O que muda é a palavrinha \"yield\"\n",
        "    lista = []\n",
        "    for i in range(1, n + 1):\n",
        "        yield i\n",
        "        \n",
        "sequência(10)"
      ],
      "execution_count": 0,
      "outputs": [
        {
          "output_type": "execute_result",
          "data": {
            "text/plain": [
              "<generator object sequência at 0x7fd38d1d6c50>"
            ]
          },
          "metadata": {
            "tags": []
          },
          "execution_count": 1
        }
      ]
    },
    {
      "cell_type": "markdown",
      "metadata": {
        "id": "RuSzZfUGKohg",
        "colab_type": "text"
      },
      "source": [
        "Criamos nosso **`generator`**! Percebeu o que aconteceu quando chamamos ele? Diferente da função, no momento da chamada ele não retornou nenhum valor, ou seja, não executou a função imediatamente, somente foi criado, para retornar precisamos executar a função no intepretador."
      ]
    },
    {
      "cell_type": "code",
      "metadata": {
        "id": "ibedMk-oKl1c",
        "colab_type": "code",
        "outputId": "7276c84e-4381-45c3-e7bd-59d04af621d0",
        "colab": {
          "base_uri": "https://localhost:8080/",
          "height": 187
        }
      },
      "source": [
        "um_generator = sequência(10)\n",
        "for i in um_generator:\n",
        "    print(i)"
      ],
      "execution_count": 0,
      "outputs": [
        {
          "output_type": "stream",
          "text": [
            "1\n",
            "2\n",
            "3\n",
            "4\n",
            "5\n",
            "6\n",
            "7\n",
            "8\n",
            "9\n",
            "10\n"
          ],
          "name": "stdout"
        }
      ]
    },
    {
      "cell_type": "markdown",
      "metadata": {
        "id": "ihhR7F2LMTLc",
        "colab_type": "text"
      },
      "source": [
        "Portanto, o generator, que possui o comando **`yield`** pode iterar no `loop`, cada vez retornando um valor do mesmo. Diferentemente da função com o comando **`return`**, que interrompe o **`loop`** e retorna apenas o primeiro valor."
      ]
    },
    {
      "cell_type": "markdown",
      "metadata": {
        "id": "bg6Gt_tHNPcW",
        "colab_type": "text"
      },
      "source": [
        "### Diferenças entre a função `generator` e uma função normal\n",
        "\n",
        "Um resuminho de como uma função de **`generator`** difere de uma função normal.\n",
        "\n",
        " * A função **`generator`** contém uma ou mais declarações   **`yield`**.\n",
        " * Quando chamado, ele retorna um objeto iterador, mas não inicia a execução imediatamente.\n",
        " * Depois que a função retorna, a função é pausada e o controle é transferido para quem a chamou.\n",
        " * As variáveis locais e seus estados são lembrados entre as chamadas sucessivas.\n",
        " * Finalmente, quando a função termina,  **`StopIteration`**  é gerado automaticamente em outras chamadas."
      ]
    },
    {
      "cell_type": "code",
      "metadata": {
        "id": "fQqir1B5WlZ9",
        "colab_type": "code",
        "colab": {}
      },
      "source": [
        "# Uma função generator simples\n",
        "\n",
        "def meu_generator():\n",
        "    n = 1\n",
        "    print('Isso será impresso primeiro')\n",
        "    yield n\n",
        "\n",
        "    n += 1\n",
        "    print('Isso será impresso em segundo')\n",
        "    yield n\n",
        "\n",
        "    n += 1\n",
        "    print('Isso será impresso por último')\n",
        "    yield n"
      ],
      "execution_count": 0,
      "outputs": []
    },
    {
      "cell_type": "code",
      "metadata": {
        "id": "dt5Bd3yoGuxp",
        "colab_type": "code",
        "colab": {}
      },
      "source": [
        "gerador = meu_generator()"
      ],
      "execution_count": 0,
      "outputs": []
    },
    {
      "cell_type": "markdown",
      "metadata": {
        "id": "gojySUshOcOY",
        "colab_type": "text"
      },
      "source": [
        "###`next()`\n",
        "\n",
        "Existe uma função especial para generators, o   **`next()`**, ele possibilita a iteração sobre os itens do **`generator`**."
      ]
    },
    {
      "cell_type": "code",
      "metadata": {
        "id": "e3-sVm_OObmv",
        "colab_type": "code",
        "outputId": "1a9c9efb-6f10-49d0-c0c2-3d36d703bca6",
        "colab": {
          "base_uri": "https://localhost:8080/",
          "height": 51
        }
      },
      "source": [
        "next(gerador)  #usando o next() executamos o primeiro \"yield\" do generator e a função foi pausada"
      ],
      "execution_count": 0,
      "outputs": [
        {
          "output_type": "stream",
          "text": [
            "Isso será impresso primeiro\n"
          ],
          "name": "stdout"
        },
        {
          "output_type": "execute_result",
          "data": {
            "text/plain": [
              "1"
            ]
          },
          "metadata": {
            "tags": []
          },
          "execution_count": 8
        }
      ]
    },
    {
      "cell_type": "code",
      "metadata": {
        "id": "zmt3ynkKOQst",
        "colab_type": "code",
        "outputId": "a4f1ee4f-b57c-4e98-8022-a2f14f136e65",
        "colab": {
          "base_uri": "https://localhost:8080/",
          "height": 51
        }
      },
      "source": [
        "next(gerador)  #executamos o segundo \"yield\""
      ],
      "execution_count": 0,
      "outputs": [
        {
          "output_type": "stream",
          "text": [
            "Isso será impresso em segundo\n"
          ],
          "name": "stdout"
        },
        {
          "output_type": "execute_result",
          "data": {
            "text/plain": [
              "2"
            ]
          },
          "metadata": {
            "tags": []
          },
          "execution_count": 9
        }
      ]
    },
    {
      "cell_type": "markdown",
      "metadata": {
        "id": "zrbNG_q9PaB4",
        "colab_type": "text"
      },
      "source": [
        "É importante perceber que o valor  variável `n` é lembrado entre cada chamada. Na segunda iteração, o   **`generator`**  usou o `n` que retornou e o usou para retornar o próximo valor. **Ao contrário das funções normais, as variáveis locais não são destruídas quando a função retorna**. "
      ]
    },
    {
      "cell_type": "code",
      "metadata": {
        "id": "w8dIcJEBPUbm",
        "colab_type": "code",
        "outputId": "a5d2c411-83a5-4a9f-8525-f1ab7c07263c",
        "colab": {
          "base_uri": "https://localhost:8080/",
          "height": 51
        }
      },
      "source": [
        "next(gerador)  #executamos o terceiro \"yield\" e o generator foi interrompido e finalizado."
      ],
      "execution_count": 0,
      "outputs": [
        {
          "output_type": "stream",
          "text": [
            "Isso será impresso por último\n"
          ],
          "name": "stdout"
        },
        {
          "output_type": "execute_result",
          "data": {
            "text/plain": [
              "3"
            ]
          },
          "metadata": {
            "tags": []
          },
          "execution_count": 10
        }
      ]
    },
    {
      "cell_type": "code",
      "metadata": {
        "id": "xwrR_UFJQeF1",
        "colab_type": "code",
        "outputId": "a1ee92a1-0093-44ce-886f-c6da392a8f35",
        "colab": {
          "base_uri": "https://localhost:8080/",
          "height": 163
        }
      },
      "source": [
        "next(gerador)  #Acabou a iteração do generator, não podemos mais usar o comando next()."
      ],
      "execution_count": 0,
      "outputs": [
        {
          "output_type": "error",
          "ename": "StopIteration",
          "evalue": "ignored",
          "traceback": [
            "\u001b[0;31m---------------------------------------------------------------------------\u001b[0m",
            "\u001b[0;31mStopIteration\u001b[0m                             Traceback (most recent call last)",
            "\u001b[0;32m<ipython-input-11-bf0cec4551ed>\u001b[0m in \u001b[0;36m<module>\u001b[0;34m()\u001b[0m\n\u001b[0;32m----> 1\u001b[0;31m \u001b[0mnext\u001b[0m\u001b[0;34m(\u001b[0m\u001b[0mgerador\u001b[0m\u001b[0;34m)\u001b[0m  \u001b[0;31m#Acabou a iteração do generator, não podemos mais usar o comando next().\u001b[0m\u001b[0;34m\u001b[0m\u001b[0m\n\u001b[0m",
            "\u001b[0;31mStopIteration\u001b[0m: "
          ]
        }
      ]
    },
    {
      "cell_type": "markdown",
      "metadata": {
        "id": "HMu6cPOTQNhf",
        "colab_type": "text"
      },
      "source": [
        "O objeto gerador pode ser iterado apenas uma vez. Ou seja, quando ele for finalizado não poderá ser chamado novamente.\n",
        "Para reiniciar o processo, precisamos criar outro objeto gerador."
      ]
    },
    {
      "cell_type": "code",
      "metadata": {
        "id": "ckX8VKtgP_Yu",
        "colab_type": "code",
        "colab": {}
      },
      "source": [
        "outro_gerador = meu_generator()  #Reiniciamos o generator, agora podemos reiterar sobre ele"
      ],
      "execution_count": 0,
      "outputs": []
    },
    {
      "cell_type": "markdown",
      "metadata": {
        "id": "KUqmNvPXtlTT",
        "colab_type": "text"
      },
      "source": [
        "Uma última coisa a notar é que podemos usar  **`generators`** com  **`loops`** diretamente.\n",
        "\n",
        "Isso porque, um  **`loop`**  pega um  **`iterator`**  e itera sobre ele usando a função  **`next()`**. Ele termina automaticamente quando **`StopIteration`**  é gerado."
      ]
    },
    {
      "cell_type": "code",
      "metadata": {
        "id": "wCegOqIQRUpj",
        "colab_type": "code",
        "outputId": "5c5743dd-10bb-4188-e7d4-629637f3d69b",
        "colab": {
          "base_uri": "https://localhost:8080/",
          "height": 119
        }
      },
      "source": [
        "for i in outro_gerador:  #Iteramos o generator com o loop for (mais uma vez ele foi finalizado, para reiterar precisamos o reiniciar).\n",
        "    print(i)"
      ],
      "execution_count": 0,
      "outputs": [
        {
          "output_type": "stream",
          "text": [
            "Isso será impresso primeiro\n",
            "1\n",
            "Isso será impresso em segundo\n",
            "2\n",
            "Isso será impresso por último\n",
            "3\n"
          ],
          "name": "stdout"
        }
      ]
    },
    {
      "cell_type": "markdown",
      "metadata": {
        "id": "iuMclnEsuqQr",
        "colab_type": "text"
      },
      "source": [
        "Podemos também guardar os valores do **`generator`** em uma lista."
      ]
    },
    {
      "cell_type": "code",
      "metadata": {
        "id": "sJUF7bDCt847",
        "colab_type": "code",
        "colab": {}
      },
      "source": [
        "mais_um_gerador = meu_generator()  #Reiniciando mais uma vez o generator para reiterar sobre ele."
      ],
      "execution_count": 0,
      "outputs": []
    },
    {
      "cell_type": "code",
      "metadata": {
        "id": "N52gOwFQu6xq",
        "colab_type": "code",
        "outputId": "cdac8bf9-c7a7-419c-cec1-dac47c485e69",
        "colab": {
          "base_uri": "https://localhost:8080/",
          "height": 68
        }
      },
      "source": [
        "lista_do_gerador = list(mais_um_gerador)"
      ],
      "execution_count": 0,
      "outputs": [
        {
          "output_type": "stream",
          "text": [
            "Isso será impresso primeiro\n",
            "Isso será impresso em segundo\n",
            "Isso será impresso por último\n"
          ],
          "name": "stdout"
        }
      ]
    },
    {
      "cell_type": "code",
      "metadata": {
        "id": "4rUJNc5BvOOv",
        "colab_type": "code",
        "outputId": "723167ea-34af-4b1f-cabd-edcdae5c3631",
        "colab": {
          "base_uri": "https://localhost:8080/",
          "height": 34
        }
      },
      "source": [
        "lista_do_gerador"
      ],
      "execution_count": 0,
      "outputs": [
        {
          "output_type": "execute_result",
          "data": {
            "text/plain": [
              "[1, 2, 3]"
            ]
          },
          "metadata": {
            "tags": []
          },
          "execution_count": 19
        }
      ]
    },
    {
      "cell_type": "markdown",
      "metadata": {
        "id": "iAWQ4_NUvVF5",
        "colab_type": "text"
      },
      "source": [
        "Neste exemplo de criar uma lista do  **`generator`**, perceba que na lista só estão os valores de retorno (o que o  **`yield`** retornou para o gerador), já a instrução de \"printar\" não entrou na lista, já que não é o que o gerador retorna de fato. Por isso, no momento em que ele transformou em lista, o Python simplismente devolve as instruções adicionais (neste caso os \"prints\"). Mas isso é só um detalhe, não precisa se preocupar muito com isso agora! O importante é saber que podemos criar uma lista a partir dos valores retornados do **`yield`** de um **`generator`**."
      ]
    },
    {
      "cell_type": "markdown",
      "metadata": {
        "id": "oZRS7NhVxItK",
        "colab_type": "text"
      },
      "source": [
        "###`generator` Python com um *loop*\n",
        "O exemplo acima não tem muita utilidade, nós vimos apenas para ter uma ideia do que estava acontecendo por baixo dos panos com os  **`generator`**.\n",
        "\n",
        "Normalmente, as funções  **`generator`**  são implementadas com um **`loop`** e uma condição de terminação adequada. Vamos ver um exemplo de um  **`generator`** que inverte uma **`string`**."
      ]
    },
    {
      "cell_type": "code",
      "metadata": {
        "id": "j7w_VBaBvTrf",
        "colab_type": "code",
        "colab": {}
      },
      "source": [
        "def inverter_str(uma_string):    \n",
        "    n_letras = len(uma_string)     #o len() conta o número de letras da string - para podermos usar no range()\n",
        "    for i in range(n_letras - 1, -1, -1):   #usamos a função range() para obter o índice na ordem inversa usando o for loop. Pega a última letra e vai até a primeira.\n",
        "        yield uma_string[i]"
      ],
      "execution_count": 0,
      "outputs": []
    },
    {
      "cell_type": "code",
      "metadata": {
        "id": "8D2S4e4Dy4OM",
        "colab_type": "code",
        "outputId": "83eed079-3d49-4bb8-e570-96e1b2eb1134",
        "colab": {
          "base_uri": "https://localhost:8080/",
          "height": 153
        }
      },
      "source": [
        "for letra in inverter_str('Pyfriend'):\n",
        "    print(letra)"
      ],
      "execution_count": 0,
      "outputs": [
        {
          "output_type": "stream",
          "text": [
            "d\n",
            "n\n",
            "e\n",
            "i\n",
            "r\n",
            "f\n",
            "y\n",
            "P\n"
          ],
          "name": "stdout"
        }
      ]
    },
    {
      "cell_type": "markdown",
      "metadata": {
        "id": "9rbITMm4y3b6",
        "colab_type": "text"
      },
      "source": [
        "Lembrando que podemos usar os  **`generator`** não apenas com **`string`**, mas com outros tipos de objetos iteráveis (**`list`**, **`tuple`**)."
      ]
    },
    {
      "cell_type": "markdown",
      "metadata": {
        "id": "zRy4dcoTaVtq",
        "colab_type": "text"
      },
      "source": [
        "### `generator` e list compreehension\n",
        "\n",
        "A principal diferença entre uma **`list`** e um **`generator`**  é que, enquanto **`list`**  produz a lista inteira, o **`generator`**  produz um item por vez.\n",
        "\n",
        "Eles são meio preguiçosos (**lazy**), produzindo itens apenas quando solicitados. Por esse motivo, um **`generator`** é muito mais eficiente em termos de memória do que uma  **`list`**  equivalente. Ou seja, **uma lista ocupa muito mais espaço na memória do que uma gerador**."
      ]
    },
    {
      "cell_type": "code",
      "metadata": {
        "id": "LVDB0uHkZ2xk",
        "colab_type": "code",
        "outputId": "a31b2abe-4c89-446f-c931-091b0c474afd",
        "colab": {
          "base_uri": "https://localhost:8080/",
          "height": 34
        }
      },
      "source": [
        "# list\n",
        "lista = [i for i in range(10)]\n",
        "lista"
      ],
      "execution_count": 0,
      "outputs": [
        {
          "output_type": "execute_result",
          "data": {
            "text/plain": [
              "[0, 1, 2, 3, 4, 5, 6, 7, 8, 9]"
            ]
          },
          "metadata": {
            "tags": []
          },
          "execution_count": 24
        }
      ]
    },
    {
      "cell_type": "code",
      "metadata": {
        "id": "RFglgLGh6SWq",
        "colab_type": "code",
        "outputId": "228de0fa-08a7-47fc-b2a1-c3a76b140dc9",
        "colab": {
          "base_uri": "https://localhost:8080/",
          "height": 34
        }
      },
      "source": [
        "# generator\n",
        "gerador = (i for i in range(10))\n",
        "gerador"
      ],
      "execution_count": 0,
      "outputs": [
        {
          "output_type": "execute_result",
          "data": {
            "text/plain": [
              "<generator object <genexpr> at 0x7f5653179db0>"
            ]
          },
          "metadata": {
            "tags": []
          },
          "execution_count": 26
        }
      ]
    },
    {
      "cell_type": "code",
      "metadata": {
        "id": "HAdXyG6t6y3F",
        "colab_type": "code",
        "outputId": "9d636000-b857-4015-b340-812433091f68",
        "colab": {
          "base_uri": "https://localhost:8080/",
          "height": 187
        }
      },
      "source": [
        "for i in gerador:\n",
        "    print(i)"
      ],
      "execution_count": 0,
      "outputs": [
        {
          "output_type": "stream",
          "text": [
            "0\n",
            "1\n",
            "2\n",
            "3\n",
            "4\n",
            "5\n",
            "6\n",
            "7\n",
            "8\n",
            "9\n"
          ],
          "name": "stdout"
        }
      ]
    },
    {
      "cell_type": "markdown",
      "metadata": {
        "id": "Aqy5JB4-7JMW",
        "colab_type": "text"
      },
      "source": [
        "### Representação de um Fluxo Infinito\n",
        "\n",
        "Tá, nós já entendemos como os  **`generator`** funcionam, mas pra quê eles servem? Uma das funções dos geradores é que eles são excelentes meios para representar um fluxo infinito de dados. Fluxos infinitos não podem ser armazenados na memória, pensa se quisermos armazenar todos os números pares? São infinitos! Não dá para armazená-los, em uma lista de todos os números pares, por exemplo, na memória.\n",
        "\n",
        "Mas, dado que os  **`generator`** produzem apenas um item por vez, ele pode representar um fluxo infinito de dados. Podemos usar um gerador que represente todos os números pares! Olha esse exemplo:\n"
      ]
    },
    {
      "cell_type": "code",
      "metadata": {
        "id": "lGBVG2vj65Wf",
        "colab_type": "code",
        "colab": {}
      },
      "source": [
        "def números_pares():\n",
        "    n = 0\n",
        "    while True:\n",
        "        yield n\n",
        "        n += 2"
      ],
      "execution_count": 0,
      "outputs": []
    },
    {
      "cell_type": "code",
      "metadata": {
        "id": "kNt8UTQ99Wtd",
        "colab_type": "code",
        "colab": {}
      },
      "source": [
        "gerador_pares = números_pares()"
      ],
      "execution_count": 0,
      "outputs": []
    },
    {
      "cell_type": "code",
      "metadata": {
        "id": "EWL0_oFd9dIM",
        "colab_type": "code",
        "outputId": "0b0a5e77-ba82-4849-c50e-c66f2904f86b",
        "colab": {
          "base_uri": "https://localhost:8080/",
          "height": 34
        }
      },
      "source": [
        "next(gerador_pares)"
      ],
      "execution_count": 0,
      "outputs": [
        {
          "output_type": "execute_result",
          "data": {
            "text/plain": [
              "0"
            ]
          },
          "metadata": {
            "tags": []
          },
          "execution_count": 31
        }
      ]
    },
    {
      "cell_type": "code",
      "metadata": {
        "id": "a9-up_wF9i_s",
        "colab_type": "code",
        "outputId": "df17d488-0005-4972-f470-771095d49ea6",
        "colab": {
          "base_uri": "https://localhost:8080/",
          "height": 34
        }
      },
      "source": [
        "next(gerador_pares)"
      ],
      "execution_count": 0,
      "outputs": [
        {
          "output_type": "execute_result",
          "data": {
            "text/plain": [
              "2"
            ]
          },
          "metadata": {
            "tags": []
          },
          "execution_count": 32
        }
      ]
    },
    {
      "cell_type": "code",
      "metadata": {
        "id": "bgw_s9VM9oxD",
        "colab_type": "code",
        "outputId": "b4418c0c-c181-4117-badf-63be0745dcef",
        "colab": {
          "base_uri": "https://localhost:8080/",
          "height": 34
        }
      },
      "source": [
        "next(gerador_pares)"
      ],
      "execution_count": 0,
      "outputs": [
        {
          "output_type": "execute_result",
          "data": {
            "text/plain": [
              "4"
            ]
          },
          "metadata": {
            "tags": []
          },
          "execution_count": 33
        }
      ]
    },
    {
      "cell_type": "code",
      "metadata": {
        "id": "OKEKpQQz9qT3",
        "colab_type": "code",
        "outputId": "498abad8-7ab2-4f8f-e790-cae6387f57e7",
        "colab": {
          "base_uri": "https://localhost:8080/",
          "height": 34
        }
      },
      "source": [
        "next(gerador_pares)"
      ],
      "execution_count": 0,
      "outputs": [
        {
          "output_type": "execute_result",
          "data": {
            "text/plain": [
              "6"
            ]
          },
          "metadata": {
            "tags": []
          },
          "execution_count": 34
        }
      ]
    },
    {
      "cell_type": "markdown",
      "metadata": {
        "id": "BbBylHI59VnC",
        "colab_type": "text"
      },
      "source": [
        "Percebeu, assim, podemos escrever uma função que gera dados infinitos sem termos problemas de memória!"
      ]
    },
    {
      "cell_type": "markdown",
      "metadata": {
        "id": "q26_lT4AGNjI",
        "colab_type": "text"
      },
      "source": [
        "##EXERCÍCIOS\n",
        "\n",
        "1. Escreva um programa usando um `generator` para retornar os números entre 0 e n que são, ambos, divisíveis por 5 e 7. Exemplo: se n=100, o programa deve retornar os números 0, 35, 70."
      ]
    },
    {
      "cell_type": "code",
      "metadata": {
        "id": "bQBHPdcXHL1X",
        "colab_type": "code",
        "colab": {}
      },
      "source": [
        ""
      ],
      "execution_count": 0,
      "outputs": []
    }
  ]
}